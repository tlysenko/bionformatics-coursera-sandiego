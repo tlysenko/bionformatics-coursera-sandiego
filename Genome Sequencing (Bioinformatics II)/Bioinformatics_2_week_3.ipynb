{
  "nbformat": 4,
  "nbformat_minor": 0,
  "metadata": {
    "colab": {
      "name": "Bioinformatics 2 - week 3.ipynb",
      "provenance": [],
      "mount_file_id": "1AfO6YibYgKYPJX_2PYfeZ09IQXW9a5nB",
      "authorship_tag": "ABX9TyNdemnGlsozGxpNLOGML3o6",
      "include_colab_link": true
    },
    "kernelspec": {
      "name": "python3",
      "display_name": "Python 3"
    }
  },
  "cells": [
    {
      "cell_type": "markdown",
      "metadata": {
        "id": "view-in-github",
        "colab_type": "text"
      },
      "source": [
        "<a href=\"https://colab.research.google.com/github/tlysenko/bionformatics-coursera-sandiego/blob/main/Genome%20Sequencing%20(Bioinformatics%20II)/Bioinformatics_2_week_3.ipynb\" target=\"_parent\"><img src=\"https://colab.research.google.com/assets/colab-badge.svg\" alt=\"Open In Colab\"/></a>"
      ]
    },
    {
      "cell_type": "markdown",
      "metadata": {
        "id": "o3z9FOE-JtLE"
      },
      "source": [
        "## Importing libraries"
      ]
    },
    {
      "cell_type": "code",
      "metadata": {
        "id": "_k3W72MnJlED"
      },
      "source": [
        "import numpy as np\n",
        "import pandas as pd\n",
        "\n",
        "from google.colab import files\n",
        "\n",
        "import itertools\n",
        "import random\n",
        "\n",
        "from collections import defaultdict\n",
        "\n",
        "import urllib.request\n"
      ],
      "execution_count": 68,
      "outputs": []
    },
    {
      "cell_type": "markdown",
      "metadata": {
        "id": "YkmniVSNN4H2"
      },
      "source": [
        "## 1.2.1 Translate an RNA string into an amino acid string.\n",
        "\n",
        "Input: An RNA string Pattern and the array GeneticCode.\n",
        "Output: The translation of Pattern into an amino acid string Peptide."
      ]
    },
    {
      "cell_type": "code",
      "metadata": {
        "colab": {
          "base_uri": "https://localhost:8080/",
          "height": 35
        },
        "id": "IVTuSqUNQgXl",
        "outputId": "9997378f-47d7-46d8-8bc9-7912dc2ceee4"
      },
      "source": [
        "def RNAtoAminoAcid(rna):\n",
        "  # Download the data\n",
        "  fpath = '/content/drive/MyDrive/Colab Notebooks/Bionformatics-coursera-sandiego/Course 2/RNA_codon_table_1.txt'\n",
        "  rnaCodons = dict()\n",
        "  with open(fpath) as f:\n",
        "    for line in f:\n",
        "      l = line.split('\\n')[0]\n",
        "      key = l.split(' ')[0]\n",
        "      value = l.split(' ')[1]\n",
        "      rnaCodons[key] = value\n",
        "\n",
        "  # *** main \n",
        "  geneticCode = ''\n",
        "\n",
        "  l = len(rna) \n",
        "  i = 0\n",
        "  while i != l:\n",
        "    code = rnaCodons[rna[i:i+3]]\n",
        "    if (code != ''):\n",
        "      geneticCode += code\n",
        "    i = i+3 \n",
        "    \n",
        "  return geneticCode\n",
        "  \n",
        "rna = 'AUGGCCAUGGCGCCCAGAACUGAGAUCAAUAGUACCCGUAUUAACGGGUGA'\n",
        "RNAtoAminoAcid(rna)"
      ],
      "execution_count": 14,
      "outputs": [
        {
          "output_type": "execute_result",
          "data": {
            "application/vnd.google.colaboratory.intrinsic+json": {
              "type": "string"
            },
            "text/plain": [
              "'MAMAPRTEINSTRING'"
            ]
          },
          "metadata": {
            "tags": []
          },
          "execution_count": 14
        }
      ]
    },
    {
      "cell_type": "markdown",
      "metadata": {
        "id": "pXmtRiuOTmUf"
      },
      "source": [
        "### Stepik submission"
      ]
    },
    {
      "cell_type": "code",
      "metadata": {
        "colab": {
          "resources": {
            "http://localhost:8080/nbextensions/google.colab/files.js": {
              "data": "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",
              "ok": true,
              "headers": [
                [
                  "content-type",
                  "application/javascript"
                ]
              ],
              "status": 200,
              "status_text": ""
            }
          },
          "base_uri": "https://localhost:8080/",
          "height": 89
        },
        "id": "O2Xn2M7XR4cQ",
        "outputId": "f71560df-74d0-4c5a-e44c-72f8c0726a19"
      },
      "source": [
        "uploaded = files.upload()\n",
        "\n",
        "for fn in uploaded.keys():\n",
        "  print('User uploaded file \"{name}\" with length {length} bytes'.format(\n",
        "      name=fn, length=len(uploaded[fn])))"
      ],
      "execution_count": 18,
      "outputs": [
        {
          "output_type": "display_data",
          "data": {
            "text/html": [
              "\n",
              "     <input type=\"file\" id=\"files-399f23a7-bc2d-43f9-bb42-38b9b254d04f\" name=\"files[]\" multiple disabled\n",
              "        style=\"border:none\" />\n",
              "     <output id=\"result-399f23a7-bc2d-43f9-bb42-38b9b254d04f\">\n",
              "      Upload widget is only available when the cell has been executed in the\n",
              "      current browser session. Please rerun this cell to enable.\n",
              "      </output>\n",
              "      <script src=\"/nbextensions/google.colab/files.js\"></script> "
            ],
            "text/plain": [
              "<IPython.core.display.HTML object>"
            ]
          },
          "metadata": {
            "tags": []
          }
        },
        {
          "output_type": "stream",
          "text": [
            "Saving dataset_96_4.txt to dataset_96_4.txt\n",
            "User uploaded file \"dataset_96_4.txt\" with length 8263 bytes\n"
          ],
          "name": "stdout"
        }
      ]
    },
    {
      "cell_type": "code",
      "metadata": {
        "id": "2WEOHCjWTiP2"
      },
      "source": [
        "with open(fn) as f:\n",
        "  rna = f.readlines()\n",
        "\n",
        "rna = rna[0].split('\\n')[0]"
      ],
      "execution_count": 24,
      "outputs": []
    },
    {
      "cell_type": "code",
      "metadata": {
        "colab": {
          "base_uri": "https://localhost:8080/",
          "height": 35
        },
        "id": "Uru9iOfmUCxy",
        "outputId": "eceda049-e932-4c49-e366-013b713e7f31"
      },
      "source": [
        "rna[:100]"
      ],
      "execution_count": 27,
      "outputs": [
        {
          "output_type": "execute_result",
          "data": {
            "application/vnd.google.colaboratory.intrinsic+json": {
              "type": "string"
            },
            "text/plain": [
              "'AUGGGUAGCAUGCAGGUCACGAAUCCCAAGCUGAUGAUACUUGUCCCUACCCUCCUUUCAGCAGGUCCUCCCCUGACCGGAUUGAGUCCCGCCCAUUUAG'"
            ]
          },
          "metadata": {
            "tags": []
          },
          "execution_count": 27
        }
      ]
    },
    {
      "cell_type": "code",
      "metadata": {
        "colab": {
          "base_uri": "https://localhost:8080/",
          "height": 171
        },
        "id": "I28rNfjIUDNi",
        "outputId": "4205b078-8928-4417-facd-d883578fa005"
      },
      "source": [
        "RNAtoAminoAcid(rna)"
      ],
      "execution_count": 26,
      "outputs": [
        {
          "output_type": "execute_result",
          "data": {
            "application/vnd.google.colaboratory.intrinsic+json": {
              "type": "string"
            },
            "text/plain": [
              "'MGSMQVTNPKLMILVPTLLSAGPPLTGLSPAHLVLMIVHRDWFRIGLRSRAYIHHEDSPASIWDAGNDTDQIRLAHWRSIDQLPCYKERQEQLPGPMRREAKMSYGNSCNLASAGSGLNFCAGGSSRGFRAGSKLYYNNGWRCFQVPRRRRKIDAVPRLASNKNWLQPTRRSQACCPGADDAPRQAGASALLYEFIQTAYRIPPDVLSCKTRYVWLTEGMCSRVSYLPQRKHLICTALPQEAIVTRDRSVEYRMAGSRYFVAALRSIGDERTSYLVVAAPHRLKSPALLEFSTIGDVSRGTRRVLKAYELKGFAAFAPICRPSFKLMHYPTRFVSETGDSLSSGQRRKDELRVATCGEKPAFNHIHVVDIFGRCTRVLNSVLCRGNRYTISRDASRRRDAISLPAWATCSIPSNPCYLAVKGIYFGSDIGIDWRLGRTAKFFQSNNYLKVNPLKNLGGEAASWNGHSTLRWTYTRRLQSGIQVMIVRGAAVPLTPERVSAALHNMRHGRSKNYLDNHIMCGVRVGQYLRYPRQEAQVSGRAPPESDSRCLRTPFDTRASMPLIVALPTSSANGMVLTGLVNGEFGLSRVEEATLQHRIYIFAGLEIEFLSNSMYTSVSIGSLQPFSRKTPDARILSSTWRYQVRMSTCKHTRVSRVILGDWLVGLCTTRLSSPQQSELLRCSSPELVKTNPLLCPLATAVDQRASPTCRYVRTCLYKVGSNPHVVPNALHFATDNTLCAFHRKYLQSVGSHVSDLLFNQGREPKRLREISNQPRFSLGLRGSPLGCDCSVGTPVATTRITPVKVSVRPCSLRPRLRKPCNNVTDVAGCQCKYIYEREAVNTRRSRDVCPIVLSTNLPYCWCVPVHLKPSHSRLPAYYGDDTGCACLQPLDAAGGHFSTMYRTHGRVSRAHPNGITGVGLLCHNELRRYAFIRGSSHTLRFVAESSSRWSSHELDFFPGCGIKSRVKVMPNLDCPTCERIADACPLASMWETALMYGAPGLRIKMLRYCYHTVLLCSTFVRLAISWKRNDRFGLLQVTRPRSPRAIRTTQTEKDIYSVPRSSTTSGRPGFLEARAVRYRLSNSIFKLHLKQIREGNTWPKGNWGVRAVVRGLSGEILAGCQHYSFACLGIRLSYGHVCYRHITYGTYFLGNWLGHWLFENIIKREGLPADSQIGWTDFAGGGPNSPCVGRIPCPLQSIGKLATCDHGAHYNPRFSSPAACRGAPQFLQFRRKALIQVCLTQDSPGLQPNYCTSSSKSRSAANREDTRNYARGLMFLKHLRRILNKASQWRIESKTSVVCCRQVLVAAHMFERCVSFLFNTWVNLLLVLIRLLHYHFSPWKLGAWGSYLSWILTGLLCCVRGNDTERALDKTNLYPRRNLMASEKMQLRGIALCLSATETRRSSLGVEGQSMGAIGGCSGGESLPNGFLPGIAQVQYAARQWWVPAAGHRCTLVSQARRKPSHSAGPISRIPVQECLASLPSGQSYTPPARIPCTFSSSAFLVSITNTVPVPYAFAKESNRLNCNTRLVGPVAVTGTLGWLDDKKQLFDHQSYLRLPLTLSPYNSKVHARITCAIEVLTVLKLLRVGGLLISWPCNPPLLADLLIIQSFLPRIGRECYGGTAVPSLSTLCPSSSCASSLLDESQMRDPPMSLYLPSPKYLDIEMYNQSLDHSGKDHCTFEAVSVGYEPWPNTWPLVWAPYGASAIVTMRFPLCSDSVTGSACWRRELAHYSRPSITGRSTGSYLLRKPRPVMPLQSRFNSHADRELLFHFVYGRSVTIADPGSTFMKVRNSLFIAHVLVSIAEYESATIRLMWFHRCTTRDCVLRINCKLGITCDDPAREIACLRWKYCTDKVSHRPDIAGIQGRTGNLNYIRAENNEIGTPRYDWTRSQGTERKNKRLYTARTALIMRSTVKATLGANNIHRPDVVTTTHFPTCGRRPRNLDPFIGPDTHPEIGLPTYRGRSIRLRGINLGAMVRTSGTAGMVARSRMTCLSVRLALHMVLRLRHVFGFPRSGPTSSTYREHQAPRVDSIAEMPMGWASTKHAIWPEMTGSLCFLCSQGPSLKGFSGDECNLARRARTLGPIWLPFPRYLQTHSWYRGSARLRDPSVVSALGLGLGCSVKHLSQIYSPSVQKHPELKRCSLRARSRRFVFPFRQGVHTTGPCPACLKALARCMIGRTIHLWVCVTRIPSEGQSPSSNCLVYVSTDPQLATCGDRSPPYLLMLCRDTTMHTLTLAVQDVTVSGKAVVFALMVFIPHSHFSYWRAFRARGLEPQGKGIYVLYGSMVPRLLNIPVRTPLYSRHKRPPRPYYSTASTERIICPLSCWLIGADIASSAWPIWASAFKDCMTCINVRQGRNRIRRPSNTAAYRPPHSVNRPIHPPSAPDTRPNTNSTTRDTVPKATLQGTGHDQGPVMSKDHRIEYWAGFSVEIHFLANDLGPNNYEPFLRARSMLHYEWGTRANGTARSAPIKVVILKVSSAVYRLRWAYYRTTIDSKTTSPQRYNGAPTYLIPCRELPMERRFCIENDLSWRDQSESVHLSSGVIAKCSLVPQVWVCSRGPDGAEVCTVWGSRLTLSLFPFGKLDKLVCLRWARLRKVTNMIGVRSGMPTRTHIRYSVLHGYSALSLDRENPAHRPAMVTCPCSFSYTGETMWGNGSAPGALCLGIKSWLDLACWIHADGLPSPTKERCSKGKHTILNLQRYKPSWIYRLVGAISPGIRLAPMSTSASTTGARRLGASTLGPYGIGRGSESGRPAGQG'"
            ]
          },
          "metadata": {
            "tags": []
          },
          "execution_count": 26
        }
      ]
    },
    {
      "cell_type": "markdown",
      "metadata": {
        "id": "Q-BYowiLatIh"
      },
      "source": [
        "## 1.2.2 Peptide Encoding Problem: Find substrings of a genome encoding a given amino acid sequence.\n",
        "\n",
        "Input: A DNA string Text, an amino acid string Peptide, and the array GeneticCode.\n",
        "\n",
        "Output: All substrings of Text encoding Peptide (if any such substrings exist)."
      ]
    },
    {
      "cell_type": "code",
      "metadata": {
        "colab": {
          "base_uri": "https://localhost:8080/"
        },
        "id": "OfGysrJ2B65a",
        "outputId": "d2ba617d-b5d6-4a0d-b678-bfc43d85412a"
      },
      "source": [
        "def PeptideEncodingSeq(dna, peptide):\n",
        "\n",
        "  def GetCodons():\n",
        "    fpath = '/content/drive/MyDrive/Colab Notebooks/Bionformatics-coursera-sandiego/Course 2/RNA_codon_table_1.txt'\n",
        "    rnaCodons = dict()\n",
        "    with open(fpath) as f:\n",
        "      for line in f:\n",
        "        l = line.split('\\n')[0]\n",
        "        key = l.split(' ')[0]\n",
        "        value = l.split(' ')[1]\n",
        "        rnaCodons[key] = value\n",
        "    return rnaCodons\n",
        "\n",
        "  def MakeRNA(dna):\n",
        "    rna = ''\n",
        "    for nucl in dna:\n",
        "      if nucl == 'T':\n",
        "        rna += 'U'\n",
        "      else:\n",
        "        rna +=nucl\n",
        "    return rna\n",
        "\n",
        "  def MakeRevComp(dna):\n",
        "    revcomp = ''\n",
        "    d = {'A':'T', 'T':'A', 'C':'G', 'G':'C'}\n",
        "    for nucl in dna[::-1]:\n",
        "      revcomp += d[nucl]\n",
        "    return revcomp\n",
        "\n",
        "  def GetIdx(rna):\n",
        "    def MakeRead(rnaRead, i_app):\n",
        "      M = len(peptide)\n",
        "      l = len(rnaRead) - len(peptide)*3 + 3\n",
        "      #print('L', l)\n",
        "      #print('M', M)\n",
        "  \n",
        "      \n",
        "      i = 0\n",
        "      idx = []\n",
        "      rnaCodons = GetCodons()\n",
        "      while i < l:\n",
        "                                     # i - index over 3-mers in rna \n",
        "        j = 0                        # j - index over comparing pept to current caret\n",
        "        while j < M:\n",
        "\n",
        "          #print('j',j)\n",
        "          #print('i', i)\n",
        "          if (peptide[j] != rnaCodons[rnaRead[(i+j*3): (i+3+j*3)]]):\n",
        "            break\n",
        "          j = j + 1 \n",
        "        if j == M:\n",
        "          idx.append(i)\n",
        "        i = i+3 \n",
        "\n",
        "      idx = [el + i_app for el in idx]\n",
        "      return idx\n",
        "\n",
        "    # *** Main GetIdx \n",
        "    idx = []\n",
        "    for i in range(0,3):\n",
        "      id = MakeRead(rna[i:], i)\n",
        "      if len(id) > 0:\n",
        "        for elem in id:\n",
        "          idx.append(elem)\n",
        "\n",
        "    return idx # indexes for 3 reads\n",
        "\n",
        "\n",
        "  # *** Main *** \n",
        "\n",
        "  \n",
        "  rna = MakeRNA(dna=dna)\n",
        "  Idx1 = GetIdx(rna)\n",
        " \n",
        "  revRNA = MakeRNA(MakeRevComp(dna))\n",
        "  Idx2 = GetIdx(revRNA)\n",
        "  # inversing indexes for revcomp\n",
        "  Idx2 = [len(dna) - len(peptide)*3 - elem for elem in Idx2]\n",
        "  \n",
        "  Idx = Idx1 + Idx2\n",
        "  patterns = []\n",
        "  for i in Idx:\n",
        "    i2 = i + len(peptide)*3\n",
        "    pattern = dna[i: i2]\n",
        "    patterns.append(pattern)\n",
        "  return patterns\n",
        "\n",
        "dna = 'ATGGCCATGGCCCCCAGAACTGAGATCAATAGTACCCGTATTAACGGGTGA'\n",
        "pept = 'MA'\n",
        "PeptideEncodingSeq(dna=dna, peptide=pept)"
      ],
      "execution_count": 7,
      "outputs": [
        {
          "output_type": "execute_result",
          "data": {
            "text/plain": [
              "['ATGGCC', 'ATGGCC', 'GGCCAT']"
            ]
          },
          "metadata": {
            "tags": []
          },
          "execution_count": 7
        }
      ]
    },
    {
      "cell_type": "markdown",
      "metadata": {
        "id": "GTa7oUUYb3u-"
      },
      "source": [
        "### Stepik submission"
      ]
    },
    {
      "cell_type": "code",
      "metadata": {
        "colab": {
          "resources": {
            "http://localhost:8080/nbextensions/google.colab/files.js": {
              "data": "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",
              "ok": true,
              "headers": [
                [
                  "content-type",
                  "application/javascript"
                ]
              ],
              "status": 200,
              "status_text": ""
            }
          },
          "base_uri": "https://localhost:8080/",
          "height": 89
        },
        "id": "0qbGTOfob6mG",
        "outputId": "298d2675-1d90-46da-fb80-0c222a486753"
      },
      "source": [
        "uploaded = files.upload()\n",
        "\n",
        "for fn in uploaded.keys():\n",
        "  print('User uploaded file \"{name}\" with length {length} bytes'.format(\n",
        "      name=fn, length=len(uploaded[fn])))"
      ],
      "execution_count": 60,
      "outputs": [
        {
          "output_type": "display_data",
          "data": {
            "text/html": [
              "\n",
              "     <input type=\"file\" id=\"files-97e58818-1157-43b8-ab7d-07afca78f385\" name=\"files[]\" multiple disabled\n",
              "        style=\"border:none\" />\n",
              "     <output id=\"result-97e58818-1157-43b8-ab7d-07afca78f385\">\n",
              "      Upload widget is only available when the cell has been executed in the\n",
              "      current browser session. Please rerun this cell to enable.\n",
              "      </output>\n",
              "      <script src=\"/nbextensions/google.colab/files.js\"></script> "
            ],
            "text/plain": [
              "<IPython.core.display.HTML object>"
            ]
          },
          "metadata": {
            "tags": []
          }
        },
        {
          "output_type": "stream",
          "text": [
            "Saving dataset_96_7.txt to dataset_96_7.txt\n",
            "User uploaded file \"dataset_96_7.txt\" with length 9335 bytes\n"
          ],
          "name": "stdout"
        }
      ]
    },
    {
      "cell_type": "code",
      "metadata": {
        "id": "fJhAK9KOb_Wy"
      },
      "source": [
        "with open(fn) as f:\n",
        "  dna = f.readline().split('\\n')[0]\n",
        "  pept = f.readline().split('\\n')[0]"
      ],
      "execution_count": 62,
      "outputs": []
    },
    {
      "cell_type": "code",
      "metadata": {
        "colab": {
          "base_uri": "https://localhost:8080/",
          "height": 35
        },
        "id": "D-0ztdN7cKLx",
        "outputId": "3befb447-a2ca-4fed-b2fa-2d6c203e2b14"
      },
      "source": [
        "pept"
      ],
      "execution_count": 65,
      "outputs": [
        {
          "output_type": "execute_result",
          "data": {
            "application/vnd.google.colaboratory.intrinsic+json": {
              "type": "string"
            },
            "text/plain": [
              "'MLLGVIQEQQ'"
            ]
          },
          "metadata": {
            "tags": []
          },
          "execution_count": 65
        }
      ]
    },
    {
      "cell_type": "code",
      "metadata": {
        "id": "Vyv0lGNkb7xc"
      },
      "source": [
        "c = PeptideEncodingSeq(dna=dna, peptide=pept)"
      ],
      "execution_count": 67,
      "outputs": []
    },
    {
      "cell_type": "code",
      "metadata": {
        "id": "G2S5oZhccVVP"
      },
      "source": [
        "with open('answ.txt', 'w') as f:\n",
        "  for line in c:\n",
        "    f.write(line + '\\n')"
      ],
      "execution_count": 70,
      "outputs": []
    },
    {
      "cell_type": "markdown",
      "metadata": {
        "id": "RtQwoxb0xpdN"
      },
      "source": [
        "### Extra dataset"
      ]
    },
    {
      "cell_type": "code",
      "metadata": {
        "id": "vYf5fctUxrE5"
      },
      "source": [
        "url = 'http://bioinformaticsalgorithms.com/data/extradatasets/antibiotics/peptide_encoding.txt'\n",
        "with urllib.request.urlopen(url) as f:\n",
        "    dt = f.read().decode('utf-8')"
      ],
      "execution_count": 2,
      "outputs": []
    },
    {
      "cell_type": "code",
      "metadata": {
        "colab": {
          "base_uri": "https://localhost:8080/"
        },
        "id": "yqdAqJuDx07-",
        "outputId": "e968f1d9-e4e2-4040-c934-72a6f8b5ac91"
      },
      "source": [
        "genomeE = dt.split('Input')[1].split('Output')[0].split('\\n')[1].split('\\r')[0]\n",
        "peptE = dt.split('Input')[1].split('Output')[0].split('\\n')[2].split('\\r')[0]\n",
        "\n",
        "check = dt.split('Input')[1].split('Output')[1].split('\\r\\n')\n",
        "check = check[1:-1]\n",
        "check"
      ],
      "execution_count": 3,
      "outputs": [
        {
          "output_type": "execute_result",
          "data": {
            "text/plain": [
              "['AAGGAAGTATTTGAGCCTCATTATTAC',\n",
              " 'AAAGAGGTGTTTGAACCTCATTACTAT',\n",
              " 'AAGGAGGTATTTGAACCCCACTATTAC',\n",
              " 'AAAGAAGTTTTCGAACCACATTATTAC',\n",
              " 'AAGGAAGTGTTTGAACCTCACTATTAT',\n",
              " 'AAAGAAGTTTTCGAGCCGCACTACTAC',\n",
              " 'AAGGAAGTATTCGAACCACATTACTAT',\n",
              " 'ATAATAATGCGGCTCGAATACTTCCTT',\n",
              " 'GTAGTAATGGGGCTCGAAAACCTCCTT',\n",
              " 'GTAGTAATGAGGTTCAAAAACCTCCTT',\n",
              " 'GTAGTAATGGGGTTCGAAGACTTCCTT',\n",
              " 'ATAATAGTGAGGCTCAAAAACTTCCTT',\n",
              " 'ATAGTAATGGGGTTCGAAGACTTCCTT',\n",
              " 'GTAGTAGTGCGGCTCAAAAACTTCCTT',\n",
              " 'ATAGTAATGAGGTTCGAAAACCTCTTT',\n",
              " 'ATAATAATGTGGCTCGAACACTTCTTT',\n",
              " 'GTAGTAATGGGGCTCAAACACCTCTTT',\n",
              " 'ATAGTAGTGAGGTTCGAAGACTTCCTT',\n",
              " 'GTAATAGTGCGGTTCAAAAACTTCCTT',\n",
              " 'ATAGTAGTGTGGTTCAAATACCTCCTT']"
            ]
          },
          "metadata": {
            "tags": []
          },
          "execution_count": 3
        }
      ]
    },
    {
      "cell_type": "code",
      "metadata": {
        "colab": {
          "base_uri": "https://localhost:8080/"
        },
        "id": "nhsKwbLizExd",
        "outputId": "d0bc2737-f616-43b3-884a-bdfcf6444e7b"
      },
      "source": [
        "answ = PeptideEncodingSeq(dna=genomeE, peptide=peptE)\n",
        "answ"
      ],
      "execution_count": 8,
      "outputs": [
        {
          "output_type": "execute_result",
          "data": {
            "text/plain": [
              "['AAGGAAGTATTTGAGCCTCATTATTAC',\n",
              " 'AAAGAGGTGTTTGAACCTCATTACTAT',\n",
              " 'AAGGAGGTATTTGAACCCCACTATTAC',\n",
              " 'AAAGAAGTTTTCGAACCACATTATTAC',\n",
              " 'AAGGAAGTGTTTGAACCTCACTATTAT',\n",
              " 'AAAGAAGTTTTCGAGCCGCACTACTAC',\n",
              " 'AAGGAAGTATTCGAACCACATTACTAT',\n",
              " 'ATAATAATGCGGCTCGAATACTTCCTT',\n",
              " 'GTAGTAATGGGGCTCGAAAACCTCCTT',\n",
              " 'GTAGTAATGAGGTTCAAAAACCTCCTT',\n",
              " 'GTAGTAATGGGGTTCGAAGACTTCCTT',\n",
              " 'ATAATAGTGAGGCTCAAAAACTTCCTT',\n",
              " 'ATAGTAATGGGGTTCGAAGACTTCCTT',\n",
              " 'GTAGTAGTGCGGCTCAAAAACTTCCTT',\n",
              " 'ATAGTAATGAGGTTCGAAAACCTCTTT',\n",
              " 'ATAATAATGTGGCTCGAACACTTCTTT',\n",
              " 'GTAGTAATGGGGCTCAAACACCTCTTT',\n",
              " 'ATAGTAGTGAGGTTCGAAGACTTCCTT',\n",
              " 'GTAATAGTGCGGTTCAAAAACTTCCTT',\n",
              " 'ATAGTAGTGTGGTTCAAATACCTCCTT']"
            ]
          },
          "metadata": {
            "tags": []
          },
          "execution_count": 8
        }
      ]
    },
    {
      "cell_type": "code",
      "metadata": {
        "colab": {
          "base_uri": "https://localhost:8080/"
        },
        "id": "f9QwmjMQz-7I",
        "outputId": "e9e65022-e12f-4541-99db-de7cd4e36018"
      },
      "source": [
        "set(answ) == set(check)"
      ],
      "execution_count": 9,
      "outputs": [
        {
          "output_type": "execute_result",
          "data": {
            "text/plain": [
              "True"
            ]
          },
          "metadata": {
            "tags": []
          },
          "execution_count": 9
        }
      ]
    },
    {
      "cell_type": "markdown",
      "metadata": {
        "id": "55rtA3gffUPu"
      },
      "source": [
        "## 1.2.3 Solve the Peptide Encoding Problem for Bacillus brevis"
      ]
    },
    {
      "cell_type": "code",
      "metadata": {
        "id": "JLBjQBQJgJiE"
      },
      "source": [
        "url = 'http://bioinformaticsalgorithms.com/data/realdatasets/Antibiotics/Bacillus_brevis.txt'\n",
        "\n",
        "with urllib.request.urlopen(url) as f:\n",
        "    g = f.read().decode('utf-8')"
      ],
      "execution_count": 10,
      "outputs": []
    },
    {
      "cell_type": "code",
      "metadata": {
        "id": "RypY7z8VgZXL"
      },
      "source": [
        "genomeBB = []\n",
        "for line in g.split('\\n'):\n",
        "  genomeBB.append(line.split('\\r')[0])\n",
        "\n",
        "dnaBB = ''\n",
        "for line in genomeBB:\n",
        "  dnaBB += line"
      ],
      "execution_count": 17,
      "outputs": []
    },
    {
      "cell_type": "code",
      "metadata": {
        "colab": {
          "base_uri": "https://localhost:8080/",
          "height": 35
        },
        "id": "KMxahn13h2UJ",
        "outputId": "685480ad-3db2-4167-83f3-95c9b4116400"
      },
      "source": [
        "dnaBB[:10]"
      ],
      "execution_count": 18,
      "outputs": [
        {
          "output_type": "execute_result",
          "data": {
            "application/vnd.google.colaboratory.intrinsic+json": {
              "type": "string"
            },
            "text/plain": [
              "'GGGTCTGTGG'"
            ]
          },
          "metadata": {
            "tags": []
          },
          "execution_count": 18
        }
      ]
    },
    {
      "cell_type": "code",
      "metadata": {
        "colab": {
          "base_uri": "https://localhost:8080/"
        },
        "id": "3W5XO-Reg-Lj",
        "outputId": "43fde7a9-9061-4451-a773-d52c8a9dc0da"
      },
      "source": [
        "PeptideEncodingSeq(dna=dnaBB, peptide='VKLFPWFNQY')"
      ],
      "execution_count": 19,
      "outputs": [
        {
          "output_type": "execute_result",
          "data": {
            "text/plain": [
              "[]"
            ]
          },
          "metadata": {
            "tags": []
          },
          "execution_count": 19
        }
      ]
    },
    {
      "cell_type": "markdown",
      "metadata": {
        "id": "G6s1pAmq3P_u"
      },
      "source": [
        "## 1.4.1. Cyclopeptide Sequencing Problem\n",
        "\n",
        "How many subpeptides does a cyclic peptide of length n have?"
      ]
    },
    {
      "cell_type": "code",
      "metadata": {
        "colab": {
          "base_uri": "https://localhost:8080/"
        },
        "id": "YK3nYuMS3PCp",
        "outputId": "416ca23c-aa5d-4c56-9feb-589aecae4950"
      },
      "source": [
        "#How many subpeptides does a cyclic peptide of length n have?\n",
        "n = 29573\n",
        "n*(n-1)"
      ],
      "execution_count": 38,
      "outputs": [
        {
          "output_type": "execute_result",
          "data": {
            "text/plain": [
              "874532756"
            ]
          },
          "metadata": {
            "tags": []
          },
          "execution_count": 38
        }
      ]
    },
    {
      "cell_type": "markdown",
      "metadata": {
        "id": "LFqq-nFPJhvL"
      },
      "source": [
        "## 1.4.2.1 Linear Spectrum\n",
        " \n",
        "\n"
      ]
    },
    {
      "cell_type": "code",
      "metadata": {
        "id": "LwxItGSPJrlQ"
      },
      "source": [
        "with open('/content/drive/MyDrive/Colab Notebooks/Bionformatics-coursera-sandiego/Course 2/integer_mass_table.txt') as f:\n",
        "  tb = f.readlines()\n",
        "massTable = dict()\n",
        "for line in tb:\n",
        "  massTable[line.split('\\n')[0].split(' ')[0]] = int(line.split('\\n')[0].split(' ')[1])"
      ],
      "execution_count": 69,
      "outputs": []
    },
    {
      "cell_type": "code",
      "metadata": {
        "colab": {
          "base_uri": "https://localhost:8080/"
        },
        "id": "fbSm4iT1JsvP",
        "outputId": "e758dfd0-50be-485b-ff6f-cc79cfc21d4d"
      },
      "source": [
        "massTable"
      ],
      "execution_count": 70,
      "outputs": [
        {
          "output_type": "execute_result",
          "data": {
            "text/plain": [
              "{'A': 71,\n",
              " 'C': 103,\n",
              " 'D': 115,\n",
              " 'E': 129,\n",
              " 'F': 147,\n",
              " 'G': 57,\n",
              " 'H': 137,\n",
              " 'I': 113,\n",
              " 'K': 128,\n",
              " 'L': 113,\n",
              " 'M': 131,\n",
              " 'N': 114,\n",
              " 'P': 97,\n",
              " 'Q': 128,\n",
              " 'R': 156,\n",
              " 'S': 87,\n",
              " 'T': 101,\n",
              " 'V': 99,\n",
              " 'W': 186,\n",
              " 'Y': 163}"
            ]
          },
          "metadata": {
            "tags": []
          },
          "execution_count": 70
        }
      ]
    },
    {
      "cell_type": "code",
      "metadata": {
        "id": "0o5V8ISWJj_O"
      },
      "source": [
        "# LinearSpectrum(Peptide, Alphabet, AminoAcidMass)\n",
        "#     PrefixMass(0) ← 0\n",
        "#     for i ← 1 to |Peptide|\n",
        "#         for every symbol s in Alphabet\n",
        "#             if s = i-th amino acid in Peptide\n",
        "#                 PrefixMass(i) ← PrefixMass(i − 1) + AminoAcidMass[s]\n",
        "#     LinearSpectrum ← a list consisting of the single integer 0\n",
        "#     for i ← 0 to |Peptide| − 1\n",
        "#         for j ← i + 1 to |Peptide|\n",
        "#             add PrefixMass(j) − PrefixMass(i) to LinearSpectrum\n",
        "#     return sorted list LinearSpectrum"
      ],
      "execution_count": null,
      "outputs": []
    },
    {
      "cell_type": "code",
      "metadata": {
        "colab": {
          "base_uri": "https://localhost:8080/"
        },
        "id": "t06fUdXE46ZC",
        "outputId": "93a5ddb0-fffe-4a4e-d6fe-4695660bc0a4"
      },
      "source": [
        "def LinearSpectrum(peptide, alphabet, aminoAcidMass):\n",
        "  \n",
        "  lPeptide = len(peptide)\n",
        "  prefixMass = [0] * (lPeptide) \n",
        "  for i in range(0, lPeptide):\n",
        "    for symbol in alphabet:\n",
        "      if symbol == peptide[i]:\n",
        "        prefixMass[i] = prefixMass[i-1] + aminoAcidMass[symbol]\n",
        "  prefixMass.insert(0,0)\n",
        "  linearSpectrum = [0]\n",
        "\n",
        "  c = 0\n",
        "  for i in range(0, len(prefixMass)-1):\n",
        "    for j in range(i+1, len(prefixMass)):\n",
        "      c +=1\n",
        "      linearSpectrum.append(prefixMass[j]-prefixMass[i])\n",
        "\n",
        "  linearSpectrum.sort()\n",
        "  return linearSpectrum\n",
        "\n",
        "peptide = 'NQEL'\n",
        "answ = [0, 113, 114, 128, 129, 242, 242, 257, 370, 371, 484]\n",
        "check = LinearSpectrum(peptide=peptide, alphabet=massTable.keys(), aminoAcidMass=massTable)\n",
        "\n",
        "print(answ == check)"
      ],
      "execution_count": 83,
      "outputs": [
        {
          "output_type": "stream",
          "text": [
            "True\n"
          ],
          "name": "stdout"
        }
      ]
    },
    {
      "cell_type": "markdown",
      "metadata": {
        "id": "eCXq23QFDgHA"
      },
      "source": [
        "### Stepik submission"
      ]
    },
    {
      "cell_type": "code",
      "metadata": {
        "colab": {
          "resources": {
            "http://localhost:8080/nbextensions/google.colab/files.js": {
              "data": "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",
              "ok": true,
              "headers": [
                [
                  "content-type",
                  "application/javascript"
                ]
              ],
              "status": 200,
              "status_text": ""
            }
          },
          "base_uri": "https://localhost:8080/",
          "height": 89
        },
        "id": "gpafDz_XC56G",
        "outputId": "512e0790-6384-4cbb-a03e-20cd5e44549d"
      },
      "source": [
        "uploaded = files.upload()\n",
        "\n",
        "for fn in uploaded.keys():\n",
        "  print('User uploaded file \"{name}\" with length {length} bytes'.format(\n",
        "      name=fn, length=len(uploaded[fn])))"
      ],
      "execution_count": 84,
      "outputs": [
        {
          "output_type": "display_data",
          "data": {
            "text/html": [
              "\n",
              "     <input type=\"file\" id=\"files-c2a24283-ab41-4a05-9f04-a890235766d1\" name=\"files[]\" multiple disabled\n",
              "        style=\"border:none\" />\n",
              "     <output id=\"result-c2a24283-ab41-4a05-9f04-a890235766d1\">\n",
              "      Upload widget is only available when the cell has been executed in the\n",
              "      current browser session. Please rerun this cell to enable.\n",
              "      </output>\n",
              "      <script src=\"/nbextensions/google.colab/files.js\"></script> "
            ],
            "text/plain": [
              "<IPython.core.display.HTML object>"
            ]
          },
          "metadata": {
            "tags": []
          }
        },
        {
          "output_type": "stream",
          "text": [
            "Saving dataset_4912_2.txt to dataset_4912_2.txt\n",
            "User uploaded file \"dataset_4912_2.txt\" with length 42 bytes\n"
          ],
          "name": "stdout"
        }
      ]
    },
    {
      "cell_type": "code",
      "metadata": {
        "colab": {
          "base_uri": "https://localhost:8080/",
          "height": 35
        },
        "id": "RWqBsF-tC53H",
        "outputId": "7682dc39-6cac-46ba-cd1b-8936e8c9d94d"
      },
      "source": [
        "with open(fn) as f:\n",
        "  peptide2 = f.readline().split('\\n')[0]\n",
        "peptide2"
      ],
      "execution_count": 85,
      "outputs": [
        {
          "output_type": "execute_result",
          "data": {
            "application/vnd.google.colaboratory.intrinsic+json": {
              "type": "string"
            },
            "text/plain": [
              "'DVCKIERYNTFNYFDIPWFVLWCGIWVKLPDHAMYMRAKTW'"
            ]
          },
          "metadata": {
            "tags": []
          },
          "execution_count": 85
        }
      ]
    },
    {
      "cell_type": "code",
      "metadata": {
        "colab": {
          "base_uri": "https://localhost:8080/"
        },
        "id": "p7RYrPXPC50K",
        "outputId": "d7d92f6e-a527-4e47-c05f-74d9abcbca7b"
      },
      "source": [
        "answ = LinearSpectrum(peptide=peptide2, alphabet=massTable.keys(), aminoAcidMass=massTable)\n",
        "print(answ[:10])"
      ],
      "execution_count": 87,
      "outputs": [
        {
          "output_type": "stream",
          "text": [
            "[0, 57, 71, 71, 97, 97, 99, 99, 99, 101]\n"
          ],
          "name": "stdout"
        }
      ]
    },
    {
      "cell_type": "code",
      "metadata": {
        "colab": {
          "base_uri": "https://localhost:8080/"
        },
        "id": "lYvvonFVEUW_",
        "outputId": "aef30a0b-e820-4fae-b4b1-3f2b37a7e2a6"
      },
      "source": [
        "s = ''\n",
        "for elem in answ:\n",
        "  s = s + str(elem) + ' '\n",
        "print(s.strip())"
      ],
      "execution_count": 91,
      "outputs": [
        {
          "output_type": "stream",
          "text": [
            "0 57 71 71 97 97 99 99 99 101 101 103 103 113 113 113 113 113 114 114 115 115 115 128 128 128 129 131 131 137 147 147 147 156 156 160 163 163 163 170 186 186 186 186 199 202 202 208 210 210 212 212 214 215 227 227 228 229 231 241 241 242 246 248 252 261 262 273 277 277 283 285 285 287 287 289 294 294 299 299 300 310 317 319 323 325 325 330 333 338 339 340 344 346 349 355 356 358 359 362 362 365 370 375 378 396 398 398 398 402 413 415 420 424 424 425 425 430 432 433 437 443 445 448 450 453 454 455 456 459 459 459 462 472 473 476 486 486 496 501 502 511 521 525 525 526 526 526 529 533 534 538 539 543 545 545 551 552 558 558 558 561 562 571 572 572 581 583 587 590 617 623 629 633 635 639 639 639 642 642 642 645 648 649 652 652 652 658 658 661 663 664 671 672 675 681 686 686 687 689 689 696 705 714 723 728 731 736 738 744 748 749 750 755 757 758 760 773 776 780 786 787 789 792 792 793 795 799 799 802 803 805 810 818 821 827 828 834 843 845 851 851 857 857 860 870 872 875 881 891 891 891 896 896 900 901 904 904 904 906 908 923 924 931 935 936 941 946 949 952 955 956 958 958 968 975 985 985 988 988 988 997 1001 1004 1004 1005 1006 1007 1011 1014 1017 1037 1044 1045 1051 1054 1056 1059 1064 1067 1067 1072 1077 1082 1082 1082 1084 1086 1087 1089 1098 1101 1101 1103 1103 1105 1106 1111 1114 1116 1120 1138 1148 1154 1159 1165 1177 1180 1181 1183 1185 1185 1190 1190 1195 1197 1197 1200 1200 1203 1204 1214 1216 1219 1220 1221 1229 1231 1234 1240 1242 1247 1253 1268 1274 1275 1287 1289 1294 1294 1297 1301 1306 1310 1313 1313 1328 1328 1329 1330 1333 1334 1341 1344 1347 1349 1350 1353 1363 1366 1367 1368 1371 1386 1390 1400 1405 1409 1410 1412 1414 1417 1429 1430 1431 1441 1441 1441 1444 1447 1460 1462 1462 1469 1475 1476 1480 1482 1484 1487 1499 1513 1514 1515 1518 1526 1527 1530 1530 1536 1540 1541 1542 1542 1543 1546 1556 1559 1575 1578 1583 1590 1598 1600 1607 1614 1616 1617 1627 1627 1627 1627 1639 1640 1640 1641 1644 1645 1649 1656 1662 1672 1677 1693 1693 1697 1699 1703 1706 1711 1724 1726 1728 1728 1730 1740 1742 1742 1745 1748 1753 1761 1763 1764 1768 1787 1792 1792 1800 1800 1806 1812 1819 1825 1827 1827 1830 1831 1837 1839 1839 1842 1855 1858 1862 1871 1879 1888 1889 1892 1895 1896 1900 1903 1905 1907 1911 1924 1939 1940 1943 1945 1950 1952 1952 1975 1976 1986 1986 1991 1997 1999 2001 2002 2002 2002 2005 2005 2013 2020 2038 2042 2047 2052 2057 2058 2067 2081 2086 2089 2089 2099 2099 2100 2104 2104 2108 2115 2117 2126 2133 2160 2161 2165 2165 2166 2170 2178 2183 2185 2185 2187 2188 2189 2198 2204 2214 2217 2232 2236 2244 2262 2264 2269 2275 2278 2279 2286 2286 2286 2290 2291 2298 2301 2303 2313 2321 2335 2335 2341 2345 2345 2351 2375 2376 2377 2393 2397 2399 2400 2403 2406 2414 2416 2422 2426 2434 2434 2448 2450 2450 2454 2464 2472 2472 2491 2498 2506 2514 2523 2527 2528 2531 2531 2544 2547 2549 2553 2563 2563 2563 2569 2585 2585 2585 2602 2620 2624 2628 2628 2634 2634 2638 2641 2645 2662 2676 2684 2691 2691 2699 2699 2700 2716 2716 2719 2730 2733 2737 2738 2739 2741 2749 2775 2794 2804 2804 2812 2827 2830 2831 2831 2836 2846 2847 2847 2848 2848 2853 2856 2862 2876 2879 2893 2901 2907 2927 2928 2940 2947 2951 2960 2961 2976 2977 2990 2990 2993 3003 3006 3008 3010 3016 3017 3041 3055 3057 3061 3074 3078 3089 3089 3089 3093 3114 3121 3124 3140 3153 3156 3166 3172 3186 3192 3192 3192 3202 3202 3217 3224 3227 3237 3241 3271 3280 3291 3299 3301 3303 3307 3309 3320 3330 3342 3351 3355 3355 3365 3372 3380 3406 3414 3419 3427 3427 3433 3438 3466 3479 3486 3489 3498 3509 3511 3518 3528 3530 3532 3534 3542 3551 3580 3599 3622 3626 3629 3640 3642 3645 3647 3649 3652 3674 3679 3713 3727 3727 3744 3744 3750 3753 3766 3782 3803 3805 3805 3828 3841 3853 3859 3876 3881 3881 3913 3916 3934 3942 3952 3961 3984 3996 4004 4014 4032 4044 4047 4067 4083 4090 4105 4128 4147 4160 4161 4175 4198 4203 4246 4261 4274 4278 4289 4291 4331 4361 4377 4390 4402 4402 4434 4447 4492 4503 4505 4530 4533 4576 4604 4631 4633 4648 4689 4719 4732 4734 4817 4833 4847 4920 4948 5019 5134\n"
          ],
          "name": "stdout"
        }
      ]
    },
    {
      "cell_type": "markdown",
      "metadata": {
        "id": "7gs-O9khZDG0"
      },
      "source": [
        "## 1.4.2.2 Generating Theoretical Spectrum Problem: Generate the theoretical spectrum of a cyclic peptide."
      ]
    },
    {
      "cell_type": "code",
      "metadata": {
        "colab": {
          "base_uri": "https://localhost:8080/"
        },
        "id": "Z0OtsTaxZDgQ",
        "outputId": "e1bae302-7ca1-4042-e87c-a80b849efe8a"
      },
      "source": [
        "def Cyclospectrum(peptide=peptide):\n",
        "  def LinearSpectrum(peptide, alphabet, aminoAcidMass):\n",
        "    \n",
        "    lPeptide = len(peptide)\n",
        "    prefixMass = [0] * (lPeptide) \n",
        "    for i in range(0, lPeptide):\n",
        "      for symbol in alphabet:\n",
        "        if symbol == peptide[i]:\n",
        "          prefixMass[i] = prefixMass[i-1] + aminoAcidMass[symbol]\n",
        "    prefixMass.insert(0,0)\n",
        "    linearSpectrum = [0]\n",
        "\n",
        "    c = 0\n",
        "    for i in range(0, len(prefixMass)-1):\n",
        "      for j in range(i+1, len(prefixMass)):\n",
        "        c +=1\n",
        "        linearSpectrum.append(prefixMass[j]-prefixMass[i])\n",
        "\n",
        "    linearSpectrum.sort()\n",
        "    return linearSpectrum\n",
        "\n",
        "  # Download the data\n",
        "  with open('/content/drive/MyDrive/Colab Notebooks/Bionformatics-coursera-sandiego/Course 2/integer_mass_table.txt') as f:\n",
        "    tb = f.readlines()\n",
        "  massTable = dict()\n",
        "  for line in tb:\n",
        "    massTable[line.split('\\n')[0].split(' ')[0]] = int(line.split('\\n')[0].split(' ')[1])\n",
        "  # *** Main ***  \n",
        "\n",
        "  part1 = LinearSpectrum(peptide=peptide[:-1], alphabet=massTable.keys(), aminoAcidMass=massTable)\n",
        "  pref1 = LinearSpectrum(peptide=peptide, alphabet=massTable.keys(), aminoAcidMass=massTable)\n",
        "  tMass=pref1[-1] # mass of the full element\n",
        "  part2 = [tMass - x for x in part1]\n",
        "\n",
        "  final = part1 + part2\n",
        "  final.sort()\n",
        "  return final\n",
        "\n",
        "Cyclospectrum(peptide='LEQN')"
      ],
      "execution_count": 129,
      "outputs": [
        {
          "output_type": "execute_result",
          "data": {
            "text/plain": [
              "[0, 113, 114, 128, 129, 227, 242, 242, 257, 355, 356, 370, 371, 484]"
            ]
          },
          "metadata": {
            "tags": []
          },
          "execution_count": 129
        }
      ]
    },
    {
      "cell_type": "markdown",
      "metadata": {
        "id": "Lc6Z7w9oZ6mK"
      },
      "source": [
        "### Stepik submission Cyclospectrum"
      ]
    },
    {
      "cell_type": "code",
      "metadata": {
        "colab": {
          "resources": {
            "http://localhost:8080/nbextensions/google.colab/files.js": {
              "data": "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",
              "ok": true,
              "headers": [
                [
                  "content-type",
                  "application/javascript"
                ]
              ],
              "status": 200,
              "status_text": ""
            }
          },
          "base_uri": "https://localhost:8080/",
          "height": 89
        },
        "id": "fr4fu3xBZIk8",
        "outputId": "3684476e-8f68-40f3-a22f-401b091e0e5a"
      },
      "source": [
        "uploaded = files.upload()\n",
        "\n",
        "for fn in uploaded.keys():\n",
        "  print('User uploaded file \"{name}\" with length {length} bytes'.format(\n",
        "      name=fn, length=len(uploaded[fn])))"
      ],
      "execution_count": 130,
      "outputs": [
        {
          "output_type": "display_data",
          "data": {
            "text/html": [
              "\n",
              "     <input type=\"file\" id=\"files-907f391e-2eab-41a3-aab9-df359e5713f2\" name=\"files[]\" multiple disabled\n",
              "        style=\"border:none\" />\n",
              "     <output id=\"result-907f391e-2eab-41a3-aab9-df359e5713f2\">\n",
              "      Upload widget is only available when the cell has been executed in the\n",
              "      current browser session. Please rerun this cell to enable.\n",
              "      </output>\n",
              "      <script src=\"/nbextensions/google.colab/files.js\"></script> "
            ],
            "text/plain": [
              "<IPython.core.display.HTML object>"
            ]
          },
          "metadata": {
            "tags": []
          }
        },
        {
          "output_type": "stream",
          "text": [
            "Saving dataset_98_4.txt to dataset_98_4.txt\n",
            "User uploaded file \"dataset_98_4.txt\" with length 13 bytes\n"
          ],
          "name": "stdout"
        }
      ]
    },
    {
      "cell_type": "code",
      "metadata": {
        "colab": {
          "base_uri": "https://localhost:8080/",
          "height": 35
        },
        "id": "Bxj97wN8ZSwO",
        "outputId": "bf94f9b0-3161-49b0-9b55-6b556bce5916"
      },
      "source": [
        "with open(fn) as f:\n",
        "  peptide3 = f.readline().split('\\n')[0]\n",
        "peptide3"
      ],
      "execution_count": 131,
      "outputs": [
        {
          "output_type": "execute_result",
          "data": {
            "application/vnd.google.colaboratory.intrinsic+json": {
              "type": "string"
            },
            "text/plain": [
              "'SESIERLFFCAH'"
            ]
          },
          "metadata": {
            "tags": []
          },
          "execution_count": 131
        }
      ]
    },
    {
      "cell_type": "code",
      "metadata": {
        "id": "Dd8B5aCOZVj8"
      },
      "source": [
        "answ = Cyclospectrum(peptide=peptide3)"
      ],
      "execution_count": 132,
      "outputs": []
    },
    {
      "cell_type": "code",
      "metadata": {
        "colab": {
          "base_uri": "https://localhost:8080/"
        },
        "id": "RbV4l_p7ZZ8i",
        "outputId": "bba49350-add2-4857-dcfc-e31b6ca60c3f"
      },
      "source": [
        "s = ''\n",
        "for elem in answ:\n",
        "  s = s + str(elem) + ' '\n",
        "print(s.strip())"
      ],
      "execution_count": 133,
      "outputs": [
        {
          "output_type": "stream",
          "text": [
            "0 71 87 87 103 113 113 129 129 137 147 147 156 174 200 208 216 216 224 242 250 260 269 285 294 295 303 311 321 329 329 353 397 398 398 398 407 416 416 424 440 458 458 468 485 510 511 511 527 545 545 545 553 563 581 598 605 614 614 624 658 666 674 682 692 692 701 718 727 727 737 745 753 761 795 805 805 814 821 838 856 866 874 874 874 892 908 908 909 934 951 961 961 979 995 1003 1003 1012 1021 1021 1021 1022 1066 1090 1090 1098 1108 1116 1124 1125 1134 1150 1159 1169 1177 1195 1203 1203 1211 1219 1245 1263 1272 1272 1282 1290 1290 1306 1306 1316 1332 1332 1348 1419\n"
          ],
          "name": "stdout"
        }
      ]
    },
    {
      "cell_type": "markdown",
      "metadata": {
        "id": "cm3M1-ZCcPiN"
      },
      "source": [
        "## Coursera Test"
      ]
    },
    {
      "cell_type": "markdown",
      "metadata": {
        "id": "dCzoa_6XcS75"
      },
      "source": [
        "### 2) Which of the following RNA strings could translate into the amino acid string PRTEIN? (Select all that apply.)\n",
        "\n"
      ]
    },
    {
      "cell_type": "code",
      "metadata": {
        "colab": {
          "base_uri": "https://localhost:8080/"
        },
        "id": "vnlqJ8l3UQ0H",
        "outputId": "2722a671-84c9-44b8-a271-1596afa6c4b8"
      },
      "source": [
        "rnas=['CCGAGGACCGAAAUCAAC',\n",
        "'CCAAGAACAGAUAUCAAU',\n",
        "'CCAAGUACAGAGAUUAAC',\n",
        "'CCACGUACUGAAAUUAAC']\n",
        "\n",
        "for i,rna in enumerate(rnas):\n",
        "  if 'PRTEIN' == RNAtoAminoAcid(rna):\n",
        "    print(i)"
      ],
      "execution_count": 32,
      "outputs": [
        {
          "output_type": "stream",
          "text": [
            "0\n",
            "3\n"
          ],
          "name": "stdout"
        }
      ]
    },
    {
      "cell_type": "markdown",
      "metadata": {
        "id": "C4Uj_rzDcYBw"
      },
      "source": [
        "### 3) How many DNA strings transcribe and translate into the amino acid string MASS"
      ]
    },
    {
      "cell_type": "code",
      "metadata": {
        "colab": {
          "base_uri": "https://localhost:8080/"
        },
        "id": "Rka-jx6Kdsa3",
        "outputId": "3874d1f1-060b-4ff8-fea8-4d2d3f48357c"
      },
      "source": [
        "def AmountDnaStringsToAA(rna):\n",
        "  import math\n",
        "  fpath = '/content/drive/MyDrive/Colab Notebooks/Bionformatics-coursera-sandiego/Course 2/RNA_codon_table_1.txt'\n",
        "  rnaCodons = dict()\n",
        "  with open(fpath) as f:\n",
        "    for line in f:\n",
        "      l = line.split('\\n')[0]\n",
        "      key = l.split(' ')[0]\n",
        "      value = l.split(' ')[1]\n",
        "      rnaCodons[key] = value\n",
        "\n",
        "  cnt = []\n",
        "  for am in rna:\n",
        "    occur = list(rnaCodons.values()).count(am)\n",
        "    cnt.append(occur)\n",
        "  \n",
        "  return np.prod(cnt)\n",
        "\n",
        "AmountDnaStringsToAA(rna='VKLFPWFNQY')"
      ],
      "execution_count": 54,
      "outputs": [
        {
          "output_type": "execute_result",
          "data": {
            "text/plain": [
              "6144"
            ]
          },
          "metadata": {
            "tags": []
          },
          "execution_count": 54
        }
      ]
    },
    {
      "cell_type": "code",
      "metadata": {
        "colab": {
          "base_uri": "https://localhost:8080/"
        },
        "id": "_qbnvX3XfxGi",
        "outputId": "80a8fecf-ea6e-4b91-e4c2-0d1347fc45ee"
      },
      "source": [
        "AmountDnaStringsToAA(rna='MASS')"
      ],
      "execution_count": 56,
      "outputs": [
        {
          "output_type": "execute_result",
          "data": {
            "text/plain": [
              "144"
            ]
          },
          "metadata": {
            "tags": []
          },
          "execution_count": 56
        }
      ]
    }
  ]
}