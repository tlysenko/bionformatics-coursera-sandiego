{
  "nbformat": 4,
  "nbformat_minor": 0,
  "metadata": {
    "colab": {
      "name": "Bioinformatics 2 - week 4.ipynb",
      "provenance": [],
      "toc_visible": true,
      "mount_file_id": "1HNJ1T8J0IQogSygppTEF489IQzrRO7CK",
      "authorship_tag": "ABX9TyNCtWHzk9LS82wW3OfA/tnO",
      "include_colab_link": true
    },
    "kernelspec": {
      "name": "python3",
      "display_name": "Python 3"
    },
    "language_info": {
      "name": "python"
    }
  },
  "cells": [
    {
      "cell_type": "markdown",
      "metadata": {
        "id": "view-in-github",
        "colab_type": "text"
      },
      "source": [
        "<a href=\"https://colab.research.google.com/github/tlysenko/bionformatics-coursera-sandiego/blob/main/Genome%20Sequencing%20(Bioinformatics%20II)/Bioinformatics_2_week_4.ipynb\" target=\"_parent\"><img src=\"https://colab.research.google.com/assets/colab-badge.svg\" alt=\"Open In Colab\"/></a>"
      ]
    },
    {
      "cell_type": "markdown",
      "metadata": {
        "id": "jjosQxkiWdJS"
      },
      "source": [
        "## Importing libraries"
      ]
    },
    {
      "cell_type": "code",
      "metadata": {
        "id": "OwdyKJmFWgsY"
      },
      "source": [
        "import numpy as np\n",
        "import pandas as pd\n",
        "\n",
        "from google.colab import files\n",
        "import urllib.request\n",
        "\n",
        "from collections import defaultdict\n",
        "from collections import Counter\n",
        "\n",
        "\n",
        "import matplotlib.pyplot as plt"
      ],
      "execution_count": 47,
      "outputs": []
    },
    {
      "cell_type": "markdown",
      "metadata": {
        "id": "5RVpj9v8WiBU"
      },
      "source": [
        "## 1.1.1 Cyclopeptide Scoring Problem: Compute the score of a cyclic peptide against a spectrum.\n",
        "\n",
        "Input: An amino acid string Peptide and a collection of integers Spectrum.\n",
        "\n",
        "Output: The score of Peptide against Spectrum, Score(Peptide, Spectrum)."
      ]
    },
    {
      "cell_type": "code",
      "metadata": {
        "colab": {
          "base_uri": "https://localhost:8080/"
        },
        "id": "AADr1omG405I",
        "outputId": "e8ef843c-be3d-4427-b08f-aad40ba3f700"
      },
      "source": [
        "def Cyclospectrum(peptide):\n",
        "  def LinearSpectrum(peptide, alphabet, aminoAcidMass):\n",
        "    \n",
        "    lPeptide = len(peptide)\n",
        "    prefixMass = [0] * (lPeptide) \n",
        "    for i in range(0, lPeptide):\n",
        "      for symbol in alphabet:\n",
        "        if symbol == peptide[i]:\n",
        "          prefixMass[i] = prefixMass[i-1] + aminoAcidMass[symbol]\n",
        "    prefixMass.insert(0,0)\n",
        "    linearSpectrum = [0]\n",
        "\n",
        "    c = 0\n",
        "    for i in range(0, len(prefixMass)-1):\n",
        "      for j in range(i+1, len(prefixMass)):\n",
        "        c +=1\n",
        "        linearSpectrum.append(prefixMass[j]-prefixMass[i])\n",
        "\n",
        "    linearSpectrum.sort()\n",
        "    return linearSpectrum\n",
        "\n",
        "  # Download the data\n",
        "  with open('/content/drive/MyDrive/Colab Notebooks/Bionformatics-coursera-sandiego/Course 2/integer_mass_table.txt') as f:\n",
        "    tb = f.readlines()\n",
        "  massTable = dict()\n",
        "  for line in tb:\n",
        "    massTable[line.split('\\n')[0].split(' ')[0]] = int(line.split('\\n')[0].split(' ')[1])\n",
        "    \n",
        "  # *** Main ***  \n",
        "\n",
        "  part1 = LinearSpectrum(peptide=peptide[:-1], alphabet=massTable.keys(), aminoAcidMass=massTable)\n",
        "  pref1 = LinearSpectrum(peptide=peptide, alphabet=massTable.keys(), aminoAcidMass=massTable)\n",
        "  tMass=pref1[-1] # mass of the full element\n",
        "  part2 = [tMass - x for x in part1]\n",
        "\n",
        "  final = part1 + part2\n",
        "  final.sort()\n",
        "  return final\n",
        "\n",
        "Cyclospectrum(peptide='LEQN')"
      ],
      "execution_count": 14,
      "outputs": [
        {
          "output_type": "execute_result",
          "data": {
            "text/plain": [
              "[0, 113, 114, 128, 129, 227, 242, 242, 257, 355, 356, 370, 371, 484]"
            ]
          },
          "metadata": {
            "tags": []
          },
          "execution_count": 14
        }
      ]
    },
    {
      "cell_type": "code",
      "metadata": {
        "colab": {
          "base_uri": "https://localhost:8080/"
        },
        "id": "ZNwg8nbgYdBK",
        "outputId": "ccc0ce60-fd62-4a4e-e675-c4b7e74a8f13"
      },
      "source": [
        "def Score(peptide, spectrum):\n",
        "  db = GetAminoAcidMassTable()\n",
        "  CS = Cyclospectrum(peptide)\n",
        "  CP = spectrum.copy()\n",
        "  score = 0\n",
        "  for s in CS:\n",
        "    if (s in CP):\n",
        "      score += 1 \n",
        "      CP.remove(s)\n",
        "  return score\n",
        "\n",
        "peptide = 'NQEL'\n",
        "spectrum = '0 99 113 114 128 227 257 299 355 356 370 371 484'\n",
        "spectrum = [int(s) for s in spectrum.split(' ')]\n",
        "Score(peptide, spectrum)"
      ],
      "execution_count": 41,
      "outputs": [
        {
          "output_type": "execute_result",
          "data": {
            "text/plain": [
              "11"
            ]
          },
          "metadata": {
            "tags": []
          },
          "execution_count": 41
        }
      ]
    },
    {
      "cell_type": "markdown",
      "metadata": {
        "id": "haKU-03J8jgE"
      },
      "source": [
        "### Extra Dataset"
      ]
    },
    {
      "cell_type": "code",
      "metadata": {
        "id": "1dlB1Gie8k59"
      },
      "source": [
        "url = 'http://bioinformaticsalgorithms.com/data/extradatasets/antibiotics/cyclopeptide_scoring.txt'\n",
        "with urllib.request.urlopen(url) as f:\n",
        "    data = f.read().decode('utf-8')"
      ],
      "execution_count": null,
      "outputs": []
    },
    {
      "cell_type": "code",
      "metadata": {
        "colab": {
          "base_uri": "https://localhost:8080/"
        },
        "id": "W41s2UK08rDc",
        "outputId": "6c3cef66-5a88-401b-f3be-04d767bd0271"
      },
      "source": [
        "peptide = data.split('\\r\\n')[1]\n",
        "spectrum = [int(s) for s in data.split('\\r\\n')[2].split(' ')]\n",
        "print(peptide)\n",
        "print(spectrum[:10])\n",
        "\n",
        "print('score: ', Score(peptide, spectrum))"
      ],
      "execution_count": 35,
      "outputs": [
        {
          "output_type": "stream",
          "text": [
            "VYYEVDWTMGRQIDPDEYPIAQCTRHRATILTLPDWQM\n",
            "[0, 71, 71, 87, 87, 97, 97, 99, 101, 101]\n",
            "score:  521\n"
          ],
          "name": "stdout"
        }
      ]
    },
    {
      "cell_type": "markdown",
      "metadata": {
        "id": "qZilpGbc5AYS"
      },
      "source": [
        "### Stepik submission"
      ]
    },
    {
      "cell_type": "code",
      "metadata": {
        "colab": {
          "resources": {
            "http://localhost:8080/nbextensions/google.colab/files.js": {
              "data": "Ly8gQ29weXJpZ2h0IDIwMTcgR29vZ2xlIExMQwovLwovLyBMaWNlbnNlZCB1bmRlciB0aGUgQXBhY2hlIExpY2Vuc2UsIFZlcnNpb24gMi4wICh0aGUgIkxpY2Vuc2UiKTsKLy8geW91IG1heSBub3QgdXNlIHRoaXMgZmlsZSBleGNlcHQgaW4gY29tcGxpYW5jZSB3aXRoIHRoZSBMaWNlbnNlLgovLyBZb3UgbWF5IG9idGFpbiBhIGNvcHkgb2YgdGhlIExpY2Vuc2UgYXQKLy8KLy8gICAgICBodHRwOi8vd3d3LmFwYWNoZS5vcmcvbGljZW5zZXMvTElDRU5TRS0yLjAKLy8KLy8gVW5sZXNzIHJlcXVpcmVkIGJ5IGFwcGxpY2FibGUgbGF3IG9yIGFncmVlZCB0byBpbiB3cml0aW5nLCBzb2Z0d2FyZQovLyBkaXN0cmlidXRlZCB1bmRlciB0aGUgTGljZW5zZSBpcyBkaXN0cmlidXRlZCBvbiBhbiAiQVMgSVMiIEJBU0lTLAovLyBXSVRIT1VUIFdBUlJBTlRJRVMgT1IgQ09ORElUSU9OUyBPRiBBTlkgS0lORCwgZWl0aGVyIGV4cHJlc3Mgb3IgaW1wbGllZC4KLy8gU2VlIHRoZSBMaWNlbnNlIGZvciB0aGUgc3BlY2lmaWMgbGFuZ3VhZ2UgZ292ZXJuaW5nIHBlcm1pc3Npb25zIGFuZAovLyBsaW1pdGF0aW9ucyB1bmRlciB0aGUgTGljZW5zZS4KCi8qKgogKiBAZmlsZW92ZXJ2aWV3IEhlbHBlcnMgZm9yIGdvb2dsZS5jb2xhYiBQeXRob24gbW9kdWxlLgogKi8KKGZ1bmN0aW9uKHNjb3BlKSB7CmZ1bmN0aW9uIHNwYW4odGV4dCwgc3R5bGVBdHRyaWJ1dGVzID0ge30pIHsKICBjb25zdCBlbGVtZW50ID0gZG9jdW1lbnQuY3JlYXRlRWxlbWVudCgnc3BhbicpOwogIGVsZW1lbnQudGV4dENvbnRlbnQgPSB0ZXh0OwogIGZvciAoY29uc3Qga2V5IG9mIE9iamVjdC5rZXlzKHN0eWxlQXR0cmlidXRlcykpIHsKICAgIGVsZW1lbnQuc3R5bGVba2V5XSA9IHN0eWxlQXR0cmlidXRlc1trZXldOwogIH0KICByZXR1cm4gZWxlbWVudDsKfQoKLy8gTWF4IG51bWJlciBvZiBieXRlcyB3aGljaCB3aWxsIGJlIHVwbG9hZGVkIGF0IGEgdGltZS4KY29uc3QgTUFYX1BBWUxPQURfU0laRSA9IDEwMCAqIDEwMjQ7CgpmdW5jdGlvbiBfdXBsb2FkRmlsZXMoaW5wdXRJZCwgb3V0cHV0SWQpIHsKICBjb25zdCBzdGVwcyA9IHVwbG9hZEZpbGVzU3RlcChpbnB1dElkLCBvdXRwdXRJZCk7CiAgY29uc3Qgb3V0cHV0RWxlbWVudCA9IGRvY3VtZW50LmdldEVsZW1lbnRCeUlkKG91dHB1dElkKTsKICAvLyBDYWNoZSBzdGVwcyBvbiB0aGUgb3V0cHV0RWxlbWVudCB0byBtYWtlIGl0IGF2YWlsYWJsZSBmb3IgdGhlIG5leHQgY2FsbAogIC8vIHRvIHVwbG9hZEZpbGVzQ29udGludWUgZnJvbSBQeXRob24uCiAgb3V0cHV0RWxlbWVudC5zdGVwcyA9IHN0ZXBzOwoKICByZXR1cm4gX3VwbG9hZEZpbGVzQ29udGludWUob3V0cHV0SWQpOwp9CgovLyBUaGlzIGlzIHJvdWdobHkgYW4gYXN5bmMgZ2VuZXJhdG9yIChub3Qgc3VwcG9ydGVkIGluIHRoZSBicm93c2VyIHlldCksCi8vIHdoZXJlIHRoZXJlIGFyZSBtdWx0aXBsZSBhc3luY2hyb25vdXMgc3RlcHMgYW5kIHRoZSBQeXRob24gc2lkZSBpcyBnb2luZwovLyB0byBwb2xsIGZvciBjb21wbGV0aW9uIG9mIGVhY2ggc3RlcC4KLy8gVGhpcyB1c2VzIGEgUHJvbWlzZSB0byBibG9jayB0aGUgcHl0aG9uIHNpZGUgb24gY29tcGxldGlvbiBvZiBlYWNoIHN0ZXAsCi8vIHRoZW4gcGFzc2VzIHRoZSByZXN1bHQgb2YgdGhlIHByZXZpb3VzIHN0ZXAgYXMgdGhlIGlucHV0IHRvIHRoZSBuZXh0IHN0ZXAuCmZ1bmN0aW9uIF91cGxvYWRGaWxlc0NvbnRpbnVlKG91dHB1dElkKSB7CiAgY29uc3Qgb3V0cHV0RWxlbWVudCA9IGRvY3VtZW50LmdldEVsZW1lbnRCeUlkKG91dHB1dElkKTsKICBjb25zdCBzdGVwcyA9IG91dHB1dEVsZW1lbnQuc3RlcHM7CgogIGNvbnN0IG5leHQgPSBzdGVwcy5uZXh0KG91dHB1dEVsZW1lbnQubGFzdFByb21pc2VWYWx1ZSk7CiAgcmV0dXJuIFByb21pc2UucmVzb2x2ZShuZXh0LnZhbHVlLnByb21pc2UpLnRoZW4oKHZhbHVlKSA9PiB7CiAgICAvLyBDYWNoZSB0aGUgbGFzdCBwcm9taXNlIHZhbHVlIHRvIG1ha2UgaXQgYXZhaWxhYmxlIHRvIHRoZSBuZXh0CiAgICAvLyBzdGVwIG9mIHRoZSBnZW5lcmF0b3IuCiAgICBvdXRwdXRFbGVtZW50Lmxhc3RQcm9taXNlVmFsdWUgPSB2YWx1ZTsKICAgIHJldHVybiBuZXh0LnZhbHVlLnJlc3BvbnNlOwogIH0pOwp9CgovKioKICogR2VuZXJhdG9yIGZ1bmN0aW9uIHdoaWNoIGlzIGNhbGxlZCBiZXR3ZWVuIGVhY2ggYXN5bmMgc3RlcCBvZiB0aGUgdXBsb2FkCiAqIHByb2Nlc3MuCiAqIEBwYXJhbSB7c3RyaW5nfSBpbnB1dElkIEVsZW1lbnQgSUQgb2YgdGhlIGlucHV0IGZpbGUgcGlja2VyIGVsZW1lbnQuCiAqIEBwYXJhbSB7c3RyaW5nfSBvdXRwdXRJZCBFbGVtZW50IElEIG9mIHRoZSBvdXRwdXQgZGlzcGxheS4KICogQHJldHVybiB7IUl0ZXJhYmxlPCFPYmplY3Q+fSBJdGVyYWJsZSBvZiBuZXh0IHN0ZXBzLgogKi8KZnVuY3Rpb24qIHVwbG9hZEZpbGVzU3RlcChpbnB1dElkLCBvdXRwdXRJZCkgewogIGNvbnN0IGlucHV0RWxlbWVudCA9IGRvY3VtZW50LmdldEVsZW1lbnRCeUlkKGlucHV0SWQpOwogIGlucHV0RWxlbWVudC5kaXNhYmxlZCA9IGZhbHNlOwoKICBjb25zdCBvdXRwdXRFbGVtZW50ID0gZG9jdW1lbnQuZ2V0RWxlbWVudEJ5SWQob3V0cHV0SWQpOwogIG91dHB1dEVsZW1lbnQuaW5uZXJIVE1MID0gJyc7CgogIGNvbnN0IHBpY2tlZFByb21pc2UgPSBuZXcgUHJvbWlzZSgocmVzb2x2ZSkgPT4gewogICAgaW5wdXRFbGVtZW50LmFkZEV2ZW50TGlzdGVuZXIoJ2NoYW5nZScsIChlKSA9PiB7CiAgICAgIHJlc29sdmUoZS50YXJnZXQuZmlsZXMpOwogICAgfSk7CiAgfSk7CgogIGNvbnN0IGNhbmNlbCA9IGRvY3VtZW50LmNyZWF0ZUVsZW1lbnQoJ2J1dHRvbicpOwogIGlucHV0RWxlbWVudC5wYXJlbnRFbGVtZW50LmFwcGVuZENoaWxkKGNhbmNlbCk7CiAgY2FuY2VsLnRleHRDb250ZW50ID0gJ0NhbmNlbCB1cGxvYWQnOwogIGNvbnN0IGNhbmNlbFByb21pc2UgPSBuZXcgUHJvbWlzZSgocmVzb2x2ZSkgPT4gewogICAgY2FuY2VsLm9uY2xpY2sgPSAoKSA9PiB7CiAgICAgIHJlc29sdmUobnVsbCk7CiAgICB9OwogIH0pOwoKICAvLyBXYWl0IGZvciB0aGUgdXNlciB0byBwaWNrIHRoZSBmaWxlcy4KICBjb25zdCBmaWxlcyA9IHlpZWxkIHsKICAgIHByb21pc2U6IFByb21pc2UucmFjZShbcGlja2VkUHJvbWlzZSwgY2FuY2VsUHJvbWlzZV0pLAogICAgcmVzcG9uc2U6IHsKICAgICAgYWN0aW9uOiAnc3RhcnRpbmcnLAogICAgfQogIH07CgogIGNhbmNlbC5yZW1vdmUoKTsKCiAgLy8gRGlzYWJsZSB0aGUgaW5wdXQgZWxlbWVudCBzaW5jZSBmdXJ0aGVyIHBpY2tzIGFyZSBub3QgYWxsb3dlZC4KICBpbnB1dEVsZW1lbnQuZGlzYWJsZWQgPSB0cnVlOwoKICBpZiAoIWZpbGVzKSB7CiAgICByZXR1cm4gewogICAgICByZXNwb25zZTogewogICAgICAgIGFjdGlvbjogJ2NvbXBsZXRlJywKICAgICAgfQogICAgfTsKICB9CgogIGZvciAoY29uc3QgZmlsZSBvZiBmaWxlcykgewogICAgY29uc3QgbGkgPSBkb2N1bWVudC5jcmVhdGVFbGVtZW50KCdsaScpOwogICAgbGkuYXBwZW5kKHNwYW4oZmlsZS5uYW1lLCB7Zm9udFdlaWdodDogJ2JvbGQnfSkpOwogICAgbGkuYXBwZW5kKHNwYW4oCiAgICAgICAgYCgke2ZpbGUudHlwZSB8fCAnbi9hJ30pIC0gJHtmaWxlLnNpemV9IGJ5dGVzLCBgICsKICAgICAgICBgbGFzdCBtb2RpZmllZDogJHsKICAgICAgICAgICAgZmlsZS5sYXN0TW9kaWZpZWREYXRlID8gZmlsZS5sYXN0TW9kaWZpZWREYXRlLnRvTG9jYWxlRGF0ZVN0cmluZygpIDoKICAgICAgICAgICAgICAgICAgICAgICAgICAgICAgICAgICAgJ24vYSd9IC0gYCkpOwogICAgY29uc3QgcGVyY2VudCA9IHNwYW4oJzAlIGRvbmUnKTsKICAgIGxpLmFwcGVuZENoaWxkKHBlcmNlbnQpOwoKICAgIG91dHB1dEVsZW1lbnQuYXBwZW5kQ2hpbGQobGkpOwoKICAgIGNvbnN0IGZpbGVEYXRhUHJvbWlzZSA9IG5ldyBQcm9taXNlKChyZXNvbHZlKSA9PiB7CiAgICAgIGNvbnN0IHJlYWRlciA9IG5ldyBGaWxlUmVhZGVyKCk7CiAgICAgIHJlYWRlci5vbmxvYWQgPSAoZSkgPT4gewogICAgICAgIHJlc29sdmUoZS50YXJnZXQucmVzdWx0KTsKICAgICAgfTsKICAgICAgcmVhZGVyLnJlYWRBc0FycmF5QnVmZmVyKGZpbGUpOwogICAgfSk7CiAgICAvLyBXYWl0IGZvciB0aGUgZGF0YSB0byBiZSByZWFkeS4KICAgIGxldCBmaWxlRGF0YSA9IHlpZWxkIHsKICAgICAgcHJvbWlzZTogZmlsZURhdGFQcm9taXNlLAogICAgICByZXNwb25zZTogewogICAgICAgIGFjdGlvbjogJ2NvbnRpbnVlJywKICAgICAgfQogICAgfTsKCiAgICAvLyBVc2UgYSBjaHVua2VkIHNlbmRpbmcgdG8gYXZvaWQgbWVzc2FnZSBzaXplIGxpbWl0cy4gU2VlIGIvNjIxMTU2NjAuCiAgICBsZXQgcG9zaXRpb24gPSAwOwogICAgd2hpbGUgKHBvc2l0aW9uIDwgZmlsZURhdGEuYnl0ZUxlbmd0aCkgewogICAgICBjb25zdCBsZW5ndGggPSBNYXRoLm1pbihmaWxlRGF0YS5ieXRlTGVuZ3RoIC0gcG9zaXRpb24sIE1BWF9QQVlMT0FEX1NJWkUpOwogICAgICBjb25zdCBjaHVuayA9IG5ldyBVaW50OEFycmF5KGZpbGVEYXRhLCBwb3NpdGlvbiwgbGVuZ3RoKTsKICAgICAgcG9zaXRpb24gKz0gbGVuZ3RoOwoKICAgICAgY29uc3QgYmFzZTY0ID0gYnRvYShTdHJpbmcuZnJvbUNoYXJDb2RlLmFwcGx5KG51bGwsIGNodW5rKSk7CiAgICAgIHlpZWxkIHsKICAgICAgICByZXNwb25zZTogewogICAgICAgICAgYWN0aW9uOiAnYXBwZW5kJywKICAgICAgICAgIGZpbGU6IGZpbGUubmFtZSwKICAgICAgICAgIGRhdGE6IGJhc2U2NCwKICAgICAgICB9LAogICAgICB9OwogICAgICBwZXJjZW50LnRleHRDb250ZW50ID0KICAgICAgICAgIGAke01hdGgucm91bmQoKHBvc2l0aW9uIC8gZmlsZURhdGEuYnl0ZUxlbmd0aCkgKiAxMDApfSUgZG9uZWA7CiAgICB9CiAgfQoKICAvLyBBbGwgZG9uZS4KICB5aWVsZCB7CiAgICByZXNwb25zZTogewogICAgICBhY3Rpb246ICdjb21wbGV0ZScsCiAgICB9CiAgfTsKfQoKc2NvcGUuZ29vZ2xlID0gc2NvcGUuZ29vZ2xlIHx8IHt9OwpzY29wZS5nb29nbGUuY29sYWIgPSBzY29wZS5nb29nbGUuY29sYWIgfHwge307CnNjb3BlLmdvb2dsZS5jb2xhYi5fZmlsZXMgPSB7CiAgX3VwbG9hZEZpbGVzLAogIF91cGxvYWRGaWxlc0NvbnRpbnVlLAp9Owp9KShzZWxmKTsK",
              "ok": true,
              "headers": [
                [
                  "content-type",
                  "application/javascript"
                ]
              ],
              "status": 200,
              "status_text": ""
            }
          },
          "base_uri": "https://localhost:8080/",
          "height": 89
        },
        "id": "QsJY5QJX4baY",
        "outputId": "ae61ce7c-6368-4603-b5c8-f24bae0b9c47"
      },
      "source": [
        "uploaded = files.upload()\n",
        "\n",
        "for fn in uploaded.keys():\n",
        "  print('User uploaded file \"{name}\" with length {length} bytes'.format(\n",
        "      name=fn, length=len(uploaded[fn])))"
      ],
      "execution_count": 36,
      "outputs": [
        {
          "output_type": "display_data",
          "data": {
            "text/html": [
              "\n",
              "     <input type=\"file\" id=\"files-68c4f7c5-6d0f-4233-b81e-61964734c932\" name=\"files[]\" multiple disabled\n",
              "        style=\"border:none\" />\n",
              "     <output id=\"result-68c4f7c5-6d0f-4233-b81e-61964734c932\">\n",
              "      Upload widget is only available when the cell has been executed in the\n",
              "      current browser session. Please rerun this cell to enable.\n",
              "      </output>\n",
              "      <script src=\"/nbextensions/google.colab/files.js\"></script> "
            ],
            "text/plain": [
              "<IPython.core.display.HTML object>"
            ]
          },
          "metadata": {
            "tags": []
          }
        },
        {
          "output_type": "stream",
          "text": [
            "Saving dataset_102_3-3.txt to dataset_102_3-3.txt\n",
            "User uploaded file \"dataset_102_3-3.txt\" with length 7925 bytes\n"
          ],
          "name": "stdout"
        }
      ]
    },
    {
      "cell_type": "code",
      "metadata": {
        "colab": {
          "base_uri": "https://localhost:8080/"
        },
        "id": "SimAyet-5DwB",
        "outputId": "5801d56f-c5d0-43e3-90c9-309a722b1f4a"
      },
      "source": [
        "with open(fn) as f:\n",
        "  peptide = f.readline().split('\\n')[0]\n",
        "  spectr = f.readline().split('\\n')[0]\n",
        "spectr = [int(s) for s in spectr.split(' ')]\n",
        "\n",
        "print(spectr)\n",
        "print(peptide)\n",
        "print('score: ', Score(peptide, spectr))"
      ],
      "execution_count": 37,
      "outputs": [
        {
          "output_type": "stream",
          "text": [
            "[0, 71, 71, 87, 87, 97, 97, 99, 99, 99, 101, 101, 101, 103, 103, 113, 113, 114, 114, 115, 115, 115, 115, 128, 128, 128, 129, 131, 131, 137, 137, 137, 147, 147, 147, 147, 147, 156, 156, 163, 168, 172, 186, 186, 198, 198, 201, 202, 204, 208, 212, 213, 218, 218, 218, 224, 227, 228, 229, 229, 232, 246, 246, 248, 250, 252, 260, 260, 262, 262, 265, 268, 269, 269, 270, 271, 275, 284, 284, 291, 295, 299, 299, 300, 301, 301, 303, 316, 317, 319, 329, 332, 333, 339, 355, 355, 355, 355, 357, 358, 359, 360, 361, 363, 364, 365, 366, 370, 376, 378, 383, 385, 390, 390, 392, 396, 398, 398, 404, 412, 415, 416, 416, 418, 418, 426, 430, 431, 432, 438, 446, 447, 454, 454, 458, 460, 461, 464, 467, 470, 472, 483, 491, 492, 493, 495, 495, 497, 497, 502, 505, 511, 513, 517, 518, 519, 525, 527, 529, 532, 532, 533, 534, 545, 545, 547, 551, 553, 555, 559, 561, 561, 562, 567, 568, 571, 582, 584, 592, 594, 598, 601, 601, 607, 614, 616, 618, 619, 619, 620, 620, 624, 626, 630, 640, 647, 648, 649, 655, 655, 656, 656, 658, 658, 658, 658, 660, 660, 660, 662, 666, 679, 688, 689, 699, 700, 714, 715, 715, 718, 718, 719, 722, 723, 727, 727, 729, 729, 731, 734, 734, 735, 743, 745, 745, 753, 755, 756, 759, 759, 763, 763, 770, 771, 786, 790, 793, 794, 802, 803, 803, 805, 807, 813, 814, 816, 816, 828, 830, 830, 830, 833, 834, 835, 848, 851, 852, 854, 855, 858, 859, 865, 866, 873, 874, 874, 876, 878, 882, 887, 887, 890, 890, 900, 901, 906, 908, 910, 913, 917, 921, 926, 927, 927, 929, 931, 931, 931, 947, 949, 950, 951, 953, 958, 963, 974, 977, 977, 977, 980, 982, 987, 988, 990, 997, 999, 1002, 1004, 1010, 1011, 1013, 1013, 1014, 1016, 1018, 1018, 1020, 1021, 1025, 1026, 1028, 1036, 1044, 1048, 1050, 1052, 1059, 1064, 1064, 1066, 1073, 1073, 1074, 1077, 1078, 1078, 1079, 1087, 1090, 1094, 1103, 1111, 1112, 1113, 1114, 1117, 1119, 1119, 1121, 1125, 1125, 1129, 1132, 1135, 1139, 1145, 1149, 1149, 1157, 1158, 1160, 1165, 1172, 1173, 1174, 1175, 1179, 1180, 1181, 1181, 1183, 1185, 1188, 1191, 1200, 1201, 1206, 1206, 1211, 1214, 1216, 1220, 1220, 1222, 1226, 1226, 1231, 1231, 1238, 1246, 1250, 1250, 1256, 1259, 1261, 1268, 1272, 1276, 1277, 1279, 1282, 1285, 1286, 1286, 1286, 1288, 1296, 1298, 1302, 1305, 1311, 1313, 1315, 1316, 1317, 1319, 1319, 1321, 1326, 1329, 1332, 1335, 1337, 1343, 1343, 1347, 1348, 1360, 1367, 1369, 1373, 1377, 1378, 1378, 1382, 1383, 1383, 1385, 1385, 1387, 1389, 1401, 1403, 1403, 1412, 1414, 1414, 1419, 1426, 1428, 1429, 1431, 1432, 1434, 1434, 1442, 1448, 1449, 1449, 1458, 1458, 1460, 1463, 1468, 1471, 1474, 1474, 1474, 1480, 1481, 1482, 1482, 1482, 1485, 1488, 1490, 1497, 1505, 1513, 1515, 1515, 1525, 1527, 1528, 1529, 1530, 1532, 1534, 1535, 1545, 1545, 1547, 1548, 1548, 1550, 1556, 1561, 1569, 1570, 1571, 1575, 1581, 1584, 1586, 1586, 1589, 1589, 1596, 1596, 1597, 1603, 1605, 1611, 1616, 1618, 1618, 1619, 1627, 1628, 1629, 1630, 1630, 1632, 1632, 1635, 1642, 1644, 1661, 1662, 1668, 1669, 1671, 1672, 1676, 1676, 1676, 1681, 1683, 1684, 1684, 1686, 1703, 1704, 1706, 1706, 1709, 1717, 1717, 1726, 1729, 1731, 1731, 1733, 1733, 1733, 1733, 1733, 1734, 1736, 1740, 1743, 1743, 1747, 1758, 1759, 1765, 1767, 1769, 1775, 1777, 1781, 1782, 1783, 1787, 1798, 1799, 1804, 1804, 1807, 1817, 1818, 1821, 1821, 1830, 1832, 1832, 1832, 1836, 1837, 1840, 1840, 1843, 1844, 1846, 1846, 1847, 1857, 1862, 1864, 1864, 1872, 1878, 1880, 1880, 1880, 1880, 1880, 1884, 1887, 1890, 1895, 1897, 1898, 1903, 1905, 1908, 1927, 1929, 1935, 1935, 1941, 1944, 1945, 1945, 1946, 1946, 1951, 1951, 1952, 1955, 1960, 1960, 1971, 1973, 1974, 1977, 1979, 1979, 1979, 1983, 1986, 1987, 1990, 1993, 1993, 2000, 2003, 2008, 2008, 2009, 2022, 2027, 2032, 2034, 2039, 2042, 2044, 2045, 2050, 2056, 2058, 2061, 2061, 2064, 2066, 2070, 2072, 2074, 2082, 2088, 2088, 2089, 2089, 2090, 2091, 2092, 2094, 2098, 2098, 2100, 2101, 2102, 2107, 2107, 2116, 2121, 2126, 2131, 2137, 2137, 2140, 2141, 2145, 2147, 2153, 2163, 2164, 2165, 2173, 2175, 2176, 2181, 2181, 2185, 2187, 2189, 2190, 2191, 2195, 2197, 2197, 2198, 2201, 2201, 2203, 2203, 2208, 2208, 2217, 2219, 2235, 2237, 2242, 2244, 2244, 2248, 2250, 2252, 2252, 2254, 2256, 2262, 2263, 2268, 2268, 2276, 2278, 2278, 2279, 2284, 2288, 2290, 2290, 2290, 2293, 2302, 2304, 2304, 2310, 2316, 2316, 2318, 2318, 2325, 2329, 2334, 2336, 2338, 2345, 2357, 2359, 2363, 2363, 2364, 2364, 2365, 2375, 2376, 2381, 2382, 2383, 2387, 2389, 2389, 2389, 2391, 2391, 2391, 2391, 2393, 2399, 2399, 2403, 2405, 2405, 2407, 2418, 2424, 2432, 2435, 2435, 2437, 2458, 2460, 2460, 2462, 2462, 2462, 2466, 2476, 2476, 2477, 2479, 2481, 2481, 2492, 2492, 2494, 2496, 2496, 2498, 2500, 2502, 2502, 2504, 2506, 2506, 2517, 2517, 2519, 2521, 2522, 2522, 2532, 2536, 2536, 2536, 2538, 2538, 2540, 2561, 2563, 2563, 2566, 2574, 2580, 2591, 2593, 2593, 2595, 2599, 2599, 2605, 2607, 2607, 2607, 2607, 2609, 2609, 2609, 2611, 2615, 2616, 2617, 2622, 2623, 2633, 2634, 2634, 2635, 2635, 2639, 2641, 2653, 2660, 2662, 2664, 2669, 2673, 2680, 2680, 2682, 2682, 2688, 2694, 2694, 2696, 2705, 2708, 2708, 2708, 2710, 2714, 2719, 2720, 2720, 2722, 2730, 2730, 2735, 2736, 2742, 2744, 2746, 2746, 2748, 2750, 2754, 2754, 2756, 2761, 2763, 2779, 2781, 2790, 2790, 2795, 2795, 2797, 2797, 2800, 2801, 2801, 2803, 2807, 2808, 2809, 2811, 2813, 2817, 2817, 2822, 2823, 2825, 2833, 2834, 2835, 2845, 2851, 2853, 2857, 2858, 2861, 2861, 2867, 2872, 2877, 2882, 2891, 2891, 2896, 2897, 2898, 2900, 2900, 2904, 2906, 2907, 2908, 2909, 2909, 2910, 2910, 2916, 2924, 2926, 2928, 2932, 2934, 2937, 2937, 2940, 2942, 2948, 2953, 2954, 2956, 2959, 2964, 2966, 2971, 2976, 2989, 2990, 2990, 2995, 2998, 3005, 3005, 3008, 3011, 3012, 3015, 3019, 3019, 3019, 3021, 3024, 3025, 3027, 3038, 3038, 3043, 3046, 3047, 3047, 3052, 3052, 3053, 3053, 3054, 3057, 3063, 3063, 3069, 3071, 3090, 3093, 3095, 3100, 3101, 3103, 3108, 3111, 3114, 3118, 3118, 3118, 3118, 3118, 3120, 3126, 3134, 3134, 3136, 3141, 3151, 3152, 3152, 3154, 3155, 3158, 3158, 3161, 3162, 3166, 3166, 3166, 3168, 3177, 3177, 3180, 3181, 3191, 3194, 3194, 3199, 3200, 3211, 3215, 3216, 3217, 3221, 3223, 3229, 3231, 3233, 3239, 3240, 3251, 3255, 3255, 3258, 3262, 3264, 3265, 3265, 3265, 3265, 3265, 3267, 3267, 3269, 3272, 3281, 3281, 3289, 3292, 3292, 3294, 3295, 3312, 3314, 3314, 3315, 3317, 3322, 3322, 3322, 3326, 3327, 3329, 3330, 3336, 3337, 3354, 3356, 3363, 3366, 3366, 3368, 3368, 3369, 3370, 3371, 3379, 3380, 3380, 3382, 3387, 3393, 3395, 3401, 3402, 3402, 3409, 3409, 3412, 3412, 3414, 3417, 3423, 3427, 3428, 3429, 3437, 3442, 3448, 3450, 3450, 3451, 3453, 3453, 3463, 3464, 3466, 3468, 3469, 3470, 3471, 3473, 3483, 3483, 3485, 3493, 3501, 3508, 3510, 3513, 3516, 3516, 3516, 3517, 3518, 3524, 3524, 3524, 3527, 3530, 3535, 3538, 3540, 3540, 3549, 3549, 3550, 3556, 3564, 3564, 3566, 3567, 3569, 3570, 3572, 3579, 3584, 3584, 3586, 3595, 3595, 3597, 3609, 3611, 3613, 3613, 3615, 3615, 3616, 3620, 3620, 3621, 3625, 3629, 3631, 3638, 3650, 3651, 3655, 3655, 3661, 3663, 3666, 3669, 3672, 3677, 3679, 3679, 3681, 3682, 3683, 3685, 3687, 3693, 3696, 3700, 3702, 3710, 3712, 3712, 3712, 3713, 3716, 3719, 3721, 3722, 3726, 3730, 3737, 3739, 3742, 3748, 3748, 3752, 3760, 3767, 3767, 3772, 3772, 3776, 3778, 3778, 3782, 3784, 3787, 3792, 3792, 3797, 3798, 3807, 3810, 3813, 3815, 3817, 3817, 3818, 3819, 3823, 3824, 3825, 3826, 3833, 3838, 3840, 3841, 3849, 3849, 3853, 3859, 3863, 3866, 3869, 3873, 3873, 3877, 3879, 3879, 3881, 3884, 3885, 3886, 3887, 3895, 3904, 3908, 3911, 3919, 3920, 3920, 3921, 3924, 3925, 3925, 3932, 3934, 3934, 3939, 3946, 3948, 3950, 3954, 3962, 3970, 3972, 3973, 3977, 3978, 3980, 3980, 3982, 3984, 3985, 3985, 3987, 3988, 3994, 3996, 3999, 4001, 4008, 4010, 4011, 4016, 4018, 4021, 4021, 4021, 4024, 4035, 4040, 4045, 4047, 4048, 4049, 4051, 4067, 4067, 4067, 4069, 4071, 4071, 4072, 4077, 4081, 4085, 4088, 4090, 4092, 4097, 4098, 4108, 4108, 4111, 4111, 4116, 4120, 4122, 4124, 4124, 4125, 4132, 4133, 4139, 4140, 4143, 4144, 4146, 4147, 4150, 4163, 4164, 4165, 4168, 4168, 4168, 4170, 4182, 4182, 4184, 4185, 4191, 4193, 4195, 4195, 4196, 4204, 4205, 4208, 4212, 4227, 4228, 4235, 4235, 4239, 4239, 4242, 4243, 4245, 4253, 4253, 4255, 4263, 4264, 4264, 4267, 4269, 4269, 4271, 4271, 4275, 4276, 4279, 4280, 4280, 4283, 4283, 4284, 4298, 4299, 4309, 4310, 4319, 4332, 4336, 4338, 4338, 4338, 4340, 4340, 4340, 4340, 4342, 4342, 4343, 4343, 4349, 4350, 4351, 4358, 4368, 4372, 4374, 4378, 4378, 4379, 4379, 4380, 4382, 4384, 4391, 4397, 4397, 4400, 4404, 4406, 4414, 4416, 4427, 4430, 4431, 4436, 4437, 4437, 4439, 4443, 4445, 4447, 4451, 4453, 4453, 4464, 4465, 4466, 4466, 4469, 4471, 4473, 4479, 4480, 4481, 4485, 4487, 4493, 4496, 4501, 4501, 4503, 4503, 4505, 4506, 4507, 4515, 4526, 4528, 4531, 4534, 4537, 4538, 4540, 4544, 4544, 4551, 4552, 4560, 4566, 4567, 4568, 4572, 4580, 4580, 4582, 4582, 4583, 4586, 4594, 4600, 4600, 4602, 4606, 4608, 4608, 4613, 4615, 4620, 4622, 4628, 4632, 4633, 4634, 4635, 4637, 4638, 4639, 4640, 4641, 4643, 4643, 4643, 4643, 4659, 4665, 4666, 4669, 4679, 4681, 4682, 4695, 4697, 4697, 4698, 4699, 4699, 4703, 4707, 4714, 4714, 4723, 4727, 4728, 4729, 4729, 4730, 4733, 4736, 4736, 4738, 4738, 4746, 4748, 4750, 4752, 4752, 4766, 4769, 4769, 4770, 4771, 4774, 4780, 4780, 4780, 4785, 4786, 4790, 4794, 4796, 4797, 4800, 4800, 4812, 4812, 4826, 4830, 4835, 4842, 4842, 4851, 4851, 4851, 4851, 4851, 4861, 4861, 4861, 4867, 4867, 4869, 4870, 4870, 4870, 4883, 4883, 4883, 4883, 4884, 4884, 4885, 4885, 4895, 4895, 4897, 4897, 4897, 4899, 4899, 4899, 4901, 4901, 4911, 4911, 4927, 4927, 4998]\n",
            "PTPLECTKYNQPMAHDWDCHARNQFRDSNVFCAFVIWSFKA\n",
            "score:  445\n"
          ],
          "name": "stdout"
        }
      ]
    },
    {
      "cell_type": "markdown",
      "metadata": {
        "id": "TumSw7KZ-mQ4"
      },
      "source": [
        "## 1.1.2 LeaderboardCyclopeptideSequencing\n",
        "\n",
        "Code Challenge: Implement LeaderboardCyclopeptideSequencing.\n",
        "\n",
        "Input: An integer N and a collection of integers Spectrum.\n",
        "Output: LeaderPeptide after running LeaderboardCyclopeptideSequencing(Spectrum, N).\n"
      ]
    },
    {
      "cell_type": "markdown",
      "metadata": {
        "id": "dAJhwTV7fcce"
      },
      "source": [
        "ToDO:\n",
        "\n",
        "- Trim function and issue with connected trims. Connected means has similar score\n",
        "- Change scoring from cycle to linear"
      ]
    },
    {
      "cell_type": "code",
      "metadata": {
        "id": "dh2lLxCzLzSY"
      },
      "source": [
        "# LeaderboardCyclopeptideSequencing(Spectrum, N)\n",
        "#     Leaderboard ← set containing only the empty peptide\n",
        "#     LeaderPeptide ← empty peptide\n",
        "#     while Leaderboard is non-empty\n",
        "#         Leaderboard ← Expand(Leaderboard)\n",
        "#         for each Peptide in Leaderboard\n",
        "#             if Mass(Peptide) = ParentMass(Spectrum)\n",
        "#                 if Score(Peptide, Spectrum) > Score(LeaderPeptide, Spectrum)\n",
        "#                     LeaderPeptide ← Peptide\n",
        "#             else if Mass(Peptide) > ParentMass(Spectrum)\n",
        "#                 remove Peptide from Leaderboard\n",
        "#         Leaderboard ← Trim(Leaderboard, Spectrum, N)\n",
        "#     output LeaderPeptide"
      ],
      "execution_count": null,
      "outputs": []
    },
    {
      "cell_type": "code",
      "metadata": {
        "colab": {
          "base_uri": "https://localhost:8080/"
        },
        "id": "gwSpEq6NqMYK",
        "outputId": "22932e14-66f1-475c-a81c-781bc8b6e348"
      },
      "source": [
        "def LeaderBoard(n, spectrum):\n",
        "\n",
        "  def LinearSpectrum(peptide):\n",
        "    #print('peptide', peptide)\n",
        "    \n",
        "    lPeptide = len(peptide)\n",
        "    prefixMass = [0] * (lPeptide) \n",
        "\n",
        "    for i in range(0, lPeptide):\n",
        "      for symbol in tbAAtoMass.keys():\n",
        "        if symbol == peptide[i]:\n",
        "          prefixMass[i] = prefixMass[i-1] + tbAAtoMass[symbol]\n",
        "    prefixMass.insert(0,0)\n",
        "    \n",
        "    linearSpectrum = [0]\n",
        "    c = 0\n",
        "    for i in range(0, len(prefixMass)-1):\n",
        "      for j in range(i+1, len(prefixMass)):\n",
        "        c +=1\n",
        "        linearSpectrum.append(prefixMass[j]-prefixMass[i])\n",
        "\n",
        "    linearSpectrum.sort()\n",
        "    #print(linearSpectrum)\n",
        "    return linearSpectrum\n",
        "\n",
        "\n",
        "  def GetAminoAcidMassTable():\n",
        "    ''' Returns dictionary in format aminoacid: integer mass  \n",
        "    '''\n",
        "    with open('/content/drive/MyDrive/Colab Notebooks/Bionformatics-coursera-sandiego/Course 2/integer_mass_table.txt') as f:\n",
        "      tb = f.readlines()\n",
        "    massTable = dict()\n",
        "    for line in tb:\n",
        "      massTable[line.split('\\n')[0].split(' ')[0]] = int(line.split('\\n')[0].split(' ')[1])\n",
        "    return massTable\n",
        "\n",
        "\n",
        "  def GetMassAminoAcidTable():\n",
        "    ''' Returns dictionary in format integer mass : aminoacid\n",
        "    '''\n",
        "    with open('/content/drive/MyDrive/Colab Notebooks/Bionformatics-coursera-sandiego/Course 2/integer_mass_table.txt') as f:\n",
        "      tb = f.readlines()\n",
        "    massTable = dict()\n",
        "    for line in tb:\n",
        "      massTable[int(line.split('\\n')[0].split(' ')[1])] = line.split('\\n')[0].split(' ')[0]\n",
        "    return massTable\n",
        "\n",
        "\n",
        "  def Expand(candidatePeptides):\n",
        "      ''' Returns newCollection containing all possible extensions of peptides in \n",
        "          candidatePeptides by a single amino acid mass\n",
        "      ''' \n",
        "      newCollection = set()\n",
        "      if candidatePeptides != {''}:\n",
        "        \n",
        "        [newCollection.add(candidate + '-' + str(tbAAtoMass[peptide])) \n",
        "                          for candidate in candidatePeptides \\\n",
        "                            for peptide in tbAAtoMass  ]\n",
        "      else:\n",
        "        [newCollection.add(candidate + str(tbAAtoMass[peptide])) \\\n",
        "                          for candidate in candidatePeptides \\\n",
        "                          for peptide in tbAAtoMass ]\n",
        "                        \n",
        "      return newCollection\n",
        "\n",
        "\n",
        "  def GetParentMass(spectrum):\n",
        "    \n",
        "    return spectrum[-1]\n",
        "  \n",
        "\n",
        "  def GetMass(peptide):\n",
        "    ''' Input: subpeptide string\n",
        "        Output: mass of subpeptidestring\n",
        "    '''\n",
        "    mass = 0 \n",
        "    \n",
        "    for element in peptide.split('-'):\n",
        "      if element != '':\n",
        "        mass = mass + int(element)\n",
        "\n",
        "    return mass \n",
        "\n",
        "\n",
        "  def PeptToAA(peptide):\n",
        "    ''' input: aminoacid sequence in format 137-57-128\n",
        "        output: aminoacid\n",
        "        TODO: combinations with similar AAs \n",
        "        113:'I/L',\n",
        "        128: 'K/Q'\n",
        "    '''\n",
        "    aminoAcid = ''\n",
        "    for aa in peptide.split('-'):\n",
        "      aminoAcid += tbMasstoAA[int(aa)]\n",
        "    return aminoAcid \n",
        "\n",
        "\n",
        "  def PeptideConsistentWithSpectrum(peptide):\n",
        "    ''' case 1: peptide is string '128'\n",
        "        case 2: peptide is string '128-113-99'\n",
        "    '''\n",
        "    peptideAA = PeptToAA(peptide) \n",
        "    LS = LinearSpectrum(peptide=peptideAA, alphabet=massTable.keys(), aminoAcidMass=massTable)\n",
        "\n",
        "    spectrumCopy = spectrum.copy()\n",
        "    cnt = 0\n",
        "\n",
        "    for element in LS:\n",
        "      if int(element) in spectrumCopy:\n",
        "        cnt += 1 \n",
        "        spectrumCopy.remove(int(element))\n",
        "      else:\n",
        "        return False\n",
        "    if cnt == len(LS):\n",
        "      return True\n",
        "      \n",
        "\n",
        "  def LinearScore(peptide, spectrum):\n",
        "    LS = LinearSpectrum(peptide)\n",
        "    CP = spectrum.copy()\n",
        "    score = 0\n",
        "    #print('LS', peptide, LS)\n",
        "\n",
        "    if peptide != '':\n",
        "      for s in LS:\n",
        "        if (s in CP):\n",
        "          score += 1 \n",
        "          CP.remove(s)\n",
        "\n",
        "    return score\n",
        "\n",
        "\n",
        "  def Trim(leaderBoard, spectrum, n):\n",
        "    ''' leaderBoard: set of peptides {'99-99-99', ''}\n",
        "        spectrum: list of int [0,99,128]\n",
        "        n = 10 \n",
        "    '''\n",
        "\n",
        "    if len(leaderBoard) > n:\n",
        "      scores = []\n",
        "      trimedLeaderBoard = set()\n",
        "\n",
        "      [scores.append(LinearScore(PeptToAA(peptide), spectrum)) for peptide in leaderBoard]\n",
        "      #print('scores', scores)\n",
        "      \n",
        "      sortedLB = [l for _,l in sorted(zip(scores,leaderBoard))]\n",
        "      #print('sortedLB', sortedLB)\n",
        "      \n",
        "      scores = sorted(scores)\n",
        "      #print('sorted scores', scores)\n",
        "\n",
        "      part1 = sortedLB[-n:]\n",
        "      #print('part1', part1)\n",
        "      \n",
        "      part2 = []\n",
        "      i = 1\n",
        "      while len(scores)>(n+i) and (scores[-n]==scores[-n-i]):\n",
        "        part2.append(sortedLB[-n-i])\n",
        "        i += 1\n",
        "      trimedLeaderBoard = set(part1 + part2)\n",
        "    else: \n",
        "      trimedLeaderBoard = leaderBoard\n",
        "    #print('trimedLeaderBoard ', len(leaderBoard), '->',len(trimedLeaderBoard),  trimedLeaderBoard )\n",
        "    return trimedLeaderBoard \n",
        "\n",
        "\n",
        "  # *** Main *** \n",
        "\n",
        "  tbAAtoMass = GetAminoAcidMassTable()\n",
        "  tbMasstoAA = GetMassAminoAcidTable()\n",
        "  parentMass = GetParentMass(spectrum)\n",
        "\n",
        "  leaderBoard = {''} # set of strings\n",
        "  leaderPeptide = ''\n",
        "\n",
        "  while len(leaderBoard) > 0:\n",
        "    leaderBoardExp = Expand(leaderBoard)\n",
        "    leaderBoardCopy = leaderBoardExp.copy()\n",
        "\n",
        "    for peptide in leaderBoardExp:  # peptide 137-57-128\n",
        "      \n",
        "      peptideMass = GetMass(peptide)\n",
        "      if peptideMass == parentMass:\n",
        "        peptideAA = PeptToAA(peptide)\n",
        "        LS1 = LinearScore(peptideAA, spectrum)\n",
        "        LS2 = LinearScore(leaderPeptide, spectrum)\n",
        "        if  LS1 > LS2 :\n",
        "          leaderPeptide = peptide \n",
        "      elif peptideMass > parentMass:\n",
        "        leaderBoardCopy.remove(peptide)\n",
        "    leaderBoard = Trim(leaderBoardCopy, spectrum, n)\n",
        "\n",
        "  return leaderPeptide\n",
        "\n",
        "n = 10 \n",
        "spectrum = [int(s) for s in '0 71 113 129 147 200 218 260 313 331 347 389 460'.split(' ')]\n",
        "LB = LeaderBoard(n, spectrum)\n",
        "print(LB)"
      ],
      "execution_count": 120,
      "outputs": [
        {
          "output_type": "stream",
          "text": [
            "129-71-113-147\n"
          ],
          "name": "stdout"
        }
      ]
    },
    {
      "cell_type": "markdown",
      "metadata": {
        "id": "me_oU7cXAgk8"
      },
      "source": [
        "### Extra dataset"
      ]
    },
    {
      "cell_type": "code",
      "metadata": {
        "id": "9vKKUdiTAgPm"
      },
      "source": [
        "url = 'http://bioinformaticsalgorithms.com/data/extradatasets/antibiotics/leaderboard_cyclopeptide_sequencing.txt'\n",
        "with urllib.request.urlopen(url) as f:\n",
        "    data = f.read().decode('utf-8')"
      ],
      "execution_count": 48,
      "outputs": []
    },
    {
      "cell_type": "code",
      "metadata": {
        "colab": {
          "base_uri": "https://localhost:8080/",
          "height": 35
        },
        "id": "TyM8bcW8GIzN",
        "outputId": "1bceb25d-d350-4d7d-fc54-c74dd1a270c6"
      },
      "source": [
        "data.split('\\r\\n')[4]"
      ],
      "execution_count": 49,
      "outputs": [
        {
          "output_type": "execute_result",
          "data": {
            "application/vnd.google.colaboratory.intrinsic+json": {
              "type": "string"
            },
            "text/plain": [
              "'97-129-97-147-99-71-186-71-113-163-115-71-113-128-103-87-128-101-137-163-114'"
            ]
          },
          "metadata": {
            "tags": []
          },
          "execution_count": 49
        }
      ]
    },
    {
      "cell_type": "code",
      "metadata": {
        "colab": {
          "base_uri": "https://localhost:8080/"
        },
        "id": "kRgK3-pBAnW2",
        "outputId": "fc9e3b49-e91c-4de5-cfaa-2615e6196940"
      },
      "source": [
        "n1 = int(data.split('\\r\\n')[1])\n",
        "spectrum1 = [int(s) for s in data.split('\\r\\n')[2].split(' ')]\n",
        "print(n1, spectrum1[:10])"
      ],
      "execution_count": 50,
      "outputs": [
        {
          "output_type": "stream",
          "text": [
            "325 [0, 71, 71, 71, 87, 97, 97, 99, 101, 103]\n"
          ],
          "name": "stdout"
        }
      ]
    },
    {
      "cell_type": "code",
      "metadata": {
        "colab": {
          "base_uri": "https://localhost:8080/",
          "height": 35
        },
        "id": "ymG8SrewByQF",
        "outputId": "fe7cd9e7-5577-41dd-e67c-650126249fdd"
      },
      "source": [
        "l = LeaderBoard(n1, spectrum1)\n",
        "l"
      ],
      "execution_count": 52,
      "outputs": [
        {
          "output_type": "execute_result",
          "data": {
            "application/vnd.google.colaboratory.intrinsic+json": {
              "type": "string"
            },
            "text/plain": [
              "'99-147-97-129-97-114-163-137-101-128-87-103-128-113-71-115-163-113-71-115-71-71'"
            ]
          },
          "metadata": {
            "tags": []
          },
          "execution_count": 52
        }
      ]
    },
    {
      "cell_type": "markdown",
      "metadata": {
        "id": "D_vLTqWR9hVu"
      },
      "source": [
        "### Stepik submission"
      ]
    },
    {
      "cell_type": "code",
      "metadata": {
        "colab": {
          "resources": {
            "http://localhost:8080/nbextensions/google.colab/files.js": {
              "data": "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",
              "ok": true,
              "headers": [
                [
                  "content-type",
                  "application/javascript"
                ]
              ],
              "status": 200,
              "status_text": ""
            }
          },
          "base_uri": "https://localhost:8080/",
          "height": 89
        },
        "id": "jcXCpGj1xUL8",
        "outputId": "ab7943d7-74cf-4d06-d41c-f18d168f11b6"
      },
      "source": [
        "uploaded = files.upload()\n",
        "\n",
        "for fn in uploaded.keys():\n",
        "  print('User uploaded file \"{name}\" with length {length} bytes'.format(\n",
        "      name=fn, length=len(uploaded[fn])))"
      ],
      "execution_count": 54,
      "outputs": [
        {
          "output_type": "display_data",
          "data": {
            "text/html": [
              "\n",
              "     <input type=\"file\" id=\"files-fdc9efdc-d96e-4aec-9c6d-775a10951013\" name=\"files[]\" multiple disabled\n",
              "        style=\"border:none\" />\n",
              "     <output id=\"result-fdc9efdc-d96e-4aec-9c6d-775a10951013\">\n",
              "      Upload widget is only available when the cell has been executed in the\n",
              "      current browser session. Please rerun this cell to enable.\n",
              "      </output>\n",
              "      <script src=\"/nbextensions/google.colab/files.js\"></script> "
            ],
            "text/plain": [
              "<IPython.core.display.HTML object>"
            ]
          },
          "metadata": {
            "tags": []
          }
        },
        {
          "output_type": "stream",
          "text": [
            "Saving dataset_102_8-2.txt to dataset_102_8-2.txt\n",
            "User uploaded file \"dataset_102_8-2.txt\" with length 2362 bytes\n"
          ],
          "name": "stdout"
        }
      ]
    },
    {
      "cell_type": "code",
      "metadata": {
        "colab": {
          "base_uri": "https://localhost:8080/"
        },
        "id": "qrzoTa7e9km7",
        "outputId": "f8c89bc2-89ee-4f45-8d5c-988d5a0343c2"
      },
      "source": [
        "with open(fn) as f:\n",
        "  n = int(f.readline().split('\\n')[0])\n",
        "  spectr = f.readline().split('\\n')[0]\n",
        "spectr = [int(s) for s in spectr.split(' ')]\n",
        "\n",
        "print(spectr)\n",
        "print(n)"
      ],
      "execution_count": 55,
      "outputs": [
        {
          "output_type": "stream",
          "text": [
            "[0, 71, 87, 87, 97, 99, 113, 115, 115, 128, 128, 128, 128, 128, 131, 137, 137, 147, 147, 147, 147, 163, 186, 186, 202, 202, 214, 215, 215, 218, 234, 241, 243, 246, 252, 256, 257, 260, 265, 283, 284, 289, 291, 291, 294, 294, 314, 330, 330, 333, 346, 351, 361, 369, 378, 378, 380, 380, 381, 383, 385, 388, 388, 407, 417, 419, 420, 430, 441, 442, 458, 467, 475, 479, 480, 480, 493, 495, 498, 498, 506, 506, 509, 513, 516, 516, 535, 554, 555, 567, 567, 577, 580, 582, 593, 594, 595, 595, 603, 603, 621, 621, 626, 626, 627, 635, 637, 644, 663, 666, 681, 682, 702, 708, 708, 710, 714, 714, 724, 724, 731, 731, 732, 740, 741, 749, 757, 758, 763, 766, 773, 781, 795, 809, 810, 813, 828, 836, 837, 839, 844, 859, 860, 861, 861, 868, 873, 878, 886, 894, 894, 904, 910, 918, 920, 928, 956, 960, 965, 965, 967, 972, 972, 973, 974, 975, 981, 991, 996, 996, 1001, 1008, 1022, 1022, 1038, 1046, 1051, 1062, 1065, 1067, 1075, 1088, 1093, 1093, 1096, 1100, 1102, 1104, 1107, 1109, 1119, 1119, 1121, 1135, 1138, 1150, 1161, 1175, 1182, 1187, 1190, 1193, 1198, 1212, 1219, 1220, 1222, 1224, 1224, 1230, 1237, 1247, 1248, 1249, 1253, 1256, 1263, 1266, 1279, 1282, 1285, 1290, 1308, 1318, 1334, 1335, 1340, 1348, 1350, 1350, 1352, 1352, 1353, 1359, 1361, 1376, 1377, 1384, 1384, 1389, 1395, 1410, 1413, 1416, 1429, 1455, 1463, 1465, 1465, 1471, 1471, 1472, 1476, 1476, 1480, 1481, 1481, 1487, 1487, 1489, 1497, 1523, 1536, 1539, 1542, 1557, 1563, 1568, 1568, 1575, 1576, 1591, 1593, 1599, 1600, 1600, 1602, 1602, 1604, 1612, 1617, 1618, 1634, 1644, 1662, 1667, 1670, 1673, 1686, 1689, 1696, 1699, 1703, 1704, 1705, 1715, 1722, 1728, 1728, 1730, 1732, 1733, 1740, 1754, 1759, 1762, 1765, 1770, 1777, 1791, 1802, 1814, 1817, 1831, 1833, 1833, 1843, 1845, 1848, 1850, 1852, 1856, 1859, 1859, 1864, 1877, 1885, 1887, 1890, 1901, 1906, 1914, 1930, 1930, 1944, 1951, 1956, 1956, 1961, 1971, 1977, 1978, 1979, 1980, 1980, 1985, 1987, 1987, 1992, 1996, 2024, 2032, 2034, 2042, 2048, 2058, 2058, 2066, 2074, 2079, 2084, 2091, 2091, 2092, 2093, 2103, 2108, 2113, 2115, 2116, 2124, 2139, 2142, 2143, 2157, 2171, 2179, 2186, 2189, 2194, 2195, 2203, 2211, 2212, 2220, 2221, 2221, 2228, 2228, 2238, 2238, 2242, 2244, 2244, 2250, 2270, 2271, 2286, 2289, 2308, 2315, 2317, 2325, 2326, 2326, 2331, 2331, 2349, 2349, 2357, 2357, 2358, 2359, 2370, 2372, 2375, 2385, 2385, 2397, 2398, 2417, 2436, 2436, 2439, 2443, 2446, 2446, 2454, 2454, 2457, 2459, 2472, 2472, 2473, 2477, 2485, 2494, 2510, 2511, 2522, 2532, 2533, 2535, 2545, 2564, 2564, 2567, 2569, 2571, 2572, 2572, 2574, 2574, 2583, 2591, 2601, 2606, 2619, 2622, 2622, 2638, 2658, 2658, 2661, 2661, 2663, 2668, 2669, 2687, 2692, 2695, 2696, 2700, 2706, 2709, 2711, 2718, 2734, 2737, 2737, 2738, 2750, 2750, 2766, 2766, 2789, 2805, 2805, 2805, 2805, 2815, 2815, 2821, 2824, 2824, 2824, 2824, 2824, 2837, 2837, 2839, 2853, 2855, 2865, 2865, 2881, 2952]\n",
            "165\n"
          ],
          "name": "stdout"
        }
      ]
    },
    {
      "cell_type": "code",
      "metadata": {
        "id": "dMzLQxwH9zyi"
      },
      "source": [
        "l = LeaderBoard(n, spectr)"
      ],
      "execution_count": 56,
      "outputs": []
    },
    {
      "cell_type": "code",
      "metadata": {
        "colab": {
          "base_uri": "https://localhost:8080/",
          "height": 35
        },
        "id": "Mh0WdQNi91Ry",
        "outputId": "44c9fe56-a5f4-43f2-d865-8142c93a7667"
      },
      "source": [
        "l"
      ],
      "execution_count": 57,
      "outputs": [
        {
          "output_type": "execute_result",
          "data": {
            "application/vnd.google.colaboratory.intrinsic+json": {
              "type": "string"
            },
            "text/plain": [
              "'97-137-147-99-115-137-128-115-87-128-163-128-87-131-71-186-128-128-113-147-147-147-99-87'"
            ]
          },
          "metadata": {
            "tags": []
          },
          "execution_count": 57
        }
      ]
    },
    {
      "cell_type": "markdown",
      "metadata": {
        "id": "qRBlDY6usHxd"
      },
      "source": [
        "## Noisy spectrums"
      ]
    },
    {
      "cell_type": "code",
      "metadata": {
        "colab": {
          "base_uri": "https://localhost:8080/"
        },
        "id": "csp60Szbte1a",
        "outputId": "bde671ab-6f07-4bba-c8e1-423eded97429"
      },
      "source": [
        "def LeaderBoardTop(n, spectrum):\n",
        "\n",
        "  def LinearSpectrum(peptide):\n",
        "    #print('peptide', peptide)\n",
        "    \n",
        "    lPeptide = len(peptide)\n",
        "    prefixMass = [0] * (lPeptide) \n",
        "\n",
        "    for i in range(0, lPeptide):\n",
        "      for symbol in tbAAtoMass.keys():\n",
        "        if symbol == peptide[i]:\n",
        "          prefixMass[i] = prefixMass[i-1] + tbAAtoMass[symbol]\n",
        "    prefixMass.insert(0,0)\n",
        "    \n",
        "    linearSpectrum = [0]\n",
        "    c = 0\n",
        "    for i in range(0, len(prefixMass)-1):\n",
        "      for j in range(i+1, len(prefixMass)):\n",
        "        c +=1\n",
        "        linearSpectrum.append(prefixMass[j]-prefixMass[i])\n",
        "\n",
        "    linearSpectrum.sort()\n",
        "    #print(linearSpectrum)\n",
        "    return linearSpectrum\n",
        "\n",
        "  def Cyclospectrum(peptide):\n",
        " \n",
        "    part1 = LinearSpectrum(peptide=peptide[:-1])\n",
        "    pref1 = LinearSpectrum(peptide=peptide)\n",
        "    tMass=pref1[-1] # mass of the full element\n",
        "    part2 = [tMass - x for x in part1]\n",
        "\n",
        "    final = part1 + part2\n",
        "    final.sort()\n",
        "    return final\n",
        "\n",
        "\n",
        "  def GetAminoAcidMassTable():\n",
        "    ''' Returns dictionary in format aminoacid: integer mass  \n",
        "    '''\n",
        "    with open('/content/drive/MyDrive/Colab Notebooks/Bionformatics-coursera-sandiego/Course 2/integer_mass_table.txt') as f:\n",
        "      tb = f.readlines()\n",
        "    massTable = dict()\n",
        "    for line in tb:\n",
        "      massTable[line.split('\\n')[0].split(' ')[0]] = int(line.split('\\n')[0].split(' ')[1])\n",
        "    return massTable\n",
        "\n",
        "\n",
        "  def GetMassAminoAcidTable():\n",
        "    ''' Returns dictionary in format integer mass : aminoacid\n",
        "    '''\n",
        "    with open('/content/drive/MyDrive/Colab Notebooks/Bionformatics-coursera-sandiego/Course 2/integer_mass_table.txt') as f:\n",
        "      tb = f.readlines()\n",
        "    massTable = dict()\n",
        "    for line in tb:\n",
        "      massTable[int(line.split('\\n')[0].split(' ')[1])] = line.split('\\n')[0].split(' ')[0]\n",
        "    return massTable\n",
        "\n",
        "\n",
        "  def Expand(candidatePeptides):\n",
        "      ''' Returns newCollection containing all possible extensions of peptides in \n",
        "          candidatePeptides by a single amino acid mass\n",
        "      ''' \n",
        "      newCollection = set()\n",
        "      if candidatePeptides != {''}:\n",
        "        \n",
        "        [newCollection.add(candidate + '-' + str(tbAAtoMass[peptide])) \n",
        "                          for candidate in candidatePeptides \\\n",
        "                            for peptide in tbAAtoMass ]\n",
        "      else:\n",
        "        [newCollection.add(candidate + str(tbAAtoMass[peptide])) \\\n",
        "                          for candidate in candidatePeptides \\\n",
        "                          for peptide in tbAAtoMass ]\n",
        "                        \n",
        "      return newCollection\n",
        "\n",
        "\n",
        "  def GetParentMass(spectrum):\n",
        "    \n",
        "    return spectrum[-1]\n",
        "  \n",
        "\n",
        "  def GetMass(peptide):\n",
        "    ''' Input: subpeptide string\n",
        "        Output: mass of subpeptidestring\n",
        "    '''\n",
        "    mass = 0 \n",
        "    \n",
        "    for element in peptide.split('-'):\n",
        "      if element != '':\n",
        "        mass = mass + int(element)\n",
        "\n",
        "    return mass \n",
        "\n",
        "\n",
        "  def PeptToAA(peptide):\n",
        "    ''' input: aminoacid sequence in format 137-57-128\n",
        "        output: aminoacid\n",
        "    '''\n",
        "    aminoAcid = ''\n",
        "    for aa in peptide.split('-'):\n",
        "      aminoAcid += tbMasstoAA[int(aa)]\n",
        "    return aminoAcid \n",
        "\n",
        "\n",
        "  def PeptideConsistentWithSpectrum(peptide):\n",
        "    ''' case 1: peptide is string '128'\n",
        "        case 2: peptide is string '128-113-99'\n",
        "    '''\n",
        "    peptideAA = PeptToAA(peptide) \n",
        "    LS = LinearSpectrum(peptide=peptideAA, alphabet=massTable.keys(), aminoAcidMass=massTable)\n",
        "\n",
        "    spectrumCopy = spectrum.copy()\n",
        "    cnt = 0\n",
        "\n",
        "    for element in LS:\n",
        "      if int(element) in spectrumCopy:\n",
        "        cnt += 1 \n",
        "        spectrumCopy.remove(int(element))\n",
        "      else:\n",
        "        return False\n",
        "    if cnt == len(LS):\n",
        "      return True\n",
        "      \n",
        "\n",
        "  def LinearScore(peptide, spectrum):\n",
        "    LS = LinearSpectrum(peptide)\n",
        "    CP = spectrum.copy()\n",
        "    score = 0\n",
        "    #print('LS', peptide, LS)\n",
        "\n",
        "    if peptide != '':\n",
        "      for s in LS:\n",
        "        if (s in CP):\n",
        "          score += 1 \n",
        "          CP.remove(s)\n",
        "\n",
        "    return score\n",
        "\n",
        "  def CycloScore(peptide, spectrum):\n",
        "    LS = Cyclospectrum(peptide)\n",
        "    CP = spectrum.copy()\n",
        "    score = 0\n",
        "    #print('LS', peptide, LS)\n",
        "\n",
        "    if peptide != '':\n",
        "      for s in LS:\n",
        "        if (s in CP):\n",
        "          score += 1 \n",
        "          CP.remove(s)\n",
        "\n",
        "    return score\n",
        "\n",
        "\n",
        "  def Trim(leaderBoard, spectrum, n):\n",
        "    ''' leaderBoard: set of peptides {'99-99-99', ''}\n",
        "        spectrum: list of int [0,99,128]\n",
        "        n = 10 \n",
        "    '''\n",
        "    scores = []\n",
        "    if len(leaderBoard) > n:\n",
        "      \n",
        "      trimedLeaderBoard = set()\n",
        "\n",
        "      [scores.append(LinearScore(PeptToAA(peptide), spectrum)) for peptide in leaderBoard]\n",
        "      #print('scores', sorted(scores,reverse=True))\n",
        "      \n",
        "      sortedLB = [l for _,l in sorted(zip(scores,leaderBoard))]\n",
        "      #print('sortedLB', sortedLB)\n",
        "      \n",
        "      scores = sorted(scores)\n",
        "      #print('sorted scores', scores)\n",
        "\n",
        "      part1 = sortedLB[-n:]\n",
        "      #print('part1', part1)\n",
        "      \n",
        "      part2 = []\n",
        "      i = 1\n",
        "      while len(scores)>(n+i) and (scores[-n]==scores[-n-i]):\n",
        "        part2.append(sortedLB[-n-i])\n",
        "        i += 1\n",
        "      trimedLeaderBoard = set(part1 + part2)\n",
        "    else: \n",
        "      trimedLeaderBoard = leaderBoard\n",
        "    #print('trimedLeaderBoard ', len(leaderBoard), '->',len(trimedLeaderBoard),  trimedLeaderBoard )\n",
        "    #print('scores',scores)\n",
        "    return trimedLeaderBoard \n",
        "\n",
        "\n",
        "  # *** Main *** \n",
        "\n",
        "  tbAAtoMass = GetAminoAcidMassTable()\n",
        "  tbMasstoAA = GetMassAminoAcidTable()\n",
        "  parentMass = GetParentMass(spectrum)\n",
        "\n",
        "  leaderBoard = {''} # set of strings\n",
        "  leaderPeptide = ''\n",
        "\n",
        "  topScore = 0\n",
        "  topPeptides = []\n",
        "  topScores = [] \n",
        "\n",
        "\n",
        "  while len(leaderBoard) > 0:\n",
        "    leaderBoardExp = Expand(leaderBoard)\n",
        "    leaderBoardCopy = leaderBoardExp.copy()\n",
        "\n",
        "    for peptide in leaderBoardExp:  # peptide 137-57-128  \n",
        "      peptideMass = GetMass(peptide)\n",
        "      if peptideMass == parentMass:\n",
        "        CScore1 = CycloScore(PeptToAA(peptide), spectrum)\n",
        "        CScore2 = CycloScore(leaderPeptide, spectrum)\n",
        "      \n",
        "        if CScore1 == topScore:\n",
        "          topPeptides.append(peptide) ###\n",
        "          topScores.append(topScore)\n",
        "        if topScore < CScore1:\n",
        "          topPeptides = [peptide]\n",
        "          topScores = [CScore1]\n",
        "          topScore = CScore1\n",
        "      \n",
        "        if  CScore1 > CScore2 :\n",
        "          leaderPeptide = peptide \n",
        "      elif peptideMass > parentMass:\n",
        "        leaderBoardCopy.remove(peptide)\n",
        "    leaderBoard = Trim(leaderBoardCopy, spectrum, n)\n",
        "    \n",
        "\n",
        "  return topPeptides #leaderPeptide, PeptToAA(leaderPeptide), CycloScore(PeptToAA(leaderPeptide), spectrum)\n",
        "\n",
        "n = 10 \n",
        "spectrum = [int(s) for s in '0 71 113 129 147 200 218 260 313 331 347 389 460'.split(' ')]\n",
        "LB = LeaderBoardTop(n, spectrum)\n",
        "print(LB)"
      ],
      "execution_count": 181,
      "outputs": [
        {
          "output_type": "stream",
          "text": [
            "topScore 13\n",
            "len(topScores) 8\n",
            "[13, 13, 13, 13, 13, 13, 13, 13]\n",
            "len(set(topPeptides)) 8\n",
            ">>>> I have found 8 peptides of score 13\n",
            "['113-147-71-129', '71-129-113-147', '129-113-147-71', '129-71-147-113', '147-71-129-113', '71-147-113-129', '113-129-71-147', '147-113-129-71']\n"
          ],
          "name": "stdout"
        }
      ]
    },
    {
      "cell_type": "markdown",
      "metadata": {
        "id": "L5v1HM2EPXFZ"
      },
      "source": [
        "### Spectrum 10"
      ]
    },
    {
      "cell_type": "code",
      "metadata": {
        "colab": {
          "base_uri": "https://localhost:8080/"
        },
        "id": "1DkZJmtMPNqi",
        "outputId": "876a9dbf-3153-49d0-c71f-b3c0621d4a3e"
      },
      "source": [
        "url = 'http://bioinformaticsalgorithms.com/data/realdatasets/Antibiotics/Tyrocidine_B1_Spectrum_10.txt'\n",
        "\n",
        "with urllib.request.urlopen(url) as f:\n",
        "    data_10 = f.read().decode('utf-8')\n",
        "\n",
        "data_10 = [int(x) for x in data_10.split(' ')]\n",
        "\n",
        "data_10[:10]"
      ],
      "execution_count": 153,
      "outputs": [
        {
          "output_type": "execute_result",
          "data": {
            "text/plain": [
              "[0, 97, 99, 114, 128, 147, 147, 163, 186, 227]"
            ]
          },
          "metadata": {
            "tags": []
          },
          "execution_count": 153
        }
      ]
    },
    {
      "cell_type": "code",
      "metadata": {
        "colab": {
          "base_uri": "https://localhost:8080/"
        },
        "id": "6qEkFY-vPVvC",
        "outputId": "4d690ea7-4c05-462d-8616-069f02c5054d"
      },
      "source": [
        "LB = LeaderBoardTop(n=1000, spectrum=data_10)\n",
        "print(LB)"
      ],
      "execution_count": 175,
      "outputs": [
        {
          "output_type": "stream",
          "text": [
            "topScore 86\n",
            "len(topScores) 240\n",
            "[86, 86, 86, 86, 86, 86, 86, 86, 86, 86, 86, 86, 86, 86, 86, 86, 86, 86, 86, 86, 86, 86, 86, 86, 86, 86, 86, 86, 86, 86, 86, 86, 86, 86, 86, 86, 86, 86, 86, 86, 86, 86, 86, 86, 86, 86, 86, 86, 86, 86, 86, 86, 86, 86, 86, 86, 86, 86, 86, 86, 86, 86, 86, 86, 86, 86, 86, 86, 86, 86, 86, 86, 86, 86, 86, 86, 86, 86, 86, 86, 86, 86, 86, 86, 86, 86, 86, 86, 86, 86, 86, 86, 86, 86, 86, 86, 86, 86, 86, 86, 86, 86, 86, 86, 86, 86, 86, 86, 86, 86, 86, 86, 86, 86, 86, 86, 86, 86, 86, 86, 86, 86, 86, 86, 86, 86, 86, 86, 86, 86, 86, 86, 86, 86, 86, 86, 86, 86, 86, 86, 86, 86, 86, 86, 86, 86, 86, 86, 86, 86, 86, 86, 86, 86, 86, 86, 86, 86, 86, 86, 86, 86, 86, 86, 86, 86, 86, 86, 86, 86, 86, 86, 86, 86, 86, 86, 86, 86, 86, 86, 86, 86, 86, 86, 86, 86, 86, 86, 86, 86, 86, 86, 86, 86, 86, 86, 86, 86, 86, 86, 86, 86, 86, 86, 86, 86, 86, 86, 86, 86, 86, 86, 86, 86, 86, 86, 86, 86, 86, 86, 86, 86, 86, 86, 86, 86, 86, 86, 86, 86, 86, 86, 86, 86, 86, 86, 86, 86, 86, 86]\n",
            "len(set(topPeptides)) 240\n",
            ">>>> I have found 240 peptides of score 86\n",
            "('57-57-147-186-97-147-113-128-99-163-71-57', 'GGFWPFLQVYAG', 86)\n"
          ],
          "name": "stdout"
        }
      ]
    },
    {
      "cell_type": "code",
      "metadata": {
        "id": "1ky_CuhlScl0"
      },
      "source": [
        "# Applying LeaderboardCyclopeptideSequencing to this spectrum (with N = 1000) results in \n",
        "# the correct cyclic peptide VKLFPWFNQY, which has a score of 86."
      ],
      "execution_count": null,
      "outputs": []
    },
    {
      "cell_type": "markdown",
      "metadata": {
        "id": "vQAslVMeQKsK"
      },
      "source": [
        "### Spectrum 25"
      ]
    },
    {
      "cell_type": "code",
      "metadata": {
        "colab": {
          "base_uri": "https://localhost:8080/"
        },
        "id": "_qLO9vJtnt4T",
        "outputId": "bb5c9dd5-18e6-4976-b32d-26cad95a424f"
      },
      "source": [
        "url = 'http://bioinformaticsalgorithms.com/data/realdatasets/Antibiotics/Tyrocidine_B1_Spectrum_25.txt'\n",
        "with urllib.request.urlopen(url) as f:\n",
        "    data_25 = f.read().decode('utf-8')\n",
        "\n",
        "data_25 = [int(x) for x in data_25.split(' ')]\n",
        "\n",
        "data_25[:10]"
      ],
      "execution_count": 158,
      "outputs": [
        {
          "output_type": "execute_result",
          "data": {
            "text/plain": [
              "[0, 97, 99, 113, 114, 115, 128, 128, 147, 147]"
            ]
          },
          "metadata": {
            "tags": []
          },
          "execution_count": 158
        }
      ]
    },
    {
      "cell_type": "code",
      "metadata": {
        "colab": {
          "base_uri": "https://localhost:8080/"
        },
        "id": "0WR8OT0KsShQ",
        "outputId": "74d075b2-de87-43e3-b4a9-ffde2adede2f"
      },
      "source": [
        "LBT = LeaderBoardTop(n=1000, spectrum = data_25)\n",
        "LBT "
      ],
      "execution_count": 176,
      "outputs": [
        {
          "output_type": "stream",
          "text": [
            "topScore 83\n",
            "len(topScores) 38\n",
            "[83, 83, 83, 83, 83, 83, 83, 83, 83, 83, 83, 83, 83, 83, 83, 83, 83, 83, 83, 83, 83, 83, 83, 83, 83, 83, 83, 83, 83, 83, 83, 83, 83, 83, 83, 83, 83, 83]\n",
            "len(set(topPeptides)) 38\n",
            ">>>> I have found 38 peptides of score 83\n"
          ],
          "name": "stdout"
        },
        {
          "output_type": "execute_result",
          "data": {
            "text/plain": [
              "('97-147-113-128-99-163-71-57-57-57-147-115-71', 'PFLQVYAGGGFDA', 83)"
            ]
          },
          "metadata": {
            "tags": []
          },
          "execution_count": 176
        }
      ]
    },
    {
      "cell_type": "code",
      "metadata": {
        "id": "G7_6-mDvtmEB"
      },
      "source": [
        "#  You should find 38 linear peptides of maximum score 83 \n",
        "#  (corresponding to 15 different cyclic peptides)"
      ],
      "execution_count": null,
      "outputs": []
    },
    {
      "cell_type": "markdown",
      "metadata": {
        "id": "iZn6wDnKZx-_"
      },
      "source": [
        "## 1.1.3 Run LeaderboardCyclopeptideSequencing on Spectrum25 with N = 1000. \n",
        "\n",
        "You should find 38 linear peptides of maximum score 83 (corresponding to 15 different cyclic peptides). What are they? (Return your peptides in integer format, with each peptide separated by a single space, e.g., 113-147-71-129 71-147-129-113.)"
      ]
    },
    {
      "cell_type": "code",
      "metadata": {
        "colab": {
          "resources": {
            "http://localhost:8080/nbextensions/google.colab/files.js": {
              "data": "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",
              "ok": true,
              "headers": [
                [
                  "content-type",
                  "application/javascript"
                ]
              ],
              "status": 200,
              "status_text": ""
            }
          },
          "base_uri": "https://localhost:8080/",
          "height": 89
        },
        "id": "v8UtrXu1s_Xw",
        "outputId": "62320f9c-f20e-4a69-8c0e-1da82cadc140"
      },
      "source": [
        "uploaded = files.upload()\n",
        "\n",
        "for fn in uploaded.keys():\n",
        "  print('User uploaded file \"{name}\" with length {length} bytes'.format(\n",
        "      name=fn, length=len(uploaded[fn])))"
      ],
      "execution_count": 186,
      "outputs": [
        {
          "output_type": "display_data",
          "data": {
            "text/html": [
              "\n",
              "     <input type=\"file\" id=\"files-aee927b2-8ec9-42c4-a17c-e89416bb6205\" name=\"files[]\" multiple disabled\n",
              "        style=\"border:none\" />\n",
              "     <output id=\"result-aee927b2-8ec9-42c4-a17c-e89416bb6205\">\n",
              "      Upload widget is only available when the cell has been executed in the\n",
              "      current browser session. Please rerun this cell to enable.\n",
              "      </output>\n",
              "      <script src=\"/nbextensions/google.colab/files.js\"></script> "
            ],
            "text/plain": [
              "<IPython.core.display.HTML object>"
            ]
          },
          "metadata": {
            "tags": []
          }
        },
        {
          "output_type": "stream",
          "text": [
            "Saving dataset_102_10.txt to dataset_102_10 (1).txt\n",
            "User uploaded file \"dataset_102_10.txt\" with length 398 bytes\n"
          ],
          "name": "stdout"
        }
      ]
    },
    {
      "cell_type": "code",
      "metadata": {
        "id": "H0-EDxgLs_VM"
      },
      "source": [
        "with open(fn) as f:\n",
        "  data = f.readlines()\n",
        "\n",
        "n = data[0].split('\\n')[0]\n",
        "spectrum = data[1].split('\\n')[0]"
      ],
      "execution_count": 187,
      "outputs": []
    },
    {
      "cell_type": "code",
      "metadata": {
        "colab": {
          "base_uri": "https://localhost:8080/"
        },
        "id": "KrmgCIOiRN-L",
        "outputId": "c99d8fa6-9520-4c16-fccf-89e3732f97fa"
      },
      "source": [
        "C = LeaderBoardTop(n=1000, spectrum = data_25)"
      ],
      "execution_count": 188,
      "outputs": [
        {
          "output_type": "stream",
          "text": [
            "topScore 83\n",
            "len(topScores) 38\n",
            "[83, 83, 83, 83, 83, 83, 83, 83, 83, 83, 83, 83, 83, 83, 83, 83, 83, 83, 83, 83, 83, 83, 83, 83, 83, 83, 83, 83, 83, 83, 83, 83, 83, 83, 83, 83, 83, 83]\n",
            "len(set(topPeptides)) 38\n",
            ">>>> I have found 38 peptides of score 83\n"
          ],
          "name": "stdout"
        }
      ]
    },
    {
      "cell_type": "code",
      "metadata": {
        "colab": {
          "base_uri": "https://localhost:8080/",
          "height": 171
        },
        "id": "gE-boA7ORSfS",
        "outputId": "f52c366d-6d45-4a68-af96-408a819aeae1"
      },
      "source": [
        "s = ''\n",
        "for el in C:\n",
        "  s += str(el) + ' '\n",
        "s "
      ],
      "execution_count": 189,
      "outputs": [
        {
          "output_type": "execute_result",
          "data": {
            "application/vnd.google.colaboratory.intrinsic+json": {
              "type": "string"
            },
            "text/plain": [
              "'97-147-113-128-99-163-128-114-147-71-115 128-99-163-128-114-147-115-71-97-147-113 115-71-147-114-128-163-99-128-113-147-97 115-147-114-128-163-99-128-113-147-97-71 128-114-147-115-71-97-147-113-128-99-163 128-99-163-128-114-147-71-115-97-147-113 163-128-114-147-115-71-97-147-113-128-99 114-128-163-99-128-113-147-97-71-115-147 97-147-113-128-99-163-128-114-147-115-71 97-71-115-147-114-128-163-99-128-113-147 114-128-163-99-128-113-147-97-115-71-147 99-163-128-114-147-115-71-97-147-113-128 113-128-99-163-128-114-147-115-71-97-147 147-113-128-99-163-128-114-147-71-115-97 113-128-99-163-128-114-147-71-115-97-147 99-163-128-114-147-71-115-97-147-113-128 147-114-128-163-99-128-113-147-97-115-71 147-113-128-99-163-128-114-147-115-71-97 71-115-147-114-128-163-99-128-113-147-97 147-114-128-163-99-128-113-147-97-71-115 147-114-128-163-99-57-71-113-147-97-115-71 97-147-113-128-99-163-128-57-57-147-71-115 147-114-128-163-99-57-71-113-147-97-71-115 99-163-128-114-147-115-71-97-147-113-71-57 97-147-113-128-99-163-71-57-114-147-71-115 97-147-113-128-99-163-71-57-114-147-115-71 97-147-113-128-99-163-57-71-114-147-71-115 57-57-128-163-99-128-113-147-97-71-115-147 147-113-128-99-163-128-57-57-147-115-71-97 99-163-128-114-147-71-115-97-147-113-57-71 99-163-128-114-147-115-71-97-147-113-57-71 147-114-128-163-99-71-57-113-147-97-115-71 147-114-128-163-99-71-57-113-147-97-71-115 99-163-128-114-147-71-115-97-147-113-71-57 97-147-113-128-99-163-128-57-57-147-115-71 97-147-113-128-99-163-57-71-114-147-115-71 97-147-113-128-99-163-71-57-57-57-147-71-115 97-147-113-128-99-163-71-57-57-57-147-115-71 '"
            ]
          },
          "metadata": {
            "tags": []
          },
          "execution_count": 189
        }
      ]
    },
    {
      "cell_type": "markdown",
      "metadata": {
        "id": "alZoMOc-XdIz"
      },
      "source": [
        "## 1.2.1 Applying LeaderboardCyclopeptideSequencing on the extended amino acid alphabet \n",
        "\n",
        "(i.e., every integer between 57 and 200 inclusively) to Spectrum10 with N = 1000 returns 34 different linear peptides of maximum score. What are they? (Return your answer in integer format separated by a space, e.g., 113-147-71-129 199-200-61.)"
      ]
    },
    {
      "cell_type": "code",
      "metadata": {
        "colab": {
          "base_uri": "https://localhost:8080/"
        },
        "id": "IaacK_x-RgpU",
        "outputId": "a23928ea-2b5f-40a6-9e73-9e1ea0f7ebaa"
      },
      "source": [
        "def LeaderBoardTop(n, spectrum):\n",
        "\n",
        "  def LinearSpectrum(peptide):\n",
        "    #print('peptide', peptide)\n",
        "    \n",
        "    lPeptide = len(peptide)\n",
        "    prefixMass = [0] * (lPeptide) \n",
        "\n",
        "    for i in range(0, lPeptide):\n",
        "      for symbol in tbAAtoMass.keys():\n",
        "        if symbol == peptide[i]:\n",
        "          prefixMass[i] = prefixMass[i-1] + tbAAtoMass[symbol]\n",
        "    prefixMass.insert(0,0)\n",
        "    \n",
        "    linearSpectrum = [0]\n",
        "    c = 0\n",
        "    for i in range(0, len(prefixMass)-1):\n",
        "      for j in range(i+1, len(prefixMass)):\n",
        "        c +=1\n",
        "        linearSpectrum.append(prefixMass[j]-prefixMass[i])\n",
        "\n",
        "    linearSpectrum.sort()\n",
        "    #print(linearSpectrum)\n",
        "    return linearSpectrum\n",
        "\n",
        "  def Cyclospectrum(peptide):\n",
        " \n",
        "    part1 = LinearSpectrum(peptide=peptide[:-1])\n",
        "    pref1 = LinearSpectrum(peptide=peptide)\n",
        "    tMass=pref1[-1] # mass of the full element\n",
        "    part2 = [tMass - x for x in part1]\n",
        "\n",
        "    final = part1 + part2\n",
        "    final.sort()\n",
        "    return final\n",
        "\n",
        "\n",
        "  def GetAminoAcidMassTable():\n",
        "    ''' Returns dictionary in format aminoacid: integer mass  \n",
        "    '''\n",
        "    with open('/content/drive/MyDrive/Colab Notebooks/Bionformatics-coursera-sandiego/Course 2/integer_mass_table.txt') as f:\n",
        "      tb = f.readlines()\n",
        "    massTable = dict()\n",
        "    for line in tb:\n",
        "      massTable[line.split('\\n')[0].split(' ')[0]] = int(line.split('\\n')[0].split(' ')[1])\n",
        "    return massTable\n",
        "\n",
        "\n",
        "  def GetMassAminoAcidTable():\n",
        "    ''' Returns dictionary in format integer mass : aminoacid\n",
        "    '''\n",
        "    with open('/content/drive/MyDrive/Colab Notebooks/Bionformatics-coursera-sandiego/Course 2/integer_mass_table.txt') as f:\n",
        "      tb = f.readlines()\n",
        "    massTable = dict()\n",
        "    for line in tb:\n",
        "      massTable[int(line.split('\\n')[0].split(' ')[1])] = line.split('\\n')[0].split(' ')[0]\n",
        "    return massTable\n",
        "\n",
        "\n",
        "  def Expand(candidatePeptides):\n",
        "      ''' Returns newCollection containing all possible extensions of peptides in \n",
        "          candidatePeptides by a single amino acid mass\n",
        "      ''' \n",
        "      newCollection = set()\n",
        "      if candidatePeptides != {''}:\n",
        "        \n",
        "        [newCollection.add(candidate + '-' + str(tbAAtoMass[peptide])) \n",
        "                          for candidate in candidatePeptides \\\n",
        "                            for peptide in tbAAtoMass ]\n",
        "      else:\n",
        "        [newCollection.add(candidate + str(tbAAtoMass[peptide])) \\\n",
        "                          for candidate in candidatePeptides \\\n",
        "                          for peptide in tbAAtoMass ]\n",
        "                        \n",
        "      return newCollection\n",
        "\n",
        "\n",
        "  def GetParentMass(spectrum):\n",
        "    \n",
        "    return spectrum[-1]\n",
        "  \n",
        "\n",
        "  def GetMass(peptide):\n",
        "    ''' Input: subpeptide string\n",
        "        Output: mass of subpeptidestring\n",
        "    '''\n",
        "    mass = 0 \n",
        "    \n",
        "    for element in peptide.split('-'):\n",
        "      if element != '':\n",
        "        mass = mass + int(element)\n",
        "\n",
        "    return mass \n",
        "\n",
        "\n",
        "  def PeptToAA(peptide):\n",
        "    ''' input: aminoacid sequence in format 137-57-128\n",
        "        output: aminoacid\n",
        "    '''\n",
        "    aminoAcid = ''\n",
        "    for aa in peptide.split('-'):\n",
        "      aminoAcid += tbMasstoAA[int(aa)]\n",
        "    return aminoAcid \n",
        "\n",
        "\n",
        "  def PeptideConsistentWithSpectrum(peptide):\n",
        "    ''' case 1: peptide is string '128'\n",
        "        case 2: peptide is string '128-113-99'\n",
        "    '''\n",
        "    peptideAA = PeptToAA(peptide) \n",
        "    LS = LinearSpectrum(peptide=peptideAA, alphabet=massTable.keys(), aminoAcidMass=massTable)\n",
        "\n",
        "    spectrumCopy = spectrum.copy()\n",
        "    cnt = 0\n",
        "\n",
        "    for element in LS:\n",
        "      if int(element) in spectrumCopy:\n",
        "        cnt += 1 \n",
        "        spectrumCopy.remove(int(element))\n",
        "      else:\n",
        "        return False\n",
        "    if cnt == len(LS):\n",
        "      return True\n",
        "      \n",
        "\n",
        "  def LinearScore(peptide, spectrum):\n",
        "    LS = LinearSpectrum(peptide)\n",
        "    CP = spectrum.copy()\n",
        "    score = 0\n",
        "    #print('LS', peptide, LS)\n",
        "\n",
        "    if peptide != '':\n",
        "      for s in LS:\n",
        "        if (s in CP):\n",
        "          score += 1 \n",
        "          CP.remove(s)\n",
        "\n",
        "    return score\n",
        "\n",
        "  def CycloScore(peptide, spectrum):\n",
        "    LS = Cyclospectrum(peptide)\n",
        "    CP = spectrum.copy()\n",
        "    score = 0\n",
        "    #print('LS', peptide, LS)\n",
        "\n",
        "    if peptide != '':\n",
        "      for s in LS:\n",
        "        if (s in CP):\n",
        "          score += 1 \n",
        "          CP.remove(s)\n",
        "\n",
        "    return score\n",
        "\n",
        "\n",
        "  def Trim(leaderBoard, spectrum, n):\n",
        "    ''' leaderBoard: set of peptides {'99-99-99', ''}\n",
        "        spectrum: list of int [0,99,128]\n",
        "        n = 10 \n",
        "    '''\n",
        "    scores = []\n",
        "    if len(leaderBoard) > n:\n",
        "      \n",
        "      trimedLeaderBoard = set()\n",
        "\n",
        "      [scores.append(LinearScore(PeptToAA(peptide), spectrum)) for peptide in leaderBoard]\n",
        "      #print('scores', sorted(scores,reverse=True))\n",
        "      \n",
        "      sortedLB = [l for _,l in sorted(zip(scores,leaderBoard))]\n",
        "      #print('sortedLB', sortedLB)\n",
        "      \n",
        "      scores = sorted(scores)\n",
        "      #print('sorted scores', scores)\n",
        "\n",
        "      part1 = sortedLB[-n:]\n",
        "      #print('part1', part1)\n",
        "      \n",
        "      part2 = []\n",
        "      i = 1\n",
        "      while len(scores)>(n+i) and (scores[-n]==scores[-n-i]):\n",
        "        part2.append(sortedLB[-n-i])\n",
        "        i += 1\n",
        "      trimedLeaderBoard = set(part1 + part2)\n",
        "    else: \n",
        "      trimedLeaderBoard = leaderBoard\n",
        "    #print('trimedLeaderBoard ', len(leaderBoard), '->',len(trimedLeaderBoard),  trimedLeaderBoard )\n",
        "    #print('scores',scores)\n",
        "    return trimedLeaderBoard \n",
        "\n",
        "\n",
        "  # *** Main *** \n",
        "\n",
        "  tbAAtoMass = GetAminoAcidMassTable()\n",
        "  tbMasstoAA = GetMassAminoAcidTable()\n",
        "  parentMass = GetParentMass(spectrum)\n",
        "\n",
        "  leaderBoard = {''} # set of strings\n",
        "  leaderPeptide = ''\n",
        "\n",
        "  topScore = 0\n",
        "  topPeptides = []\n",
        "  topScores = [] \n",
        "\n",
        "\n",
        "  while len(leaderBoard) > 0:\n",
        "    leaderBoardExp = Expand(leaderBoard)\n",
        "    leaderBoardCopy = leaderBoardExp.copy()\n",
        "\n",
        "    for peptide in leaderBoardExp:  # peptide 137-57-128  \n",
        "      peptideMass = GetMass(peptide)\n",
        "      if peptideMass == parentMass:\n",
        "        CScore1 = CycloScore(PeptToAA(peptide), spectrum)\n",
        "        CScore2 = CycloScore(leaderPeptide, spectrum)\n",
        "      \n",
        "        if CScore1 == topScore:\n",
        "          topPeptides.append(peptide) ###\n",
        "          topScores.append(topScore)\n",
        "        if topScore < CScore1:\n",
        "          topPeptides = [peptide]\n",
        "          topScores = [CScore1]\n",
        "          topScore = CScore1\n",
        "      \n",
        "        if  CScore1 > CScore2 :\n",
        "          leaderPeptide = peptide \n",
        "      elif peptideMass > parentMass:\n",
        "        leaderBoardCopy.remove(peptide)\n",
        "    leaderBoard = Trim(leaderBoardCopy, spectrum, n)\n",
        "    \n",
        "\n",
        "  return topPeptides , leaderPeptide, PeptToAA(leaderPeptide), CycloScore(PeptToAA(leaderPeptide), spectrum)\n",
        "\n",
        "n = 10 \n",
        "spectrum = [int(s) for s in '0 71 113 129 147 200 218 260 313 331 347 389 460'.split(' ')]\n",
        "LB = LeaderBoardTop(n, spectrum)\n",
        "print(LB)"
      ],
      "execution_count": 14,
      "outputs": [
        {
          "output_type": "stream",
          "text": [
            "(['71-129-113-147', '129-71-147-113', '113-129-71-147', '147-71-129-113', '113-147-71-129', '71-147-113-129', '129-113-147-71', '147-113-129-71'], '147-113-129-71', 'FLEA', 13)\n"
          ],
          "name": "stdout"
        }
      ]
    },
    {
      "cell_type": "markdown",
      "metadata": {
        "id": "a7calmukZGgo"
      },
      "source": [
        "## code"
      ]
    },
    {
      "cell_type": "code",
      "metadata": {
        "colab": {
          "resources": {
            "http://localhost:8080/nbextensions/google.colab/files.js": {
              "data": "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",
              "ok": true,
              "headers": [
                [
                  "content-type",
                  "application/javascript"
                ]
              ],
              "status": 200,
              "status_text": ""
            }
          },
          "base_uri": "https://localhost:8080/",
          "height": 89
        },
        "id": "geW8yTrPXsBC",
        "outputId": "240aaa75-f251-44c4-daa9-11227fc461cf"
      },
      "source": [
        "uploaded = files.upload()\n",
        "\n",
        "for fn in uploaded.keys():\n",
        "  print('User uploaded file \"{name}\" with length {length} bytes'.format(\n",
        "      name=fn, length=len(uploaded[fn])))"
      ],
      "execution_count": 4,
      "outputs": [
        {
          "output_type": "display_data",
          "data": {
            "text/html": [
              "\n",
              "     <input type=\"file\" id=\"files-7b7d2ffd-bf37-480d-9800-dcb5bc9bf238\" name=\"files[]\" multiple disabled\n",
              "        style=\"border:none\" />\n",
              "     <output id=\"result-7b7d2ffd-bf37-480d-9800-dcb5bc9bf238\">\n",
              "      Upload widget is only available when the cell has been executed in the\n",
              "      current browser session. Please rerun this cell to enable.\n",
              "      </output>\n",
              "      <script src=\"/nbextensions/google.colab/files.js\"></script> "
            ],
            "text/plain": [
              "<IPython.core.display.HTML object>"
            ]
          },
          "metadata": {
            "tags": []
          }
        },
        {
          "output_type": "stream",
          "text": [
            "Saving dataset_103_2.txt to dataset_103_2.txt\n",
            "User uploaded file \"dataset_103_2.txt\" with length 378 bytes\n"
          ],
          "name": "stdout"
        }
      ]
    },
    {
      "cell_type": "code",
      "metadata": {
        "id": "cU7ezHUlZESQ"
      },
      "source": [
        "with open(fn) as f:\n",
        "  data = f.readlines() \n",
        "\n",
        "n2 = int(data[0].split('\\n')[0])\n",
        "spectrum2 = data[1].split('\\n')[0]\n",
        "spectrum2 = [int(x) for x in spectrum2.split(' ') if x != '']"
      ],
      "execution_count": 35,
      "outputs": []
    },
    {
      "cell_type": "code",
      "metadata": {
        "id": "ygITTrmNZMMN"
      },
      "source": [
        "R = LeaderBoardTop(n2, spectrum2)"
      ],
      "execution_count": 36,
      "outputs": []
    },
    {
      "cell_type": "code",
      "metadata": {
        "colab": {
          "base_uri": "https://localhost:8080/"
        },
        "id": "fBrqmbDNZdB8",
        "outputId": "0991ff6a-1a80-42f8-c384-77057bd4cad2"
      },
      "source": [
        "R"
      ],
      "execution_count": 37,
      "outputs": [
        {
          "output_type": "execute_result",
          "data": {
            "text/plain": [
              "(['147-113-128-99-163-128-114-147-186-97',\n",
              "  '114-128-163-99-128-113-147-97-186-147',\n",
              "  '97-147-113-128-99-163-128-114-147-186',\n",
              "  '186-147-114-128-163-99-128-113-147-97',\n",
              "  '128-163-99-128-113-147-97-186-147-114',\n",
              "  '128-114-147-186-97-147-113-128-99-163',\n",
              "  '113-128-99-163-128-114-147-186-97-147',\n",
              "  '163-99-128-113-147-97-186-147-114-128',\n",
              "  '128-99-163-128-114-147-186-97-147-113',\n",
              "  '99-128-113-147-97-186-147-114-128-163',\n",
              "  '97-186-147-114-128-163-99-128-113-147',\n",
              "  '128-113-147-97-186-147-114-128-163-99',\n",
              "  '99-163-128-114-147-186-97-147-113-128',\n",
              "  '114-147-186-97-147-113-128-99-163-128',\n",
              "  '147-186-97-147-113-128-99-163-128-114',\n",
              "  '163-128-114-147-186-97-147-113-128-99',\n",
              "  '147-97-186-147-114-128-163-99-128-113',\n",
              "  '186-97-147-113-128-99-163-128-114-147',\n",
              "  '113-147-97-186-147-114-128-163-99-128',\n",
              "  '147-114-128-163-99-128-113-147-97-186',\n",
              "  '114-147-186-97-147-113-128-99-163-57-71',\n",
              "  '163-128-114-147-129-57-97-147-113-128-99',\n",
              "  '114-128-163-99-128-113-147-97-71-115-147',\n",
              "  '99-163-128-114-147-186-97-147-113-57-71',\n",
              "  '128-113-147-97-186-147-57-57-128-163-99',\n",
              "  '128-113-147-97-186-147-114-57-71-163-99',\n",
              "  '163-57-71-114-147-186-97-147-113-128-99',\n",
              "  '97-147-113-128-99-163-128-114-147-71-115',\n",
              "  '128-163-99-128-113-147-97-57-129-147-114',\n",
              "  '97-147-113-128-99-163-128-57-57-147-186',\n",
              "  '128-114-147-57-129-97-147-113-128-99-163',\n",
              "  '97-186-147-114-128-163-99-71-57-113-147',\n",
              "  '99-163-128-57-57-147-186-97-147-113-128',\n",
              "  '97-147-113-128-99-163-128-114-147-99-87',\n",
              "  '99-128-113-147-97-186-147-57-57-128-163',\n",
              "  '128-114-147-87-99-97-147-113-128-99-163',\n",
              "  '147-97-186-147-114-71-57-163-99-128-113',\n",
              "  '114-147-186-97-147-113-71-57-99-163-128',\n",
              "  '147-113-128-99-163-128-57-57-147-186-97',\n",
              "  '128-114-147-186-97-147-113-71-57-99-163',\n",
              "  '186-147-114-57-71-163-99-128-113-147-97',\n",
              "  '128-99-163-128-114-147-87-99-97-147-113',\n",
              "  '99-163-57-71-114-147-186-97-147-113-128',\n",
              "  '99-163-71-57-114-147-186-97-147-113-128',\n",
              "  '128-114-147-115-71-97-147-113-128-99-163',\n",
              "  '114-147-57-129-97-147-113-128-99-163-128',\n",
              "  '97-147-113-128-99-163-128-114-147-129-57',\n",
              "  '128-99-163-128-114-147-115-71-97-147-113',\n",
              "  '113-147-97-186-147-114-57-71-163-99-128',\n",
              "  '163-99-128-113-147-97-87-99-147-114-128',\n",
              "  '147-97-186-147-114-128-163-99-57-71-113',\n",
              "  '186-147-114-128-163-99-71-57-113-147-97',\n",
              "  '186-97-147-113-128-99-163-71-57-114-147',\n",
              "  '147-97-87-99-147-114-128-163-99-128-113',\n",
              "  '97-115-71-147-114-128-163-99-128-113-147',\n",
              "  '57-57-128-163-99-128-113-147-97-186-147',\n",
              "  '147-114-128-163-99-128-113-147-97-115-71',\n",
              "  '97-186-147-114-71-57-163-99-128-113-147',\n",
              "  '87-99-147-114-128-163-99-128-113-147-97',\n",
              "  '57-147-186-97-147-113-128-99-163-128-57',\n",
              "  '97-147-113-128-99-163-57-71-114-147-186',\n",
              "  '114-147-115-71-97-147-113-128-99-163-128',\n",
              "  '163-128-57-57-147-186-97-147-113-128-99',\n",
              "  '147-186-97-147-113-128-99-163-57-71-114',\n",
              "  '186-147-114-71-57-163-99-128-113-147-97',\n",
              "  '147-186-97-147-113-57-71-99-163-128-114',\n",
              "  '128-163-99-128-113-147-97-186-147-57-57',\n",
              "  '128-114-147-186-97-147-113-57-71-99-163',\n",
              "  '114-147-87-99-97-147-113-128-99-163-128',\n",
              "  '186-147-57-57-128-163-99-128-113-147-97',\n",
              "  '128-99-163-57-71-114-147-186-97-147-113',\n",
              "  '113-147-97-186-147-114-128-163-99-71-57',\n",
              "  '97-186-147-57-57-128-163-99-128-113-147',\n",
              "  '99-163-128-114-147-87-99-97-147-113-128',\n",
              "  '163-99-128-113-147-97-186-147-114-71-57',\n",
              "  '128-99-163-128-114-147-129-57-97-147-113',\n",
              "  '99-87-147-114-128-163-99-128-113-147-97',\n",
              "  '97-57-129-147-114-128-163-99-128-113-147',\n",
              "  '71-57-114-147-186-97-147-113-128-99-163',\n",
              "  '115-71-147-114-128-163-99-128-113-147-97',\n",
              "  '113-147-97-99-87-147-114-128-163-99-128',\n",
              "  '114-147-186-97-147-113-57-71-99-163-128',\n",
              "  '99-128-113-147-97-186-147-114-71-57-163',\n",
              "  '147-114-128-163-99-128-113-147-97-87-99',\n",
              "  '97-147-113-128-99-163-71-57-114-147-186',\n",
              "  '71-114-147-186-97-147-113-128-99-163-57',\n",
              "  '71-57-99-163-128-114-147-186-97-147-113',\n",
              "  '147-97-186-147-114-57-71-163-99-128-113',\n",
              "  '147-87-99-97-147-113-128-99-163-128-114',\n",
              "  '97-147-113-128-99-163-128-114-147-57-129',\n",
              "  '97-129-57-147-114-128-163-99-128-113-147',\n",
              "  '147-97-186-147-114-128-163-99-71-57-113',\n",
              "  '97-186-147-114-128-163-99-57-71-113-147',\n",
              "  '128-114-147-71-115-97-147-113-128-99-163',\n",
              "  '114-128-163-99-71-57-113-147-97-186-147',\n",
              "  '163-128-114-147-115-71-97-147-113-128-99',\n",
              "  '97-87-99-147-114-128-163-99-128-113-147',\n",
              "  '186-147-114-128-163-99-57-71-113-147-97',\n",
              "  '114-128-163-99-128-113-147-97-57-129-147',\n",
              "  '163-128-114-147-186-97-147-113-57-71-99',\n",
              "  '128-57-57-147-186-97-147-113-128-99-163',\n",
              "  '99-163-128-114-147-99-87-97-147-113-128',\n",
              "  '57-114-147-186-97-147-113-128-99-163-71',\n",
              "  '163-128-114-147-186-97-147-113-71-57-99',\n",
              "  '147-97-99-87-147-114-128-163-99-128-113',\n",
              "  '113-147-97-186-147-114-128-163-99-57-71',\n",
              "  '163-99-128-113-147-97-186-147-114-57-71',\n",
              "  '114-147-129-57-97-147-113-128-99-163-128',\n",
              "  '71-115-147-114-128-163-99-128-113-147-97',\n",
              "  '129-57-147-114-128-163-99-128-113-147-97',\n",
              "  '57-57-147-186-97-147-113-128-99-163-128',\n",
              "  '99-163-128-114-147-186-97-147-113-71-57',\n",
              "  '128-113-147-97-186-147-114-71-57-163-99',\n",
              "  '99-163-128-114-147-71-115-97-147-113-128',\n",
              "  '163-128-114-147-71-115-97-147-113-128-99',\n",
              "  '57-71-114-147-186-97-147-113-128-99-163',\n",
              "  '147-97-115-71-147-114-128-163-99-128-113',\n",
              "  '57-99-163-128-114-147-186-97-147-113-71',\n",
              "  '128-99-163-128-114-147-57-129-97-147-113',\n",
              "  '147-114-128-163-99-128-113-147-97-71-115',\n",
              "  '163-128-114-147-87-99-97-147-113-128-99',\n",
              "  '147-97-129-57-147-114-128-163-99-128-113',\n",
              "  '114-128-163-99-128-113-147-97-87-99-147',\n",
              "  '114-147-186-97-147-113-128-99-163-71-57',\n",
              "  '147-57-57-128-163-99-128-113-147-97-186',\n",
              "  '114-147-99-87-97-147-113-128-99-163-128',\n",
              "  '128-114-147-99-87-97-147-113-128-99-163',\n",
              "  '163-99-128-113-147-97-71-115-147-114-128',\n",
              "  '128-114-147-129-57-97-147-113-128-99-163',\n",
              "  '113-147-97-186-147-114-71-57-163-99-128',\n",
              "  '97-186-147-114-57-71-163-99-128-113-147',\n",
              "  '113-147-97-186-147-57-57-128-163-99-128',\n",
              "  '128-113-147-97-99-87-147-114-128-163-99',\n",
              "  '113-128-99-163-128-114-147-87-99-97-147',\n",
              "  '147-97-57-129-147-114-128-163-99-128-113',\n",
              "  '99-163-128-114-147-129-57-97-147-113-128',\n",
              "  '147-114-128-163-99-71-57-113-147-97-186',\n",
              "  '128-99-163-128-57-57-147-186-97-147-113',\n",
              "  '163-99-128-113-147-97-186-147-57-57-128',\n",
              "  '71-99-163-128-114-147-186-97-147-113-57',\n",
              "  '147-114-128-163-99-128-113-147-97-129-57',\n",
              "  '97-147-113-128-99-163-128-114-147-87-99',\n",
              "  '97-99-87-147-114-128-163-99-128-113-147',\n",
              "  '147-99-87-97-147-113-128-99-163-128-114',\n",
              "  '99-163-128-114-147-57-129-97-147-113-128',\n",
              "  '186-97-147-113-128-99-163-57-71-114-147',\n",
              "  '147-186-97-147-113-128-99-163-71-57-114',\n",
              "  '97-71-115-147-114-128-163-99-128-113-147',\n",
              "  '57-129-147-114-128-163-99-128-113-147-97',\n",
              "  '147-97-71-115-147-114-128-163-99-128-113',\n",
              "  '163-99-128-113-147-97-57-129-147-114-128',\n",
              "  '57-71-99-163-128-114-147-186-97-147-113',\n",
              "  '128-99-163-128-114-147-71-115-97-147-113',\n",
              "  '128-99-163-128-114-147-99-87-97-147-113',\n",
              "  '99-163-128-114-147-115-71-97-147-113-128',\n",
              "  '163-71-57-114-147-186-97-147-113-128-99',\n",
              "  '114-147-71-115-97-147-113-128-99-163-128',\n",
              "  '186-97-147-113-128-99-163-128-57-57-147',\n",
              "  '147-115-71-97-147-113-128-99-163-128-114',\n",
              "  '99-128-113-147-97-186-147-114-57-71-163',\n",
              "  '147-97-186-147-57-57-128-163-99-128-113',\n",
              "  '163-128-114-147-99-87-97-147-113-128-99',\n",
              "  '128-99-163-71-57-114-147-186-97-147-113',\n",
              "  '147-186-97-147-113-128-99-163-128-57-57',\n",
              "  '147-114-128-163-99-128-113-147-97-57-129',\n",
              "  '147-114-128-163-99-128-113-147-97-99-87',\n",
              "  '163-128-114-147-57-129-97-147-113-128-99',\n",
              "  '97-147-113-128-99-163-128-114-147-115-71',\n",
              "  '97-147-113-128-99-163-128-57-57-147-129-57',\n",
              "  '163-99-128-113-147-97-186-147-57-57-57-71',\n",
              "  '163-99-128-113-147-97-71-115-147-114-57-71',\n",
              "  '99-163-128-114-147-71-115-97-147-113-71-57',\n",
              "  '97-147-113-128-99-163-128-57-57-147-115-71',\n",
              "  '147-57-57-128-163-99-128-113-147-97-129-57',\n",
              "  '128-163-99-128-113-147-97-57-129-147-57-57',\n",
              "  '99-163-128-114-147-57-129-97-147-113-57-71',\n",
              "  '163-99-128-113-147-97-87-99-147-114-71-57',\n",
              "  '57-57-147-186-97-147-113-128-99-163-71-57',\n",
              "  '99-163-128-114-147-129-57-97-147-113-71-57',\n",
              "  '113-147-97-99-87-147-114-128-163-99-57-71',\n",
              "  '147-87-99-97-147-113-128-99-163-128-57-57',\n",
              "  '99-163-128-114-147-71-115-97-147-113-57-71',\n",
              "  '147-57-57-128-163-99-128-113-147-97-115-71',\n",
              "  '113-147-97-186-147-114-71-57-163-99-57-71',\n",
              "  '114-147-129-57-97-147-113-128-99-163-57-71',\n",
              "  '147-114-128-163-99-71-57-113-147-97-71-115',\n",
              "  '114-147-186-97-147-113-57-71-99-163-57-71',\n",
              "  '147-114-128-163-99-71-57-113-147-97-87-99',\n",
              "  '128-113-147-97-99-87-147-57-57-128-163-99',\n",
              "  '114-147-129-57-97-147-113-128-99-163-71-57',\n",
              "  '114-147-186-97-147-113-71-57-99-163-71-57',\n",
              "  '147-57-57-128-163-99-128-113-147-97-71-115',\n",
              "  '113-147-97-186-147-114-57-71-163-99-71-57',\n",
              "  '163-57-71-114-147-186-97-147-113-57-71-99',\n",
              "  '99-163-128-114-147-99-87-97-147-113-71-57',\n",
              "  '147-57-57-128-163-99-128-113-147-97-87-99',\n",
              "  '147-186-97-147-113-57-71-99-163-128-57-57',\n",
              "  '97-147-113-128-99-163-128-57-57-147-99-87',\n",
              "  '97-147-113-128-99-163-57-71-114-147-87-99',\n",
              "  '147-115-71-97-147-113-128-99-163-128-57-57',\n",
              "  '99-163-128-114-147-99-87-97-147-113-57-71',\n",
              "  '99-163-128-114-147-115-71-97-147-113-57-71',\n",
              "  '99-163-128-114-147-87-99-97-147-113-71-57',\n",
              "  '147-99-87-97-147-113-128-99-163-128-57-57',\n",
              "  '99-163-128-114-147-129-57-97-147-113-57-71',\n",
              "  '163-99-128-113-147-97-71-115-147-114-71-57',\n",
              "  '147-57-57-128-163-99-128-113-147-97-99-87',\n",
              "  '163-99-128-113-147-97-87-99-147-114-57-71',\n",
              "  '99-163-128-114-147-115-71-97-147-113-71-57',\n",
              "  '99-163-57-71-114-147-186-97-147-113-71-57',\n",
              "  '163-99-128-113-147-97-57-129-147-114-57-71',\n",
              "  '113-147-97-186-147-114-71-57-163-99-71-57',\n",
              "  '163-99-128-113-147-97-186-147-57-57-71-57',\n",
              "  '99-163-128-57-57-147-186-97-147-113-71-57',\n",
              "  '147-114-128-163-99-71-57-113-147-97-57-129',\n",
              "  '147-57-57-128-163-99-128-113-147-97-57-129',\n",
              "  '99-163-128-57-57-147-186-97-147-113-57-71',\n",
              "  '99-163-57-71-114-147-186-97-147-113-57-71',\n",
              "  '97-147-113-128-99-163-71-57-114-147-129-57',\n",
              "  '99-163-71-57-114-147-186-97-147-113-57-71',\n",
              "  '113-147-97-186-147-57-57-128-163-99-57-71',\n",
              "  '57-57-147-186-97-147-113-128-99-163-57-71',\n",
              "  '163-99-128-113-147-97-57-129-147-114-71-57',\n",
              "  '113-147-97-99-87-147-114-128-163-99-71-57',\n",
              "  '97-147-113-128-99-163-128-57-57-147-87-99',\n",
              "  '113-147-97-186-147-57-57-128-163-99-71-57',\n",
              "  '147-186-97-147-113-128-99-163-57-71-57-57',\n",
              "  '113-147-97-186-147-114-57-71-163-99-57-71',\n",
              "  '114-147-186-97-147-113-71-57-99-163-57-71',\n",
              "  '97-147-113-128-99-163-128-57-57-147-57-129',\n",
              "  '97-147-113-128-99-163-71-57-114-147-87-99',\n",
              "  '97-147-113-128-99-163-128-57-57-147-71-115',\n",
              "  '114-147-115-71-97-147-113-128-99-163-57-71',\n",
              "  '163-128-114-147-115-71-97-147-113-57-71-99',\n",
              "  '99-163-128-114-147-57-129-97-147-113-71-57',\n",
              "  '147-186-97-147-113-128-99-163-71-57-57-57',\n",
              "  '147-114-128-163-99-71-57-113-147-97-129-57',\n",
              "  '99-163-128-114-147-87-99-97-147-113-57-71',\n",
              "  '99-163-71-57-114-147-186-97-147-113-71-57',\n",
              "  '163-128-57-57-147-186-97-147-113-71-57-99'],\n",
              " '163-128-57-57-147-186-97-147-113-71-57-99',\n",
              " 'YQGGFWPFLAGV',\n",
              " 86)"
            ]
          },
          "metadata": {
            "tags": []
          },
          "execution_count": 37
        }
      ]
    },
    {
      "cell_type": "code",
      "metadata": {
        "colab": {
          "base_uri": "https://localhost:8080/"
        },
        "id": "OBORP7VWbAFA",
        "outputId": "4952904c-dda2-4971-8392-94e1cb1e7e94"
      },
      "source": [
        "len(set(R[0]))"
      ],
      "execution_count": 40,
      "outputs": [
        {
          "output_type": "execute_result",
          "data": {
            "text/plain": [
              "240"
            ]
          },
          "metadata": {
            "tags": []
          },
          "execution_count": 40
        }
      ]
    },
    {
      "cell_type": "code",
      "metadata": {
        "colab": {
          "base_uri": "https://localhost:8080/",
          "height": 171
        },
        "id": "4t0XB0GGbGWu",
        "outputId": "d6e545cc-88af-4463-9c34-dcd22b228f09"
      },
      "source": [
        "s = ''\n",
        "for el in R[0]:\n",
        "  s += str(el) + ' '\n",
        "s "
      ],
      "execution_count": 41,
      "outputs": [
        {
          "output_type": "execute_result",
          "data": {
            "application/vnd.google.colaboratory.intrinsic+json": {
              "type": "string"
            },
            "text/plain": [
              "'147-113-128-99-163-128-114-147-186-97 114-128-163-99-128-113-147-97-186-147 97-147-113-128-99-163-128-114-147-186 186-147-114-128-163-99-128-113-147-97 128-163-99-128-113-147-97-186-147-114 128-114-147-186-97-147-113-128-99-163 113-128-99-163-128-114-147-186-97-147 163-99-128-113-147-97-186-147-114-128 128-99-163-128-114-147-186-97-147-113 99-128-113-147-97-186-147-114-128-163 97-186-147-114-128-163-99-128-113-147 128-113-147-97-186-147-114-128-163-99 99-163-128-114-147-186-97-147-113-128 114-147-186-97-147-113-128-99-163-128 147-186-97-147-113-128-99-163-128-114 163-128-114-147-186-97-147-113-128-99 147-97-186-147-114-128-163-99-128-113 186-97-147-113-128-99-163-128-114-147 113-147-97-186-147-114-128-163-99-128 147-114-128-163-99-128-113-147-97-186 114-147-186-97-147-113-128-99-163-57-71 163-128-114-147-129-57-97-147-113-128-99 114-128-163-99-128-113-147-97-71-115-147 99-163-128-114-147-186-97-147-113-57-71 128-113-147-97-186-147-57-57-128-163-99 128-113-147-97-186-147-114-57-71-163-99 163-57-71-114-147-186-97-147-113-128-99 97-147-113-128-99-163-128-114-147-71-115 128-163-99-128-113-147-97-57-129-147-114 97-147-113-128-99-163-128-57-57-147-186 128-114-147-57-129-97-147-113-128-99-163 97-186-147-114-128-163-99-71-57-113-147 99-163-128-57-57-147-186-97-147-113-128 97-147-113-128-99-163-128-114-147-99-87 99-128-113-147-97-186-147-57-57-128-163 128-114-147-87-99-97-147-113-128-99-163 147-97-186-147-114-71-57-163-99-128-113 114-147-186-97-147-113-71-57-99-163-128 147-113-128-99-163-128-57-57-147-186-97 128-114-147-186-97-147-113-71-57-99-163 186-147-114-57-71-163-99-128-113-147-97 128-99-163-128-114-147-87-99-97-147-113 99-163-57-71-114-147-186-97-147-113-128 99-163-71-57-114-147-186-97-147-113-128 128-114-147-115-71-97-147-113-128-99-163 114-147-57-129-97-147-113-128-99-163-128 97-147-113-128-99-163-128-114-147-129-57 128-99-163-128-114-147-115-71-97-147-113 113-147-97-186-147-114-57-71-163-99-128 163-99-128-113-147-97-87-99-147-114-128 147-97-186-147-114-128-163-99-57-71-113 186-147-114-128-163-99-71-57-113-147-97 186-97-147-113-128-99-163-71-57-114-147 147-97-87-99-147-114-128-163-99-128-113 97-115-71-147-114-128-163-99-128-113-147 57-57-128-163-99-128-113-147-97-186-147 147-114-128-163-99-128-113-147-97-115-71 97-186-147-114-71-57-163-99-128-113-147 87-99-147-114-128-163-99-128-113-147-97 57-147-186-97-147-113-128-99-163-128-57 97-147-113-128-99-163-57-71-114-147-186 114-147-115-71-97-147-113-128-99-163-128 163-128-57-57-147-186-97-147-113-128-99 147-186-97-147-113-128-99-163-57-71-114 186-147-114-71-57-163-99-128-113-147-97 147-186-97-147-113-57-71-99-163-128-114 128-163-99-128-113-147-97-186-147-57-57 128-114-147-186-97-147-113-57-71-99-163 114-147-87-99-97-147-113-128-99-163-128 186-147-57-57-128-163-99-128-113-147-97 128-99-163-57-71-114-147-186-97-147-113 113-147-97-186-147-114-128-163-99-71-57 97-186-147-57-57-128-163-99-128-113-147 99-163-128-114-147-87-99-97-147-113-128 163-99-128-113-147-97-186-147-114-71-57 128-99-163-128-114-147-129-57-97-147-113 99-87-147-114-128-163-99-128-113-147-97 97-57-129-147-114-128-163-99-128-113-147 71-57-114-147-186-97-147-113-128-99-163 115-71-147-114-128-163-99-128-113-147-97 113-147-97-99-87-147-114-128-163-99-128 114-147-186-97-147-113-57-71-99-163-128 99-128-113-147-97-186-147-114-71-57-163 147-114-128-163-99-128-113-147-97-87-99 97-147-113-128-99-163-71-57-114-147-186 71-114-147-186-97-147-113-128-99-163-57 71-57-99-163-128-114-147-186-97-147-113 147-97-186-147-114-57-71-163-99-128-113 147-87-99-97-147-113-128-99-163-128-114 97-147-113-128-99-163-128-114-147-57-129 97-129-57-147-114-128-163-99-128-113-147 147-97-186-147-114-128-163-99-71-57-113 97-186-147-114-128-163-99-57-71-113-147 128-114-147-71-115-97-147-113-128-99-163 114-128-163-99-71-57-113-147-97-186-147 163-128-114-147-115-71-97-147-113-128-99 97-87-99-147-114-128-163-99-128-113-147 186-147-114-128-163-99-57-71-113-147-97 114-128-163-99-128-113-147-97-57-129-147 163-128-114-147-186-97-147-113-57-71-99 128-57-57-147-186-97-147-113-128-99-163 99-163-128-114-147-99-87-97-147-113-128 57-114-147-186-97-147-113-128-99-163-71 163-128-114-147-186-97-147-113-71-57-99 147-97-99-87-147-114-128-163-99-128-113 113-147-97-186-147-114-128-163-99-57-71 163-99-128-113-147-97-186-147-114-57-71 114-147-129-57-97-147-113-128-99-163-128 71-115-147-114-128-163-99-128-113-147-97 129-57-147-114-128-163-99-128-113-147-97 57-57-147-186-97-147-113-128-99-163-128 99-163-128-114-147-186-97-147-113-71-57 128-113-147-97-186-147-114-71-57-163-99 99-163-128-114-147-71-115-97-147-113-128 163-128-114-147-71-115-97-147-113-128-99 57-71-114-147-186-97-147-113-128-99-163 147-97-115-71-147-114-128-163-99-128-113 57-99-163-128-114-147-186-97-147-113-71 128-99-163-128-114-147-57-129-97-147-113 147-114-128-163-99-128-113-147-97-71-115 163-128-114-147-87-99-97-147-113-128-99 147-97-129-57-147-114-128-163-99-128-113 114-128-163-99-128-113-147-97-87-99-147 114-147-186-97-147-113-128-99-163-71-57 147-57-57-128-163-99-128-113-147-97-186 114-147-99-87-97-147-113-128-99-163-128 128-114-147-99-87-97-147-113-128-99-163 163-99-128-113-147-97-71-115-147-114-128 128-114-147-129-57-97-147-113-128-99-163 113-147-97-186-147-114-71-57-163-99-128 97-186-147-114-57-71-163-99-128-113-147 113-147-97-186-147-57-57-128-163-99-128 128-113-147-97-99-87-147-114-128-163-99 113-128-99-163-128-114-147-87-99-97-147 147-97-57-129-147-114-128-163-99-128-113 99-163-128-114-147-129-57-97-147-113-128 147-114-128-163-99-71-57-113-147-97-186 128-99-163-128-57-57-147-186-97-147-113 163-99-128-113-147-97-186-147-57-57-128 71-99-163-128-114-147-186-97-147-113-57 147-114-128-163-99-128-113-147-97-129-57 97-147-113-128-99-163-128-114-147-87-99 97-99-87-147-114-128-163-99-128-113-147 147-99-87-97-147-113-128-99-163-128-114 99-163-128-114-147-57-129-97-147-113-128 186-97-147-113-128-99-163-57-71-114-147 147-186-97-147-113-128-99-163-71-57-114 97-71-115-147-114-128-163-99-128-113-147 57-129-147-114-128-163-99-128-113-147-97 147-97-71-115-147-114-128-163-99-128-113 163-99-128-113-147-97-57-129-147-114-128 57-71-99-163-128-114-147-186-97-147-113 128-99-163-128-114-147-71-115-97-147-113 128-99-163-128-114-147-99-87-97-147-113 99-163-128-114-147-115-71-97-147-113-128 163-71-57-114-147-186-97-147-113-128-99 114-147-71-115-97-147-113-128-99-163-128 186-97-147-113-128-99-163-128-57-57-147 147-115-71-97-147-113-128-99-163-128-114 99-128-113-147-97-186-147-114-57-71-163 147-97-186-147-57-57-128-163-99-128-113 163-128-114-147-99-87-97-147-113-128-99 128-99-163-71-57-114-147-186-97-147-113 147-186-97-147-113-128-99-163-128-57-57 147-114-128-163-99-128-113-147-97-57-129 147-114-128-163-99-128-113-147-97-99-87 163-128-114-147-57-129-97-147-113-128-99 97-147-113-128-99-163-128-114-147-115-71 97-147-113-128-99-163-128-57-57-147-129-57 163-99-128-113-147-97-186-147-57-57-57-71 163-99-128-113-147-97-71-115-147-114-57-71 99-163-128-114-147-71-115-97-147-113-71-57 97-147-113-128-99-163-128-57-57-147-115-71 147-57-57-128-163-99-128-113-147-97-129-57 128-163-99-128-113-147-97-57-129-147-57-57 99-163-128-114-147-57-129-97-147-113-57-71 163-99-128-113-147-97-87-99-147-114-71-57 57-57-147-186-97-147-113-128-99-163-71-57 99-163-128-114-147-129-57-97-147-113-71-57 113-147-97-99-87-147-114-128-163-99-57-71 147-87-99-97-147-113-128-99-163-128-57-57 99-163-128-114-147-71-115-97-147-113-57-71 147-57-57-128-163-99-128-113-147-97-115-71 113-147-97-186-147-114-71-57-163-99-57-71 114-147-129-57-97-147-113-128-99-163-57-71 147-114-128-163-99-71-57-113-147-97-71-115 114-147-186-97-147-113-57-71-99-163-57-71 147-114-128-163-99-71-57-113-147-97-87-99 128-113-147-97-99-87-147-57-57-128-163-99 114-147-129-57-97-147-113-128-99-163-71-57 114-147-186-97-147-113-71-57-99-163-71-57 147-57-57-128-163-99-128-113-147-97-71-115 113-147-97-186-147-114-57-71-163-99-71-57 163-57-71-114-147-186-97-147-113-57-71-99 99-163-128-114-147-99-87-97-147-113-71-57 147-57-57-128-163-99-128-113-147-97-87-99 147-186-97-147-113-57-71-99-163-128-57-57 97-147-113-128-99-163-128-57-57-147-99-87 97-147-113-128-99-163-57-71-114-147-87-99 147-115-71-97-147-113-128-99-163-128-57-57 99-163-128-114-147-99-87-97-147-113-57-71 99-163-128-114-147-115-71-97-147-113-57-71 99-163-128-114-147-87-99-97-147-113-71-57 147-99-87-97-147-113-128-99-163-128-57-57 99-163-128-114-147-129-57-97-147-113-57-71 163-99-128-113-147-97-71-115-147-114-71-57 147-57-57-128-163-99-128-113-147-97-99-87 163-99-128-113-147-97-87-99-147-114-57-71 99-163-128-114-147-115-71-97-147-113-71-57 99-163-57-71-114-147-186-97-147-113-71-57 163-99-128-113-147-97-57-129-147-114-57-71 113-147-97-186-147-114-71-57-163-99-71-57 163-99-128-113-147-97-186-147-57-57-71-57 99-163-128-57-57-147-186-97-147-113-71-57 147-114-128-163-99-71-57-113-147-97-57-129 147-57-57-128-163-99-128-113-147-97-57-129 99-163-128-57-57-147-186-97-147-113-57-71 99-163-57-71-114-147-186-97-147-113-57-71 97-147-113-128-99-163-71-57-114-147-129-57 99-163-71-57-114-147-186-97-147-113-57-71 113-147-97-186-147-57-57-128-163-99-57-71 57-57-147-186-97-147-113-128-99-163-57-71 163-99-128-113-147-97-57-129-147-114-71-57 113-147-97-99-87-147-114-128-163-99-71-57 97-147-113-128-99-163-128-57-57-147-87-99 113-147-97-186-147-57-57-128-163-99-71-57 147-186-97-147-113-128-99-163-57-71-57-57 113-147-97-186-147-114-57-71-163-99-57-71 114-147-186-97-147-113-71-57-99-163-57-71 97-147-113-128-99-163-128-57-57-147-57-129 97-147-113-128-99-163-71-57-114-147-87-99 97-147-113-128-99-163-128-57-57-147-71-115 114-147-115-71-97-147-113-128-99-163-57-71 163-128-114-147-115-71-97-147-113-57-71-99 99-163-128-114-147-57-129-97-147-113-71-57 147-186-97-147-113-128-99-163-71-57-57-57 147-114-128-163-99-71-57-113-147-97-129-57 99-163-128-114-147-87-99-97-147-113-57-71 99-163-71-57-114-147-186-97-147-113-71-57 163-128-57-57-147-186-97-147-113-71-57-99 '"
            ]
          },
          "metadata": {
            "tags": []
          },
          "execution_count": 41
        }
      ]
    },
    {
      "cell_type": "code",
      "metadata": {
        "id": "WKCYgg-dbkVj"
      },
      "source": [
        ""
      ],
      "execution_count": null,
      "outputs": []
    },
    {
      "cell_type": "markdown",
      "metadata": {
        "id": "vbbTbn-8i2I1"
      },
      "source": [
        "## 1.3.1. Spectral Convolution Problem: Compute the convolution of a spectrum.\n",
        "\n",
        "\n",
        "Input: A collection of integers Spectrum in increasing order.\n",
        "\n",
        "Output: The list of elements in the convolution of Spectrum. If an element has multiplicity k, it should appear exactly k times; you may return the elements in any order."
      ]
    },
    {
      "cell_type": "code",
      "metadata": {
        "colab": {
          "base_uri": "https://localhost:8080/",
          "height": 35
        },
        "id": "9eTBpoYKjQXC",
        "outputId": "d028c6e8-bdaa-44d8-a8d2-acc36d70ace5"
      },
      "source": [
        "def DataToString(data):\n",
        "  s = ''\n",
        "  for el in data:\n",
        "    s += str(int(el)) + ' '\n",
        "  return s[:-1]\n",
        "def ConvolutionSpectrum(spectrum):\n",
        "  spectrum = np.array(sorted(spectrum))\n",
        "  data = np.array([])\n",
        "  for i in range(0, len(spectrum)-1):\n",
        "    lst = spectrum[i+1:] - spectrum[i]\n",
        "    data = np.append(data, lst)\n",
        "  data = data[data != 0]\n",
        "  return DataToString(data)\n",
        "\n",
        "spectrum = [0, 137, 186, 323]\n",
        "ConvolutionSpectrum(spectrum)"
      ],
      "execution_count": 29,
      "outputs": [
        {
          "output_type": "execute_result",
          "data": {
            "application/vnd.google.colaboratory.intrinsic+json": {
              "type": "string"
            },
            "text/plain": [
              "'137 186 323 49 186 137'"
            ]
          },
          "metadata": {
            "tags": []
          },
          "execution_count": 29
        }
      ]
    },
    {
      "cell_type": "markdown",
      "metadata": {
        "id": "Kppjagqxuump"
      },
      "source": [
        "### Stepik submission"
      ]
    },
    {
      "cell_type": "code",
      "metadata": {
        "colab": {
          "resources": {
            "http://localhost:8080/nbextensions/google.colab/files.js": {
              "data": "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",
              "ok": true,
              "headers": [
                [
                  "content-type",
                  "application/javascript"
                ]
              ],
              "status": 200,
              "status_text": ""
            }
          },
          "base_uri": "https://localhost:8080/",
          "height": 89
        },
        "id": "GGVwMwaeuJ73",
        "outputId": "64613dd3-526c-4a3b-9f4a-9f4ce407804e"
      },
      "source": [
        "uploaded = files.upload()\n",
        "\n",
        "for fn in uploaded.keys():\n",
        "  print('User uploaded file \"{name}\" with length {length} bytes'.format(\n",
        "      name=fn, length=len(uploaded[fn])))"
      ],
      "execution_count": 30,
      "outputs": [
        {
          "output_type": "display_data",
          "data": {
            "text/html": [
              "\n",
              "     <input type=\"file\" id=\"files-e80616ac-19be-498a-b408-aefa23fa5d3d\" name=\"files[]\" multiple disabled\n",
              "        style=\"border:none\" />\n",
              "     <output id=\"result-e80616ac-19be-498a-b408-aefa23fa5d3d\">\n",
              "      Upload widget is only available when the cell has been executed in the\n",
              "      current browser session. Please rerun this cell to enable.\n",
              "      </output>\n",
              "      <script src=\"/nbextensions/google.colab/files.js\"></script> "
            ],
            "text/plain": [
              "<IPython.core.display.HTML object>"
            ]
          },
          "metadata": {
            "tags": []
          }
        },
        {
          "output_type": "stream",
          "text": [
            "Saving dataset_104_4-3.txt to dataset_104_4-3.txt\n",
            "User uploaded file \"dataset_104_4-3.txt\" with length 362 bytes\n"
          ],
          "name": "stdout"
        }
      ]
    },
    {
      "cell_type": "code",
      "metadata": {
        "colab": {
          "base_uri": "https://localhost:8080/"
        },
        "id": "HRVLRKmbuRhy",
        "outputId": "4745f47f-298c-44db-8bc0-9a816b2d4d78"
      },
      "source": [
        "with open(fn) as f:\n",
        "  spectr = f.readline().split('\\n')[0]\n",
        "spectr = [int(s) for s in spectr.split(' ')]\n",
        "print(spectr)"
      ],
      "execution_count": 31,
      "outputs": [
        {
          "output_type": "stream",
          "text": [
            "[0, 71, 71, 87, 99, 99, 113, 115, 128, 128, 131, 142, 170, 186, 186, 212, 215, 228, 230, 241, 256, 257, 257, 259, 299, 314, 327, 328, 343, 343, 356, 358, 370, 385, 387, 398, 442, 443, 456, 458, 469, 469, 471, 474, 486, 513, 529, 556, 568, 571, 573, 573, 584, 586, 599, 600, 644, 655, 657, 672, 684, 686, 699, 699, 714, 715, 728, 743, 783, 785, 785, 786, 801, 812, 814, 827, 830, 856, 856, 872, 900, 911, 914, 914, 927, 929, 943, 943, 955, 971, 971, 1042]\n"
          ],
          "name": "stdout"
        }
      ]
    },
    {
      "cell_type": "code",
      "metadata": {
        "colab": {
          "base_uri": "https://localhost:8080/",
          "height": 171
        },
        "id": "psNNxZw_u5Kl",
        "outputId": "ea325d72-cd24-44fc-b484-bfccb65ce9c1"
      },
      "source": [
        "ConvolutionSpectrum(spectr)"
      ],
      "execution_count": 33,
      "outputs": [
        {
          "output_type": "execute_result",
          "data": {
            "application/vnd.google.colaboratory.intrinsic+json": {
              "type": "string"
            },
            "text/plain": [
              "'71 71 87 99 99 113 115 128 128 131 142 170 186 186 212 215 228 230 241 256 257 257 259 299 314 327 328 343 343 356 358 370 385 387 398 442 443 456 458 469 469 471 474 486 513 529 556 568 571 573 573 584 586 599 600 644 655 657 672 684 686 699 699 714 715 728 743 783 785 785 786 801 812 814 827 830 856 856 872 900 911 914 914 927 929 943 943 955 971 971 1042 16 28 28 42 44 57 57 60 71 99 115 115 141 144 157 159 170 185 186 186 188 228 243 256 257 272 272 285 287 299 314 316 327 371 372 385 387 398 398 400 403 415 442 458 485 497 500 502 502 513 515 528 529 573 584 586 601 613 615 628 628 643 644 657 672 712 714 714 715 730 741 743 756 759 785 785 801 829 840 843 843 856 858 872 872 884 900 900 971 16 28 28 42 44 57 57 60 71 99 115 115 141 144 157 159 170 185 186 186 188 228 243 256 257 272 272 285 287 299 314 316 327 371 372 385 387 398 398 400 403 415 442 458 485 497 500 502 502 513 515 528 529 573 584 586 601 613 615 628 628 643 644 657 672 712 714 714 715 730 741 743 756 759 785 785 801 829 840 843 843 856 858 872 872 884 900 900 971 12 12 26 28 41 41 44 55 83 99 99 125 128 141 143 154 169 170 170 172 212 227 240 241 256 256 269 271 283 298 300 311 355 356 369 371 382 382 384 387 399 426 442 469 481 484 486 486 497 499 512 513 557 568 570 585 597 599 612 612 627 628 641 656 696 698 698 699 714 725 727 740 743 769 769 785 813 824 827 827 840 842 856 856 868 884 884 955 14 16 29 29 32 43 71 87 87 113 116 129 131 142 157 158 158 160 200 215 228 229 244 244 257 259 271 286 288 299 343 344 357 359 370 370 372 375 387 414 430 457 469 472 474 474 485 487 500 501 545 556 558 573 585 587 600 600 615 616 629 644 684 686 686 687 702 713 715 728 731 757 757 773 801 812 815 815 828 830 844 844 856 872 872 943 14 16 29 29 32 43 71 87 87 113 116 129 131 142 157 158 158 160 200 215 228 229 244 244 257 259 271 286 288 299 343 344 357 359 370 370 372 375 387 414 430 457 469 472 474 474 485 487 500 501 545 556 558 573 585 587 600 600 615 616 629 644 684 686 686 687 702 713 715 728 731 757 757 773 801 812 815 815 828 830 844 844 856 872 872 943 2 15 15 18 29 57 73 73 99 102 115 117 128 143 144 144 146 186 201 214 215 230 230 243 245 257 272 274 285 329 330 343 345 356 356 358 361 373 400 416 443 455 458 460 460 471 473 486 487 531 542 544 559 571 573 586 586 601 602 615 630 670 672 672 673 688 699 701 714 717 743 743 759 787 798 801 801 814 816 830 830 842 858 858 929 13 13 16 27 55 71 71 97 100 113 115 126 141 142 142 144 184 199 212 213 228 228 241 243 255 270 272 283 327 328 341 343 354 354 356 359 371 398 414 441 453 456 458 458 469 471 484 485 529 540 542 557 569 571 584 584 599 600 613 628 668 670 670 671 686 697 699 712 715 741 741 757 785 796 799 799 812 814 828 828 840 856 856 927 3 14 42 58 58 84 87 100 102 113 128 129 129 131 171 186 199 200 215 215 228 230 242 257 259 270 314 315 328 330 341 341 343 346 358 385 401 428 440 443 445 445 456 458 471 472 516 527 529 544 556 558 571 571 586 587 600 615 655 657 657 658 673 684 686 699 702 728 728 744 772 783 786 786 799 801 815 815 827 843 843 914 3 14 42 58 58 84 87 100 102 113 128 129 129 131 171 186 199 200 215 215 228 230 242 257 259 270 314 315 328 330 341 341 343 346 358 385 401 428 440 443 445 445 456 458 471 472 516 527 529 544 556 558 571 571 586 587 600 615 655 657 657 658 673 684 686 699 702 728 728 744 772 783 786 786 799 801 815 815 827 843 843 914 11 39 55 55 81 84 97 99 110 125 126 126 128 168 183 196 197 212 212 225 227 239 254 256 267 311 312 325 327 338 338 340 343 355 382 398 425 437 440 442 442 453 455 468 469 513 524 526 541 553 555 568 568 583 584 597 612 652 654 654 655 670 681 683 696 699 725 725 741 769 780 783 783 796 798 812 812 824 840 840 911 28 44 44 70 73 86 88 99 114 115 115 117 157 172 185 186 201 201 214 216 228 243 245 256 300 301 314 316 327 327 329 332 344 371 387 414 426 429 431 431 442 444 457 458 502 513 515 530 542 544 557 557 572 573 586 601 641 643 643 644 659 670 672 685 688 714 714 730 758 769 772 772 785 787 801 801 813 829 829 900 16 16 42 45 58 60 71 86 87 87 89 129 144 157 158 173 173 186 188 200 215 217 228 272 273 286 288 299 299 301 304 316 343 359 386 398 401 403 403 414 416 429 430 474 485 487 502 514 516 529 529 544 545 558 573 613 615 615 616 631 642 644 657 660 686 686 702 730 741 744 744 757 759 773 773 785 801 801 872 26 29 42 44 55 70 71 71 73 113 128 141 142 157 157 170 172 184 199 201 212 256 257 270 272 283 283 285 288 300 327 343 370 382 385 387 387 398 400 413 414 458 469 471 486 498 500 513 513 528 529 542 557 597 599 599 600 615 626 628 641 644 670 670 686 714 725 728 728 741 743 757 757 769 785 785 856 26 29 42 44 55 70 71 71 73 113 128 141 142 157 157 170 172 184 199 201 212 256 257 270 272 283 283 285 288 300 327 343 370 382 385 387 387 398 400 413 414 458 469 471 486 498 500 513 513 528 529 542 557 597 599 599 600 615 626 628 641 644 670 670 686 714 725 728 728 741 743 757 757 769 785 785 856 3 16 18 29 44 45 45 47 87 102 115 116 131 131 144 146 158 173 175 186 230 231 244 246 257 257 259 262 274 301 317 344 356 359 361 361 372 374 387 388 432 443 445 460 472 474 487 487 502 503 516 531 571 573 573 574 589 600 602 615 618 644 644 660 688 699 702 702 715 717 731 731 743 759 759 830 13 15 26 41 42 42 44 84 99 112 113 128 128 141 143 155 170 172 183 227 228 241 243 254 254 256 259 271 298 314 341 353 356 358 358 369 371 384 385 429 440 442 457 469 471 484 484 499 500 513 528 568 570 570 571 586 597 599 612 615 641 641 657 685 696 699 699 712 714 728 728 740 756 756 827 2 13 28 29 29 31 71 86 99 100 115 115 128 130 142 157 159 170 214 215 228 230 241 241 243 246 258 285 301 328 340 343 345 345 356 358 371 372 416 427 429 444 456 458 471 471 486 487 500 515 555 557 557 558 573 584 586 599 602 628 628 644 672 683 686 686 699 701 715 715 727 743 743 814 11 26 27 27 29 69 84 97 98 113 113 126 128 140 155 157 168 212 213 226 228 239 239 241 244 256 283 299 326 338 341 343 343 354 356 369 370 414 425 427 442 454 456 469 469 484 485 498 513 553 555 555 556 571 582 584 597 600 626 626 642 670 681 684 684 697 699 713 713 725 741 741 812 15 16 16 18 58 73 86 87 102 102 115 117 129 144 146 157 201 202 215 217 228 228 230 233 245 272 288 315 327 330 332 332 343 345 358 359 403 414 416 431 443 445 458 458 473 474 487 502 542 544 544 545 560 571 573 586 589 615 615 631 659 670 673 673 686 688 702 702 714 730 730 801 1 1 3 43 58 71 72 87 87 100 102 114 129 131 142 186 187 200 202 213 213 215 218 230 257 273 300 312 315 317 317 328 330 343 344 388 399 401 416 428 430 443 443 458 459 472 487 527 529 529 530 545 556 558 571 574 600 600 616 644 655 658 658 671 673 687 687 699 715 715 786 2 42 57 70 71 86 86 99 101 113 128 130 141 185 186 199 201 212 212 214 217 229 256 272 299 311 314 316 316 327 329 342 343 387 398 400 415 427 429 442 442 457 458 471 486 526 528 528 529 544 555 557 570 573 599 599 615 643 654 657 657 670 672 686 686 698 714 714 785 2 42 57 70 71 86 86 99 101 113 128 130 141 185 186 199 201 212 212 214 217 229 256 272 299 311 314 316 316 327 329 342 343 387 398 400 415 427 429 442 442 457 458 471 486 526 528 528 529 544 555 557 570 573 599 599 615 643 654 657 657 670 672 686 686 698 714 714 785 40 55 68 69 84 84 97 99 111 126 128 139 183 184 197 199 210 210 212 215 227 254 270 297 309 312 314 314 325 327 340 341 385 396 398 413 425 427 440 440 455 456 469 484 524 526 526 527 542 553 555 568 571 597 597 613 641 652 655 655 668 670 684 684 696 712 712 783 15 28 29 44 44 57 59 71 86 88 99 143 144 157 159 170 170 172 175 187 214 230 257 269 272 274 274 285 287 300 301 345 356 358 373 385 387 400 400 415 416 429 444 484 486 486 487 502 513 515 528 531 557 557 573 601 612 615 615 628 630 644 644 656 672 672 743 13 14 29 29 42 44 56 71 73 84 128 129 142 144 155 155 157 160 172 199 215 242 254 257 259 259 270 272 285 286 330 341 343 358 370 372 385 385 400 401 414 429 469 471 471 472 487 498 500 513 516 542 542 558 586 597 600 600 613 615 629 629 641 657 657 728 1 16 16 29 31 43 58 60 71 115 116 129 131 142 142 144 147 159 186 202 229 241 244 246 246 257 259 272 273 317 328 330 345 357 359 372 372 387 388 401 416 456 458 458 459 474 485 487 500 503 529 529 545 573 584 587 587 600 602 616 616 628 644 644 715 15 15 28 30 42 57 59 70 114 115 128 130 141 141 143 146 158 185 201 228 240 243 245 245 256 258 271 272 316 327 329 344 356 358 371 371 386 387 400 415 455 457 457 458 473 484 486 499 502 528 528 544 572 583 586 586 599 601 615 615 627 643 643 714 13 15 27 42 44 55 99 100 113 115 126 126 128 131 143 170 186 213 225 228 230 230 241 243 256 257 301 312 314 329 341 343 356 356 371 372 385 400 440 442 442 443 458 469 471 484 487 513 513 529 557 568 571 571 584 586 600 600 612 628 628 699 13 15 27 42 44 55 99 100 113 115 126 126 128 131 143 170 186 213 225 228 230 230 241 243 256 257 301 312 314 329 341 343 356 356 371 372 385 400 440 442 442 443 458 469 471 484 487 513 513 529 557 568 571 571 584 586 600 600 612 628 628 699 2 14 29 31 42 86 87 100 102 113 113 115 118 130 157 173 200 212 215 217 217 228 230 243 244 288 299 301 316 328 330 343 343 358 359 372 387 427 429 429 430 445 456 458 471 474 500 500 516 544 555 558 558 571 573 587 587 599 615 615 686 12 27 29 40 84 85 98 100 111 111 113 116 128 155 171 198 210 213 215 215 226 228 241 242 286 297 299 314 326 328 341 341 356 357 370 385 425 427 427 428 443 454 456 469 472 498 498 514 542 553 556 556 569 571 585 585 597 613 613 684 15 17 28 72 73 86 88 99 99 101 104 116 143 159 186 198 201 203 203 214 216 229 230 274 285 287 302 314 316 329 329 344 345 358 373 413 415 415 416 431 442 444 457 460 486 486 502 530 541 544 544 557 559 573 573 585 601 601 672 2 13 57 58 71 73 84 84 86 89 101 128 144 171 183 186 188 188 199 201 214 215 259 270 272 287 299 301 314 314 329 330 343 358 398 400 400 401 416 427 429 442 445 471 471 487 515 526 529 529 542 544 558 558 570 586 586 657 11 55 56 69 71 82 82 84 87 99 126 142 169 181 184 186 186 197 199 212 213 257 268 270 285 297 299 312 312 327 328 341 356 396 398 398 399 414 425 427 440 443 469 469 485 513 524 527 527 540 542 556 556 568 584 584 655 44 45 58 60 71 71 73 76 88 115 131 158 170 173 175 175 186 188 201 202 246 257 259 274 286 288 301 301 316 317 330 345 385 387 387 388 403 414 416 429 432 458 458 474 502 513 516 516 529 531 545 545 557 573 573 644 1 14 16 27 27 29 32 44 71 87 114 126 129 131 131 142 144 157 158 202 213 215 230 242 244 257 257 272 273 286 301 341 343 343 344 359 370 372 385 388 414 414 430 458 469 472 472 485 487 501 501 513 529 529 600 13 15 26 26 28 31 43 70 86 113 125 128 130 130 141 143 156 157 201 212 214 229 241 243 256 256 271 272 285 300 340 342 342 343 358 369 371 384 387 413 413 429 457 468 471 471 484 486 500 500 512 528 528 599 2 13 13 15 18 30 57 73 100 112 115 117 117 128 130 143 144 188 199 201 216 228 230 243 243 258 259 272 287 327 329 329 330 345 356 358 371 374 400 400 416 444 455 458 458 471 473 487 487 499 515 515 586 11 11 13 16 28 55 71 98 110 113 115 115 126 128 141 142 186 197 199 214 226 228 241 241 256 257 270 285 325 327 327 328 343 354 356 369 372 398 398 414 442 453 456 456 469 471 485 485 497 513 513 584 2 5 17 44 60 87 99 102 104 104 115 117 130 131 175 186 188 203 215 217 230 230 245 246 259 274 314 316 316 317 332 343 345 358 361 387 387 403 431 442 445 445 458 460 474 474 486 502 502 573 2 5 17 44 60 87 99 102 104 104 115 117 130 131 175 186 188 203 215 217 230 230 245 246 259 274 314 316 316 317 332 343 345 358 361 387 387 403 431 442 445 445 458 460 474 474 486 502 502 573 3 15 42 58 85 97 100 102 102 113 115 128 129 173 184 186 201 213 215 228 228 243 244 257 272 312 314 314 315 330 341 343 356 359 385 385 401 429 440 443 443 456 458 472 472 484 500 500 571 12 39 55 82 94 97 99 99 110 112 125 126 170 181 183 198 210 212 225 225 240 241 254 269 309 311 311 312 327 338 340 353 356 382 382 398 426 437 440 440 453 455 469 469 481 497 497 568 27 43 70 82 85 87 87 98 100 113 114 158 169 171 186 198 200 213 213 228 229 242 257 297 299 299 300 315 326 328 341 344 370 370 386 414 425 428 428 441 443 457 457 469 485 485 556 16 43 55 58 60 60 71 73 86 87 131 142 144 159 171 173 186 186 201 202 215 230 270 272 272 273 288 299 301 314 317 343 343 359 387 398 401 401 414 416 430 430 442 458 458 529 27 39 42 44 44 55 57 70 71 115 126 128 143 155 157 170 170 185 186 199 214 254 256 256 257 272 283 285 298 301 327 327 343 371 382 385 385 398 400 414 414 426 442 442 513 12 15 17 17 28 30 43 44 88 99 101 116 128 130 143 143 158 159 172 187 227 229 229 230 245 256 258 271 274 300 300 316 344 355 358 358 371 373 387 387 399 415 415 486 3 5 5 16 18 31 32 76 87 89 104 116 118 131 131 146 147 160 175 215 217 217 218 233 244 246 259 262 288 288 304 332 343 346 346 359 361 375 375 387 403 403 474 2 2 13 15 28 29 73 84 86 101 113 115 128 128 143 144 157 172 212 214 214 215 230 241 243 256 259 285 285 301 329 340 343 343 356 358 372 372 384 400 400 471 11 13 26 27 71 82 84 99 111 113 126 126 141 142 155 170 210 212 212 213 228 239 241 254 257 283 283 299 327 338 341 341 354 356 370 370 382 398 398 469 11 13 26 27 71 82 84 99 111 113 126 126 141 142 155 170 210 212 212 213 228 239 241 254 257 283 283 299 327 338 341 341 354 356 370 370 382 398 398 469 2 15 16 60 71 73 88 100 102 115 115 130 131 144 159 199 201 201 202 217 228 230 243 246 272 272 288 316 327 330 330 343 345 359 359 371 387 387 458 13 14 58 69 71 86 98 100 113 113 128 129 142 157 197 199 199 200 215 226 228 241 244 270 270 286 314 325 328 328 341 343 357 357 369 385 385 456 1 45 56 58 73 85 87 100 100 115 116 129 144 184 186 186 187 202 213 215 228 231 257 257 273 301 312 315 315 328 330 344 344 356 372 372 443 44 55 57 72 84 86 99 99 114 115 128 143 183 185 185 186 201 212 214 227 230 256 256 272 300 311 314 314 327 329 343 343 355 371 371 442 11 13 28 40 42 55 55 70 71 84 99 139 141 141 142 157 168 170 183 186 212 212 228 256 267 270 270 283 285 299 299 311 327 327 398 2 17 29 31 44 44 59 60 73 88 128 130 130 131 146 157 159 172 175 201 201 217 245 256 259 259 272 274 288 288 300 316 316 387 15 27 29 42 42 57 58 71 86 126 128 128 129 144 155 157 170 173 199 199 215 243 254 257 257 270 272 286 286 298 314 314 385 12 14 27 27 42 43 56 71 111 113 113 114 129 140 142 155 158 184 184 200 228 239 242 242 255 257 271 271 283 299 299 370 2 15 15 30 31 44 59 99 101 101 102 117 128 130 143 146 172 172 188 216 227 230 230 243 245 259 259 271 287 287 358 13 13 28 29 42 57 97 99 99 100 115 126 128 141 144 170 170 186 214 225 228 228 241 243 257 257 269 285 285 356 15 16 29 44 84 86 86 87 102 113 115 128 131 157 157 173 201 212 215 215 228 230 244 244 256 272 272 343 15 16 29 44 84 86 86 87 102 113 115 128 131 157 157 173 201 212 215 215 228 230 244 244 256 272 272 343 1 14 29 69 71 71 72 87 98 100 113 116 142 142 158 186 197 200 200 213 215 229 229 241 257 257 328 13 28 68 70 70 71 86 97 99 112 115 141 141 157 185 196 199 199 212 214 228 228 240 256 256 327 15 55 57 57 58 73 84 86 99 102 128 128 144 172 183 186 186 199 201 215 215 227 243 243 314 40 42 42 43 58 69 71 84 87 113 113 129 157 168 171 171 184 186 200 200 212 228 228 299 2 2 3 18 29 31 44 47 73 73 89 117 128 131 131 144 146 160 160 172 188 188 259 1 16 27 29 42 45 71 71 87 115 126 129 129 142 144 158 158 170 186 186 257 1 16 27 29 42 45 71 71 87 115 126 129 129 142 144 158 158 170 186 186 257 15 26 28 41 44 70 70 86 114 125 128 128 141 143 157 157 169 185 185 256 11 13 26 29 55 55 71 99 110 113 113 126 128 142 142 154 170 170 241 2 15 18 44 44 60 88 99 102 102 115 117 131 131 143 159 159 230 13 16 42 42 58 86 97 100 100 113 115 129 129 141 157 157 228 3 29 29 45 73 84 87 87 100 102 116 116 128 144 144 215 26 26 42 70 81 84 84 97 99 113 113 125 141 141 212 16 44 55 58 58 71 73 87 87 99 115 115 186 16 44 55 58 58 71 73 87 87 99 115 115 186 28 39 42 42 55 57 71 71 83 99 99 170 11 14 14 27 29 43 43 55 71 71 142 3 3 16 18 32 32 44 60 60 131 13 15 29 29 41 57 57 128 13 15 29 29 41 57 57 128 2 16 16 28 44 44 115 14 14 26 42 42 113 12 28 28 99 12 28 28 99 16 16 87 71 71'"
            ]
          },
          "metadata": {
            "tags": []
          },
          "execution_count": 33
        }
      ]
    },
    {
      "cell_type": "code",
      "metadata": {
        "id": "M_k3VrYBvvZJ"
      },
      "source": [
        "#spectrum = np.array(spectrum)\n",
        "spectrum = spectr\n",
        "import pandas as pd\n",
        "df = pd.DataFrame(index = spectrum, columns = spectrum[:-1] )\n",
        "\n",
        "for i in range(0, len(spectrum)-1):\n",
        "    df.iloc[i+1:, i] = df.index[i+1:] - df.index[i]  #spectrum[i+1:] - spectrum[i]\n",
        "df"
      ],
      "execution_count": null,
      "outputs": []
    },
    {
      "cell_type": "markdown",
      "metadata": {
        "id": "aTi0xAhMUzvW"
      },
      "source": [
        "## 1.3.2 Code Challenge: Implement ConvolutionCyclopeptideSequencing.\n",
        "\n",
        "Input: An integer M, an integer N, and a collection of (possibly repeated) integers Spectrum.\n",
        "\n",
        "Output: A cyclic peptide LeaderPeptide with amino acids taken only from the top M elements (and ties) of the convolution of Spectrum that fall between 57 and 200, and where the size of Leaderboard is restricted to the top N (and ties).\n"
      ]
    },
    {
      "cell_type": "code",
      "metadata": {
        "id": "12zghREJanCU"
      },
      "source": [
        ""
      ],
      "execution_count": null,
      "outputs": []
    },
    {
      "cell_type": "code",
      "metadata": {
        "colab": {
          "base_uri": "https://localhost:8080/"
        },
        "id": "EGB58It2pdib",
        "outputId": "595b894f-2d86-4f10-89e5-95a51aaae9b0"
      },
      "source": [
        "def LinearSpectrum(peptide):\n",
        "  ''' input: peptide presented in masses \n",
        "      output: spectrum in masses\n",
        "  ''' \n",
        "  linearSpectrum = [0]\n",
        "  if peptide != '':\n",
        "    peptide = [int(x) for x in peptide.split('-')]\n",
        "\n",
        "    \n",
        "    lPeptide = len(peptide)\n",
        "    prefixMass = [0] * (lPeptide) \n",
        "\n",
        "    for i in range(0, lPeptide):\n",
        "      for symbol in peptide: \n",
        "        if symbol == peptide[i]:\n",
        "          prefixMass[i] = prefixMass[i-1] + symbol\n",
        "    prefixMass.insert(0,0)\n",
        "    \n",
        "    #linearSpectrum = [0]\n",
        "    c = 0\n",
        "    for i in range(0, len(prefixMass)-1):\n",
        "      for j in range(i+1, len(prefixMass)):\n",
        "        c +=1\n",
        "        linearSpectrum.append(prefixMass[j]-prefixMass[i])\n",
        "\n",
        "    linearSpectrum.sort()\n",
        "  return linearSpectrum\n",
        "\n",
        "def Cyclospectrum(peptide):\n",
        "\n",
        "  part1 = LinearSpectrum(peptide=peptide[:-1])\n",
        "  pref1 = LinearSpectrum(peptide=peptide)\n",
        "  tMass=pref1[-1] # mass of the full element\n",
        "  part2 = [tMass - x for x in part1]\n",
        "\n",
        "  final = part1 + part2\n",
        "  final.sort()\n",
        "  return final\n",
        "\n",
        "\n",
        "def Expand(candidatePeptides, alphabetMass):\n",
        "    ''' Returns newCollection containing all possible extensions of peptides in \n",
        "        candidatePeptides by a single amino acid mass\n",
        "    ''' \n",
        "    newCollection = set()\n",
        "    if candidatePeptides != {''}:\n",
        "      \n",
        "      [newCollection.add(candidate + '-' + str(peptide)) \n",
        "                        for candidate in candidatePeptides \\\n",
        "                          for peptide in alphabetMass ]\n",
        "    else:\n",
        "      [newCollection.add(candidate + str(peptide)) \\\n",
        "                        for candidate in candidatePeptides \\\n",
        "                        for peptide in alphabetMass ]\n",
        "                      \n",
        "    return newCollection\n",
        "\n",
        "\n",
        "def GetParentMass(spectrum):\n",
        "  \n",
        "  return spectrum[-1]\n",
        "\n",
        "\n",
        "def GetMass(peptide):\n",
        "  ''' Input: subpeptide string\n",
        "      Output: mass of subpeptidestring\n",
        "  '''\n",
        "  mass = 0 \n",
        "  \n",
        "  for element in peptide.split('-'):\n",
        "    if element != '':\n",
        "      mass = mass + int(element)\n",
        "\n",
        "  return mass \n",
        "\n",
        "\n",
        "\n",
        "def PeptideConsistentWithSpectrum(peptide):\n",
        "  ''' case 1: peptide is string '128'\n",
        "      case 2: peptide is string '128-113-99'\n",
        "  '''\n",
        "  LS = LinearSpectrum(peptide=peptide, alphabet=massTable.keys(), aminoAcidMass=massTable)\n",
        "\n",
        "  spectrumCopy = spectrum.copy()\n",
        "  cnt = 0\n",
        "\n",
        "  for element in LS:\n",
        "    if int(element) in spectrumCopy:\n",
        "      cnt += 1 \n",
        "      spectrumCopy.remove(int(element))\n",
        "    else:\n",
        "      return False\n",
        "  if cnt == len(LS):\n",
        "    return True\n",
        "    \n",
        "\n",
        "def LinearScore(peptide, spectrum):\n",
        "  LS = LinearSpectrum(peptide)\n",
        "  CP = spectrum.copy()\n",
        "  score = 0\n",
        "  #print('LS', peptide, LS)\n",
        "\n",
        "  if peptide != '':\n",
        "    for s in LS:\n",
        "      if (s in CP):\n",
        "        score += 1 \n",
        "        CP.remove(s)\n",
        "\n",
        "  return score\n",
        "\n",
        "def CycloScore(peptide, spectrum):\n",
        "  LS = Cyclospectrum(peptide)\n",
        "  CP = spectrum.copy()\n",
        "  score = 0\n",
        "  #print('LS', peptide, LS)\n",
        "\n",
        "  if peptide != '':\n",
        "    for s in LS:\n",
        "      if (s in CP):\n",
        "        score += 1 \n",
        "        CP.remove(s)\n",
        "\n",
        "  return score\n",
        "\n",
        "\n",
        "def Trim(leaderBoard, spectrum, n):\n",
        "  ''' leaderBoard: set of peptides {'99-99-99', ''}\n",
        "      spectrum: list of int [0,99,128]\n",
        "      n = 10 \n",
        "  '''\n",
        "  scores = []\n",
        "  if len(leaderBoard) > n:\n",
        "    \n",
        "    trimedLeaderBoard = set()\n",
        "\n",
        "    [scores.append(LinearScore(peptide, spectrum) ) for peptide in leaderBoard]\n",
        "    #print('scores', sorted(scores,reverse=True))\n",
        "    \n",
        "    sortedLB = [l for _,l in sorted(zip(scores,leaderBoard))]\n",
        "    #print('sortedLB', sortedLB)\n",
        "    \n",
        "    scores = sorted(scores)\n",
        "    #print('sorted scores', scores)\n",
        "\n",
        "    part1 = sortedLB[-n:]\n",
        "    #print('part1', part1)\n",
        "    \n",
        "    part2 = []\n",
        "    i = 1\n",
        "    while len(scores)>(n+i) and (scores[-n]==scores[-n-i]):\n",
        "      part2.append(sortedLB[-n-i])\n",
        "      i += 1\n",
        "    trimedLeaderBoard = set(part1 + part2)\n",
        "  else: \n",
        "    trimedLeaderBoard = leaderBoard\n",
        "  #print('trimedLeaderBoard ', len(leaderBoard), '->',len(trimedLeaderBoard),  trimedLeaderBoard )\n",
        "  #print('scores',scores)\n",
        "  return trimedLeaderBoard \n",
        "\n",
        "def ConvolutionSpectrum(spectrum):\n",
        "  ''' input: int list\n",
        "      output: np array \n",
        "  '''\n",
        "  spectrum = np.array(sorted(spectrum))\n",
        "  data = np.array([])\n",
        "  for i in range(0, len(spectrum)-1):\n",
        "    lst = spectrum[i+1:] - spectrum[i]\n",
        "    data = np.append(data, lst)\n",
        "  data = data[data != 0]\n",
        "  #data = [int(x) for x in data]\n",
        "  return data\n",
        "\n",
        "def GetMassAlphabet(spectrum, M, N):\n",
        "\n",
        "  conv = ConvolutionSpectrum(spectrum)\n",
        "  conv = conv[conv < 200]\n",
        "  conv = conv[conv >= 57]\n",
        "\n",
        "  lst = Counter(conv).most_common(M)\n",
        "  frequency = List[-1][1]\n",
        "\n",
        "  massAlphabet = sorted( [int(k) for k, v in dict(Counter(conv)).items() if v >= frequency] )\n",
        "\n",
        "  return massAlphabet\n",
        "\n",
        "\n",
        "def LeaderBoardCustomAlphabet(N,M, spectrum):\n",
        "  alphabetMass = GetMassAlphabet(spectrum, M, N)\n",
        "\n",
        "  parentMass = GetParentMass(spectrum)\n",
        "\n",
        "  leaderBoard = {''} # set of strings\n",
        "  leaderPeptide = ''\n",
        "\n",
        "  topScore = 0\n",
        "  topPeptides = []\n",
        "  topScores = [] \n",
        "\n",
        "  while len(leaderBoard) > 0:\n",
        "    leaderBoardExp = Expand(leaderBoard,alphabetMass)\n",
        "    leaderBoardCopy = leaderBoardExp.copy()\n",
        "\n",
        "    for peptide in leaderBoardExp:  # peptide 137-57-128  \n",
        "      peptideMass = GetMass(peptide)\n",
        "      if peptideMass == parentMass:\n",
        "        CScore1 = CycloScore(peptide, spectrum)\n",
        "        CScore2 = CycloScore(leaderPeptide, spectrum)\n",
        "      \n",
        "        if CScore1 == topScore:\n",
        "          topPeptides.append(peptide) ###\n",
        "          topScores.append(topScore)\n",
        "        if topScore < CScore1:\n",
        "          topPeptides = [peptide]\n",
        "          topScores = [CScore1]\n",
        "          topScore = CScore1\n",
        "      \n",
        "        if  CScore1 > CScore2 :\n",
        "          leaderPeptide = peptide \n",
        "      elif peptideMass > parentMass:\n",
        "        leaderBoardCopy.remove(peptide)\n",
        "    leaderBoard = Trim(leaderBoardCopy, spectrum, n)\n",
        "    \n",
        "  print('There are', len(topPeptides), 'top peptides with score', CycloScore(leaderPeptide,spectrum))\n",
        "\n",
        "  return leaderPeptide , topPeptides #leaderPeptide, , CycloScore(PeptToAA(leaderPeptide), spectrum)\n",
        "\n",
        "# n = 10 \n",
        "# spectrum = [int(s) for s in '0 71 113 129 147 200 218 260 313 331 347 389 460'.split(' ')]\n",
        "# LB = LeaderBoardCustomAlphabet(N, M, spectrum)\n",
        "# print(LB)\n",
        "\n",
        "M = 20\n",
        "N = 60\n",
        "s = '57 57 71 99 129 137 170 186 194 208 228 265 285 299 307 323 356 364 394 422 493'.split(' ')\n",
        "spectrum = [int(x) for x in s]\n",
        "\n",
        "LeaderBoardCustomAlphabet(N, M, spectrum)"
      ],
      "execution_count": 121,
      "outputs": [
        {
          "output_type": "stream",
          "text": [
            "There are 11 top peptides with score 20\n"
          ],
          "name": "stdout"
        },
        {
          "output_type": "execute_result",
          "data": {
            "text/plain": [
              "('99-129-57-137-71',\n",
              " ['99-129-57-137-71',\n",
              "  '99-71-137-57-129',\n",
              "  '71-137-57-129-99',\n",
              "  '129-57-137-71-99',\n",
              "  '57-137-71-99-129',\n",
              "  '71-99-129-57-137',\n",
              "  '57-129-99-71-137',\n",
              "  '137-57-129-99-71',\n",
              "  '71-99-129-57-79-58',\n",
              "  '57-137-71-99-58-71',\n",
              "  '99-71-137-57-58-71'])"
            ]
          },
          "metadata": {
            "tags": []
          },
          "execution_count": 121
        }
      ]
    },
    {
      "cell_type": "markdown",
      "metadata": {
        "id": "2T3YTj1Li2P-"
      },
      "source": [
        "### ExtraDataset"
      ]
    },
    {
      "cell_type": "code",
      "metadata": {
        "id": "YnTe_mBri5SB"
      },
      "source": [
        "url = 'http://bioinformaticsalgorithms.com/data/extradatasets/antibiotics/convolution_cyclopeptide_sequencing.txt'\n"
      ],
      "execution_count": null,
      "outputs": []
    },
    {
      "cell_type": "markdown",
      "metadata": {
        "id": "ykJCP5Azi74-"
      },
      "source": [
        "### Stepik submission"
      ]
    },
    {
      "cell_type": "code",
      "metadata": {
        "colab": {
          "resources": {
            "http://localhost:8080/nbextensions/google.colab/files.js": {
              "data": "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",
              "ok": true,
              "headers": [
                [
                  "content-type",
                  "application/javascript"
                ]
              ],
              "status": 200,
              "status_text": ""
            }
          },
          "base_uri": "https://localhost:8080/",
          "height": 89
        },
        "id": "2GhKzOoXi-JB",
        "outputId": "afa184db-df91-4a38-fc94-193de5c102d5"
      },
      "source": [
        "uploaded = files.upload()\n",
        "\n",
        "for fn in uploaded.keys():\n",
        "  print('User uploaded file \"{name}\" with length {length} bytes'.format(\n",
        "      name=fn, length=len(uploaded[fn])))\n",
        "  "
      ],
      "execution_count": 100,
      "outputs": [
        {
          "output_type": "display_data",
          "data": {
            "text/html": [
              "\n",
              "     <input type=\"file\" id=\"files-933e193a-58ca-49d6-9e2e-cdb067458e02\" name=\"files[]\" multiple disabled\n",
              "        style=\"border:none\" />\n",
              "     <output id=\"result-933e193a-58ca-49d6-9e2e-cdb067458e02\">\n",
              "      Upload widget is only available when the cell has been executed in the\n",
              "      current browser session. Please rerun this cell to enable.\n",
              "      </output>\n",
              "      <script src=\"/nbextensions/google.colab/files.js\"></script> "
            ],
            "text/plain": [
              "<IPython.core.display.HTML object>"
            ]
          },
          "metadata": {
            "tags": []
          }
        },
        {
          "output_type": "stream",
          "text": [
            "Saving dataset_104_7-2.txt to dataset_104_7-2.txt\n",
            "User uploaded file \"dataset_104_7-2.txt\" with length 814 bytes\n"
          ],
          "name": "stdout"
        }
      ]
    },
    {
      "cell_type": "code",
      "metadata": {
        "colab": {
          "base_uri": "https://localhost:8080/"
        },
        "id": "msPzkI6kjXEo",
        "outputId": "7648e14e-86ed-4c4e-badf-1d0d3c6f343b"
      },
      "source": [
        "with open(fn) as f:\n",
        "  M = int(f.readline().split('\\n')[0])\n",
        "  N = int(f.readline().split('\\n')[0])\n",
        "  spectrum = f.readline().split('\\n')[0]\n",
        "spectrum = [int(s) for s in spectrum.split(' ')]\n",
        "\n",
        "print(spectrum)\n",
        "print(N)\n",
        "print(M)"
      ],
      "execution_count": 101,
      "outputs": [
        {
          "output_type": "stream",
          "text": [
            "[0, 103, 103, 103, 113, 113, 113, 114, 114, 115, 128, 128, 137, 137, 186, 217, 217, 226, 226, 227, 231, 240, 240, 242, 243, 252, 265, 289, 299, 320, 339, 340, 346, 354, 355, 355, 368, 368, 379, 380, 402, 403, 412, 453, 457, 468, 469, 482, 483, 483, 483, 492, 496, 506, 515, 516, 525, 572, 581, 586, 595, 597, 605, 610, 611, 619, 620, 628, 629, 639, 643, 700, 700, 708, 718, 723, 723, 725, 732, 742, 742, 748, 756, 758, 767, 803, 821, 836, 837, 838, 845, 851, 856, 862, 869, 870, 871, 886, 904, 940, 949, 951, 959, 965, 965, 975, 982, 984, 984, 989, 999, 1007, 1007, 1064, 1068, 1078, 1079, 1087, 1088, 1096, 1097, 1102, 1110, 1112, 1121, 1126, 1135, 1182, 1191, 1192, 1201, 1211, 1215, 1224, 1224, 1224, 1225, 1238, 1239, 1250, 1254, 1295, 1304, 1305, 1327, 1328, 1339, 1339, 1352, 1352, 1353, 1361, 1367, 1368, 1387, 1408, 1418, 1442, 1455, 1464, 1465, 1467, 1467, 1476, 1480, 1481, 1481, 1490, 1490, 1521, 1570, 1570, 1579, 1579, 1592, 1593, 1593, 1594, 1594, 1594, 1604, 1604, 1604, 1707]\n",
            "390\n",
            "17\n"
          ],
          "name": "stdout"
        }
      ]
    },
    {
      "cell_type": "code",
      "metadata": {
        "colab": {
          "base_uri": "https://localhost:8080/",
          "height": 35
        },
        "id": "9_n53RqXbPS-",
        "outputId": "28b4f22e-29aa-4315-853e-25b1472e64ce"
      },
      "source": [
        "LeaderBoardCustomAlphabet(N, M, spectrum)"
      ],
      "execution_count": 102,
      "outputs": [
        {
          "output_type": "execute_result",
          "data": {
            "application/vnd.google.colaboratory.intrinsic+json": {
              "type": "string"
            },
            "text/plain": [
              "'113-113-114-128-137-103-128-115-137-103-114-103-186-113'"
            ]
          },
          "metadata": {
            "tags": []
          },
          "execution_count": 102
        }
      ]
    },
    {
      "cell_type": "code",
      "metadata": {
        "colab": {
          "base_uri": "https://localhost:8080/"
        },
        "id": "fmRqOBs1jc93",
        "outputId": "dc1bc3f8-3794-4291-cb2c-1525764c634b"
      },
      "source": [
        "url = 'http://bioinformaticsalgorithms.com/data/realdatasets/Antibiotics/Tyrocidine_B1_Spectrum_25.txt'\n",
        "with urllib.request.urlopen(url) as f:\n",
        "    data_25 = f.read().decode('utf-8')\n",
        "\n",
        "data_25 = [int(x) for x in data_25.split(' ')]\n",
        "\n",
        "data_25[:10]"
      ],
      "execution_count": 103,
      "outputs": [
        {
          "output_type": "execute_result",
          "data": {
            "text/plain": [
              "[0, 97, 99, 113, 114, 115, 128, 128, 147, 147]"
            ]
          },
          "metadata": {
            "tags": []
          },
          "execution_count": 103
        }
      ]
    },
    {
      "cell_type": "code",
      "metadata": {
        "colab": {
          "resources": {
            "http://localhost:8080/nbextensions/google.colab/files.js": {
              "data": "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",
              "ok": true,
              "headers": [
                [
                  "content-type",
                  "application/javascript"
                ]
              ],
              "status": 200,
              "status_text": ""
            }
          },
          "base_uri": "https://localhost:8080/",
          "height": 160
        },
        "id": "ZUg9T364k_wW",
        "outputId": "f57de5c0-6995-4b53-f704-1bff86d7e495"
      },
      "source": [
        "uploaded = files.upload()\n",
        "\n",
        "for fn in uploaded.keys():\n",
        "  print('User uploaded file \"{name}\" with length {length} bytes'.format(\n",
        "      name=fn, length=len(uploaded[fn])))"
      ],
      "execution_count": 123,
      "outputs": [
        {
          "output_type": "display_data",
          "data": {
            "text/html": [
              "\n",
              "     <input type=\"file\" id=\"files-a154df62-2dcc-4669-869c-b9ed7f51d7e4\" name=\"files[]\" multiple disabled\n",
              "        style=\"border:none\" />\n",
              "     <output id=\"result-a154df62-2dcc-4669-869c-b9ed7f51d7e4\">\n",
              "      Upload widget is only available when the cell has been executed in the\n",
              "      current browser session. Please rerun this cell to enable.\n",
              "      </output>\n",
              "      <script src=\"/nbextensions/google.colab/files.js\"></script> "
            ],
            "text/plain": [
              "<IPython.core.display.HTML object>"
            ]
          },
          "metadata": {
            "tags": []
          }
        },
        {
          "output_type": "stream",
          "text": [
            "Saving dataset_104_8.txt to dataset_104_8 (4).txt\n",
            "User uploaded file \"dataset_104_8.txt\" with length 401 bytes\n",
            "[0, 97, 99, 113, 114, 115, 128, 128, 147, 147, 163, 186, 227, 241, 242, 244, 244, 256, 260, 261, 262, 283, 291, 309, 330, 333, 340, 347, 385, 388, 389, 390, 390, 405, 435, 447, 485, 487, 503, 504, 518, 544, 552, 575, 577, 584, 599, 608, 631, 632, 650, 651, 653, 672, 690, 691, 717, 738, 745, 770, 779, 804, 818, 819, 827, 835, 837, 875, 892, 892, 917, 932, 932, 933, 934, 965, 982, 989, 1039, 1060, 1062, 1078, 1080, 1081, 1095, 1136, 1159, 1175, 1175, 1194, 1194, 1208, 1209, 1223, 1322]\n",
            "1000\n",
            "20\n"
          ],
          "name": "stdout"
        }
      ]
    },
    {
      "cell_type": "code",
      "metadata": {
        "colab": {
          "base_uri": "https://localhost:8080/"
        },
        "id": "y30RtYyhkxvH",
        "outputId": "5a6d7c0b-722f-4005-94ba-f0d4e6688b8e"
      },
      "source": [
        "with open(fn) as f:\n",
        "  M = int(f.readline().split('\\n')[0])\n",
        "  N = int(f.readline().split('\\n')[0])\n",
        "  spectrum = f.readline().split('\\n')[0]\n",
        "spectrum = [int(s) for s in spectrum.split(' ')]\n",
        "\n",
        "\n",
        "leaderPeptide , topPeptides = LeaderBoardCustomAlphabet(N, M, spectrum)\n",
        "print(topPeptides)"
      ],
      "execution_count": 126,
      "outputs": [
        {
          "output_type": "stream",
          "text": [
            "There are 3 top peptides with score 83\n",
            "['147-114-128-163-99-128-113-147-97-186', '163-128-114-147-186-97-147-113-128-99', '147-113-128-99-163-128-114-147-97-89-97']\n"
          ],
          "name": "stdout"
        }
      ]
    }
  ]
}