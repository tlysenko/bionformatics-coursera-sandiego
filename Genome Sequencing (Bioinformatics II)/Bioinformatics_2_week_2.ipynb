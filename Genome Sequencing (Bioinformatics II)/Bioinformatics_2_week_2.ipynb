{
  "nbformat": 4,
  "nbformat_minor": 0,
  "metadata": {
    "colab": {
      "name": "Bioinformatics 2 - week 2.ipynb",
      "provenance": [],
      "toc_visible": true,
      "mount_file_id": "1O3w8kLOIq6096EH5HyRXyq9nA46e0oML",
      "authorship_tag": "ABX9TyNTZ3Y/BEGfOvSjb08ZzEFP",
      "include_colab_link": true
    },
    "kernelspec": {
      "display_name": "Python 3",
      "name": "python3"
    }
  },
  "cells": [
    {
      "cell_type": "markdown",
      "metadata": {
        "id": "view-in-github",
        "colab_type": "text"
      },
      "source": [
        "<a href=\"https://colab.research.google.com/github/tlysenko/bionformatics-coursera-sandiego/blob/main/Genome%20Sequencing%20(Bioinformatics%20II)/Bioinformatics_2_week_2.ipynb\" target=\"_parent\"><img src=\"https://colab.research.google.com/assets/colab-badge.svg\" alt=\"Open In Colab\"/></a>"
      ]
    },
    {
      "cell_type": "markdown",
      "metadata": {
        "id": "ARwjjcXmYFPE"
      },
      "source": [
        "## Importing libraries"
      ]
    },
    {
      "cell_type": "code",
      "metadata": {
        "id": "-wRcVsoyYEue"
      },
      "source": [
        "import numpy as np\n",
        "import pandas as pd\n",
        "\n",
        "from google.colab import files\n",
        "\n",
        "import random"
      ],
      "execution_count": 11,
      "outputs": []
    },
    {
      "cell_type": "markdown",
      "metadata": {
        "id": "qVDDJGIJYMG3"
      },
      "source": [
        "## 1.2 Eulerian Cycle Problem\n",
        "\n",
        "Input: The adjacency list of an Eulerian directed graph.\n",
        "\n",
        "Output: An Eulerian cycle in this graph."
      ]
    },
    {
      "cell_type": "code",
      "metadata": {
        "id": "5VfEbmbJYCMd"
      },
      "source": [
        "# EulerianCycle(Graph)\n",
        "#     form a cycle Cycle by randomly walking in Graph (don't visit the same edge twice!)\n",
        "#     while there are unexplored edges in Graph\n",
        "#         select a node newStart in Cycle with still unexplored edges\n",
        "#         form Cycle’ by traversing Cycle (starting at newStart) and then randomly walking \n",
        "#         Cycle ← Cycle’\n",
        "#     return Cycle"
      ],
      "execution_count": null,
      "outputs": []
    },
    {
      "cell_type": "code",
      "metadata": {
        "colab": {
          "base_uri": "https://localhost:8080/"
        },
        "id": "pzzCoA7M2DD3",
        "outputId": "d9436a64-5a80-4b68-8fcb-1a0732db487d"
      },
      "source": [
        "def StrPathToDict(graph):\n",
        "  d = dict()\n",
        "  for line in graph:\n",
        "    key = int(line.split('->')[0].split(' ')[0])\n",
        "    value = line.split('->')[1].split(' ')[1]\n",
        "    if ',' in value:\n",
        "      v = value.split(',')\n",
        "      d[key] = ([int(el) for el in v])\n",
        "    else:\n",
        "      d[key] = [(int(value))]\n",
        "  return d\n",
        "\n",
        "def CountIndegrees(d):\n",
        "  d = StrPathToDict(graph)\n",
        "  remNodes = np.zeros(len(d))\n",
        "  for i, values in enumerate(d.values()):\n",
        "    for value in values:\n",
        "      remNodes[i] = remNodes[i] + 1\n",
        "  return remNodes\n",
        "\n",
        "def DeleteEdge(d, d1, d2):\n",
        "  # deletes edge d1->d2 from the dictionary d \n",
        "  if len(d[d1]) > 1:\n",
        "    lst = d[d1].copy()\n",
        "    lst.remove(d2)\n",
        "    d[d1] = lst.copy()\n",
        "  elif len(d[d1]) == 1:\n",
        "    del d[d1]\n",
        "\n",
        "  return d \n",
        "\n",
        "\n",
        "def TraverseCycle(cycle, remainingEdges):\n",
        "  nodesWithAvailableEdges = [node for node in cycle if node in list(remainingEdges.keys())]\n",
        "  randomNode = random.choice(nodesWithAvailableEdges)\n",
        "\n",
        "  idx = cycle.index(randomNode)\n",
        "  cycle = cycle[idx:] + cycle[1:idx+1]\n",
        "\n",
        "  return cycle\n",
        "\n",
        "def GetNextRandomNode(prevNode, remainingEdges):    \n",
        "  nextNode = random.choice([int(t) for t in remainingEdges[prevNode]])\n",
        "  return nextNode\n",
        "\n",
        "def GetNextNodeWithAvailableIndegrees(prevNode, remainingEdges):\n",
        "  return nextNode\n",
        "\n",
        "def MakeRandomCycle(edges, remainingEdges, startNode):\n",
        "  rCycle = []\n",
        "  rCycle.append(startNode)\n",
        "  \n",
        "  prevNode = startNode\n",
        "\n",
        "  while prevNode in remainingEdges.keys():\n",
        "\n",
        "    nextNode = GetNextRandomNode(prevNode, remainingEdges)\n",
        "  \n",
        "    #updating the data structures\n",
        "    DeleteEdge(remainingEdges, prevNode, nextNode) \n",
        "    rCycle.append(nextNode)\n",
        "    prevNode = nextNode\n",
        "\n",
        "  return rCycle \n",
        "\n",
        "def EulerianCycle(edges):\n",
        "\n",
        "  # main data structures\n",
        "  targetCycleLen = sum(CountInsNodes(d)) + 1\n",
        "  remainingEdges = edges.copy()\n",
        "  dictIndegrees = {k:v for  k, v in zip(d.keys(), CountIndegrees(d))}\n",
        "\n",
        "  #starting definitions\n",
        "  startNode = random.choice(list(dictIndegrees.keys()))\n",
        "  cycle = MakeRandomCycle(edges, remainingEdges, startNode)\n",
        "\n",
        "  while len(cycle) != targetCycleLen:\n",
        "    \n",
        "    traversedCycle = TraverseCycle(cycle, remainingEdges)\n",
        "    cycle_ = MakeRandomCycle(edges, remainingEdges, traversedCycle[0])\n",
        "    cycle = traversedCycle[:-1] + cycle_\n",
        "\n",
        "  s = ''\n",
        "  for node in cycle:\n",
        "    s = s + '->' + str(node)\n",
        "\n",
        "  return s[2:]\n",
        "\n"
      ],
      "execution_count": 97,
      "outputs": [
        {
          "output_type": "stream",
          "text": [
            "6->5->4->2->1->0->3->2->6->8->7->9->6 37\n"
          ],
          "name": "stdout"
        }
      ]
    },
    {
      "cell_type": "markdown",
      "metadata": {
        "id": "gvBFVzLzugds"
      },
      "source": [
        "### Test dataset "
      ]
    },
    {
      "cell_type": "code",
      "metadata": {
        "colab": {
          "base_uri": "https://localhost:8080/"
        },
        "id": "80KirUhMwPNt",
        "outputId": "0d3f48cb-1fc0-4274-8280-0ba140164c2d"
      },
      "source": [
        "graph  = ['0 -> 3',\n",
        "'1 -> 0',\n",
        "'2 -> 1,6',\n",
        "'3 -> 2',\n",
        "'4 -> 2',\n",
        "'5 -> 4',\n",
        "'6 -> 5,8',\n",
        "'7 -> 9',\n",
        "'8 -> 7',\n",
        "'9 -> 6']\n",
        "\n",
        "edges = StrPathToDict(graph)\n",
        "cyc = EulerianCycle(edges)\n",
        "\n",
        "print(cyc)\n"
      ],
      "execution_count": 135,
      "outputs": [
        {
          "output_type": "stream",
          "text": [
            "6->5->4->2->1->0->3->2->6->8->7->9->6\n"
          ],
          "name": "stdout"
        }
      ]
    },
    {
      "cell_type": "code",
      "metadata": {
        "id": "zmNTCTsi2GWi"
      },
      "source": [
        "url = '/content/drive/MyDrive/Colab Notebooks/Bionformatics-coursera-sandiego/EulerianCycle'\n",
        "fpath_input = url + '/inputs/test6.txt'\n",
        "fpath_output = url + '/outputs/test6.txt'"
      ],
      "execution_count": 138,
      "outputs": []
    },
    {
      "cell_type": "code",
      "metadata": {
        "colab": {
          "base_uri": "https://localhost:8080/"
        },
        "id": "Pn7yixux2GTX",
        "outputId": "aa2826ec-b044-4689-f21d-6cf64ea39b33"
      },
      "source": [
        "with open(fpath_input) as f:\n",
        "  graph = f.readlines()\n",
        "graph = [g.split('\\n')[0] for g in graph]\n",
        "graph"
      ],
      "execution_count": 139,
      "outputs": [
        {
          "output_type": "execute_result",
          "data": {
            "text/plain": [
              "['0 -> 1,2,3,4',\n",
              " '1 -> 0,2,3,4',\n",
              " '2 -> 0,1,3,4',\n",
              " '3 -> 0,1,2,4',\n",
              " '4 -> 0,1,2,3']"
            ]
          },
          "metadata": {
            "tags": []
          },
          "execution_count": 139
        }
      ]
    },
    {
      "cell_type": "code",
      "metadata": {
        "colab": {
          "base_uri": "https://localhost:8080/"
        },
        "id": "KKK6vclRvJP_",
        "outputId": "2ccde5de-a9ca-451a-c1ac-6db3f6d0a6f2"
      },
      "source": [
        "edges = StrPathToDict(graph)\n",
        "cyc = EulerianCycle(edges)\n",
        "print(cyc)"
      ],
      "execution_count": 140,
      "outputs": [
        {
          "output_type": "stream",
          "text": [
            "4->1->4->3->0->3->1->2->3->2->1->3->4->0->1->0->4->2->0->2->4\n"
          ],
          "name": "stdout"
        }
      ]
    },
    {
      "cell_type": "code",
      "metadata": {
        "colab": {
          "base_uri": "https://localhost:8080/"
        },
        "id": "cRwHKdgQ2DA0",
        "outputId": "1b190d44-bc0f-4650-e329-3a832af918ce"
      },
      "source": [
        "with open(fpath_output) as f:\n",
        "  outp = f.readlines()\n",
        "outp = [g.split('\\n')[0] for g in outp]\n",
        "print(outp[0])"
      ],
      "execution_count": 141,
      "outputs": [
        {
          "output_type": "stream",
          "text": [
            "3->4->3->1->3->0->2->0->4->0->3->2->1->0->1->2->4->1->4->2->3\n"
          ],
          "name": "stdout"
        }
      ]
    },
    {
      "cell_type": "markdown",
      "metadata": {
        "id": "QsFEhBQBTGuh"
      },
      "source": [
        "### Stepik submission "
      ]
    },
    {
      "cell_type": "code",
      "metadata": {
        "colab": {
          "resources": {
            "http://localhost:8080/nbextensions/google.colab/files.js": {
              "data": "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",
              "ok": true,
              "headers": [
                [
                  "content-type",
                  "application/javascript"
                ]
              ],
              "status": 200,
              "status_text": ""
            }
          },
          "base_uri": "https://localhost:8080/",
          "height": 89
        },
        "id": "dGoamsPmxtuF",
        "outputId": "dc50feb2-7626-4d39-bbdc-1a55f721391f"
      },
      "source": [
        "uploaded = files.upload()\n",
        "\n",
        "for fn in uploaded.keys():\n",
        "  print('User uploaded file \"{name}\" with length {length} bytes'.format(\n",
        "      name=fn, length=len(uploaded[fn])))"
      ],
      "execution_count": 129,
      "outputs": [
        {
          "output_type": "display_data",
          "data": {
            "text/html": [
              "\n",
              "     <input type=\"file\" id=\"files-8457104d-870d-41dd-a2d0-e39920fd8203\" name=\"files[]\" multiple disabled\n",
              "        style=\"border:none\" />\n",
              "     <output id=\"result-8457104d-870d-41dd-a2d0-e39920fd8203\">\n",
              "      Upload widget is only available when the cell has been executed in the\n",
              "      current browser session. Please rerun this cell to enable.\n",
              "      </output>\n",
              "      <script src=\"/nbextensions/google.colab/files.js\"></script> "
            ],
            "text/plain": [
              "<IPython.core.display.HTML object>"
            ]
          },
          "metadata": {
            "tags": []
          }
        },
        {
          "output_type": "stream",
          "text": [
            "Saving dataset_203_2-4.txt to dataset_203_2-4.txt\n",
            "User uploaded file \"dataset_203_2-4.txt\" with length 40923 bytes\n"
          ],
          "name": "stdout"
        }
      ]
    },
    {
      "cell_type": "code",
      "metadata": {
        "id": "TMQyqsGiTJS1"
      },
      "source": [
        "with open(fn) as f:\n",
        "  graph = f.readlines()\n",
        "graph = [g.split('\\n')[0] for g in graph]"
      ],
      "execution_count": 130,
      "outputs": []
    },
    {
      "cell_type": "code",
      "metadata": {
        "colab": {
          "base_uri": "https://localhost:8080/"
        },
        "id": "XkQAEa7_TJPj",
        "outputId": "6dc83462-6c5f-40aa-b400-66f3331bfadf"
      },
      "source": [
        "graph[:5]"
      ],
      "execution_count": 131,
      "outputs": [
        {
          "output_type": "execute_result",
          "data": {
            "text/plain": [
              "['0 -> 1,25,6',\n",
              " '1 -> 2,39,41,8,92',\n",
              " '10 -> 11,14,150,29,50',\n",
              " '100 -> 102,1214',\n",
              " '1000 -> 1002,1193']"
            ]
          },
          "metadata": {
            "tags": []
          },
          "execution_count": 131
        }
      ]
    },
    {
      "cell_type": "code",
      "metadata": {
        "colab": {
          "base_uri": "https://localhost:8080/"
        },
        "id": "bdiF-2f4TrGJ",
        "outputId": "6101b303-c4cd-445c-99a2-d569fa51d2f2"
      },
      "source": [
        "d.items()"
      ],
      "execution_count": 132,
      "outputs": [
        {
          "output_type": "execute_result",
          "data": {
            "text/plain": [
              "dict_items([(0, [3]), (1, [0]), (2, [1, 6]), (3, [2]), (4, [2]), (5, [4]), (6, [5, 8]), (7, [9]), (8, [7]), (9, [6])])"
            ]
          },
          "metadata": {
            "tags": []
          },
          "execution_count": 132
        }
      ]
    },
    {
      "cell_type": "code",
      "metadata": {
        "colab": {
          "base_uri": "https://localhost:8080/"
        },
        "id": "CF33mfITTJL6",
        "outputId": "02453c7b-e025-4041-96e8-7eb19c4f23aa"
      },
      "source": [
        "edges = StrPathToDict(graph)\n",
        "cyc = EulerianCycle(edges)\n",
        "print(cyc, len(cyc))"
      ],
      "execution_count": 133,
      "outputs": [
        {
          "output_type": "stream",
          "text": [
            "387->386->2283->2282->2281->386->298->299->300->201->274->275->707->2483->2484->2482->707->708->706->1712->1713->2011->2908->2910->2909->2011->2013->2012->1713->1711->2317->2318->2319->1711->706->275->365->366->364->275->276->201->200->2980->2981->2982->200->151->23->1143->2559->2557->2558->1143->1141->1142->23->18->728->727->955->956->2387->2525->2526->2524->2387->2388->2433->2431->2432->2388->2386->956->957->2974->2975->2976->957->727->729->1627->1628->1629->729->1503->1502->1501->729->822->2534->2533->2535->822->820->821->2076->2075->2834->2835->2833->2075->2074->821->729->18->21->97->98->892->894->893->2710->2711->2712->893->98->99->21->19->20->46->827->828->2631->2629->2630->828->826->46->731->2556->2555->2554->731->2949->2983->2984->2985->2949->2948->2947->731->730->732->762->760->923->1593->1592->1591->2187->2185->2186->2915->2914->2916->2186->1591->923->922->2729->2730->2728->922->1475->1474->1476->922->924->760->761->732->46->80->127->575->576->847->848->849->947->946->948->849->1672->1674->1673->849->576->574->127->381->380->379->127->144->2162->2163->2161->144->239->737->2112->2110->2111->737->736->1551->2544->2543->2542->1551->1550->1549->2108->2671->2672->2673->2108->2107->2659->2660->2661->2107->2109->1549->736->738->829->2670->2669->2668->829->831->830->1572->1571->1570->830->738->239->1651->1653->1652->239->240->238->1839->2963->2964->2962->1839->1837->1838->238->277->614->615->1332->1330->1331->615->613->725->726->724->613->277->2092->2093->2094->277->1252->1254->1847->1848->1846->1254->1253->1800->1798->1799->1253->277->279->1133->1132->1134->279->278->1793->1794->1792->1795->1796->1797->1792->278->238->144->255->2598->2596->2597->255->555->710->1188->1187->1186->710->709->1377->1376->1375->709->711->2789->2790->2788->711->555->554->1013->1012->1979->1978->1980->1012->1014->554->553->255->253->377->2990->2989->2991->377->376->742->1067->1068->1853->1852->1854->1068->1066->742->743->1221->1634->2849->2848->2850->1634->1633->1635->1221->1220->1219->743->744->376->378->2599->2600->2601->378->253->2723->2724->2722->253->254->144->412->413->414->1677->1676->1675->414->1352->2045->2046->2044->1352->1351->1353->414->144->142->958->2150->2149->2151->958->960->1856->1857->1855->960->1179->1177->1178->960->959->2772->2771->2770->959->142->143->127->128->1205->1882->1884->1883->1205->1204->1206->1223->2562->2560->2561->1223->1222->1224->1450->1452->1451->1224->1206->128->129->202->462->460->461->202->203->204->695->1364->1365->1363->2239->2240->2241->1363->695->694->696->204->631->632->1297->1299->1298->632->2761->2762->2763->632->633->2442->2440->2441->633->204->129->2148->2146->2147->129->704->705->703->2921->2920->2922->703->129->80->79->910->911->912->79->81->809->810->808->842->841->2747->2748->2746->841->843->808->81->46->272->899->1574->1575->1997->1996->1998->1575->1573->899->900->1405->1482->1480->1481->1405->1406->2700->2698->2699->1406->1407->2073->2071->2072->1407->900->898->272->972->971->970->272->271->273->1383->1488->1486->1487->1383->1381->1382->273->46->48->916->917->1367->1368->1366->917->918->48->416->417->434->435->433->784->786->785->433->417->415->48->1626->1624->1625->48->47->367->388->1123->1698->1697->1696->1123->1125->1548->1546->1547->2968->2970->2969->1547->1125->1124->388->2138->2356->2358->2357->2138->2867->2866->2868->2138->2137->2139->388->389->418->420->419->389->773->2708->2707->2709->773->774->772->1744->1745->1746->772->389->390->367->368->505->891->889->890->505->507->520->522->521->765->763->764->521->2541->2539->2540->521->1342->1343->1344->521->507->506->368->369->47->20->18->17->493->494->495->17->1373->1374->1372->17->1421->1422->1420->17->11->186->1704->2675->2674->2676->1704->1702->1703->186->185->184->1036->2663->2662->2664->1036->1038->1037->184->11->12->1327->1329->1581->2619->2617->2618->1581->1579->1580->1329->1328->12->3->73->74->2409->2407->2408->74->215->216->623->622->624->216->214->74->938->939->937->74->75->178->2593->2594->2595->178->792->1244->1245->1243->792->791->2760->2758->2759->791->790->1000->1193->1194->1192->1000->1002->1001->2530->2531->2532->1001->1644->1643->1642->1001->790->178->180->179->75->3->0->6->217->218->219->247->249->1649->1648->1650->249->1531->1533->1532->249->248->219->6->343->1075->1750->1752->1751->1075->1077->1076->2049->2048->2047->1076->343->344->966->964->965->2767->2768->2769->965->344->345->510->509->508->345->2466->2464->2465->345->6->5->76->1418->1419->2577->2575->2576->2929->2930->2931->2576->1419->1417->76->2583->2581->2582->76->77->209->2306->2307->2305->2605->2607->2606->2305->209->210->208->561->559->560->2911->2912->2913->560->208->2261->2260->2727->2725->2726->2260->2262->208->77->78->96->95->2115->2114->2113->95->169->171->170->473->2205->2203->2204->473->2102->2103->2101->473->2026->2028->2027->473->472->1835->2563->2565->2564->1835->1836->1834->472->985->986->987->472->474->170->1084->1326->1324->1325->1084->1103->1104->1102->1084->1086->1085->170->95->212->1497->2650->2651->2652->2757->2756->2755->2652->1497->1495->1496->212->213->211->256->258->257->211->95->94->2614->2616->2615->94->159->157->360->1054->1762->2335->2337->2336->1762->2404->2406->2405->1762->1763->1764->1054->1055->2167->2169->2168->1055->1056->360->358->469->471->1335->1334->1333->471->944->945->943->471->630->628->629->471->470->358->359->881->882->1610->1609->2571->2570->2569->1609->1611->882->880->359->374->2086->2088->2087->2389->2391->2390->2087->374->421->423->1282->1284->1283->2233->2234->2235->1283->423->422->935->934->936->1140->1139->1138->1295->1296->1294->1138->936->422->374->375->479->480->478->375->716->715->1008->1007->1006->715->717->375->373->870->1608->1606->2174->2173->2175->1606->1607->870->1398->1396->1397->870->868->869->1081->1082->1083->869->373->359->157->2378->2379->2377->157->158->502->2121->2120->2119->502->527->528->2427->2426->2425->528->661->662->663->2301->2300->2299->663->528->526->502->504->1679->1678->1680->504->503->540->2157->2156->2155->540->538->1832->1833->1831->2852->2853->2851->1831->538->1380->1378->1693->1695->1694->1378->1379->538->539->607->721->723->722->1362->2177->2191->2193->2192->2794->2796->2795->2192->2177->2178->2176->1362->1360->1400->1399->1401->1360->1361->722->1035->1817->1818->1816->1035->1034->1033->1040->1812->1845->1843->1844->2002->2004->2003->1844->1812->1810->1811->1040->1080->1646->1925->1924->1926->1646->1768->1769->1770->1646->1645->1647->1080->1079->1078->1938->2350->2351->2352->1938->1936->1937->1078->1117->2245->2246->2247->1117->1119->1118->2308->2310->2309->1118->2627->2845->2846->2847->2627->2628->2626->1118->1078->1040->1041->1039->1116->1115->1114->1039->1033->722->607->608->1617->1616->1615->608->609->539->862->863->864->539->503->158->94->78->106->1233->1231->1232->106->524->1069->1071->2303->2302->2304->1071->1070->524->649->1004->1003->1005->649->651->650->524->525->1455->1454->1468->1470->2053->2055->2054->1470->1469->1454->1453->1820->1821->1819->2739->2738->2737->1819->1453->2957->2956->2958->1453->525->523->2474->2473->2475->523->106->108->111->118->123->458->457->2042->2041->2043->457->459->123->122->121->118->119->192->191->190->119->120->1355->1354->1944->1942->1943->1354->1356->2857->2859->2858->1356->120->2280->2278->2279->120->111->110->297->295->296->110->109->108->107->589->844->845->846->589->590->1042->1044->1691->1690->1692->1044->1466->2827->2829->2828->1466->1465->1467->1044->1043->590->591->107->78->5->1561->1984->1985->1986->1561->1563->2812->2814->2813->1563->1562->5->4->63->206->486->485->484->206->205->207->63->62->61->645->975->2450->2449->2451->975->974->1458->1457->1456->974->973->645->643->644->1748->1747->2183->2182->2184->1747->1749->644->61->653->654->652->61->4->531->563->564->562->1849->1851->1850->562->531->529->530->4->137->1759->1760->1761->137->229->750->2287->2288->2471->2472->2470->2288->2289->750->1164->1685->1684->1686->1164->1163->1982->1981->1983->1163->1162->750->748->749->229->231->573->572->571->1181->1180->1311->1309->1310->1914->1913->1912->2325->2324->2323->1912->1310->1180->1182->571->231->2476->2477->2478->231->1149->2695->2697->2696->1149->1148->1559->1560->1558->1148->1147->1899->1897->1898->1147->231->396->401->688->689->2070->2133->2373->2371->2372->2133->2132->2131->2070->2068->2069->689->690->401->400->402->734->1804->1805->1806->734->733->872->871->873->1788->2268->2266->2267->1788->1786->2238->2237->2641->2642->2643->2237->2236->1786->1787->873->733->735->402->919->1595->1596->1594->919->920->921->402->396->395->394->231->230->137->284->339->337->338->284->283->285->2665->2666->2667->285->137->138->136->1826->1827->1825->136->4->0->25->449->1136->1414->1415->1416->1136->1137->1135->449->1109->1110->1108->449->448->799->800->801->448->450->25->26->103->105->165->556->558->557->165->949->950->951->1516->1518->1517->951->165->163->288->1614->1612->1613->288->287->286->163->164->105->104->1025->1287->2503->2504->2505->1287->1285->1286->1025->1669->1671->2366->2367->2365->1671->1670->1025->1026->1024->104->117->2296->2298->2297->117->2430->2429->2428->117->1262->1263->1261->117->116->2201->2202->2200->116->115->992->993->1776->1774->1775->993->991->115->104->741->824->823->2059->2934->2932->2933->2059->2060->2061->823->825->989->990->1290->1289->1288->990->988->1390->1392->2941->2943->2942->1392->1391->988->1021->1022->1317->1315->1316->1389->1388->1387->2874->2872->2873->1387->1316->1597->1598->2341->2342->2343->1598->1599->1316->1022->1023->988->825->1955->1954->1956->825->741->740->739->795->793->794->739->104->26->352->1096->2646->2645->2644->1096->1098->1097->2189->2190->2188->1097->352->354->593->592->594->354->353->26->176->175->177->2023->2024->2025->177->26->329->1723->2056->2057->2058->1723->1725->1724->329->781->782->783->1346->1347->2610->2609->2608->1347->1345->783->329->328->341->342->1814->1815->1813->342->340->446->598->600->599->446->445->447->340->328->1092->1091->1957->1958->1959->1091->1307->1969->1970->2066->2375->2374->2376->2066->2067->2819->2820->2818->2067->2065->2127->2877->2875->2876->2127->2125->2126->2065->1970->1971->1307->1306->1308->1091->1520->1519->1521->1091->1090->328->330->1059->1058->1057->330->26->27->64->65->1858->1859->1860->65->66->2097->2096->2095->66->133->393->1665->1663->1664->1734->1733->1732->1765->1767->1766->1732->1664->393->392->391->133->134->410->1877->1930->1932->1931->1877->1876->1878->410->585->584->583->410->1771->1773->2265->2587->2589->2588->2265->2264->2263->1773->1862->1863->1861->1773->1772->1903->1904->1905->1772->410->676->678->677->410->427->1159->1161->1160->427->428->518->517->519->1239->1238->1237->519->428->777->1972->2654->2653->2655->1972->1974->2034->2889->2887->2888->2034->2032->2033->1974->1973->777->775->776->428->429->410->409->588->586->587->1371->1370->1369->587->409->1585->1586->1587->409->411->134->146->241->499->500->886->887->888->500->501->241->242->1566->1565->1564->242->243->1961->1962->1960->243->146->145->323->324->1259->1258->1260->324->1555->1556->1557->324->909->907->908->324->322->145->1660->1662->1661->145->147->134->135->2825->2826->2824->135->66->27->52->84->263->262->980->979->981->262->1901->1900->2380->2453->2452->2454->2997->2996->2995->2454->2380->2381->2382->1900->1902->262->264->1293->2837->2838->2836->1293->1291->1292->264->303->301->2940->2939->2938->301->1952->2197->2198->2199->1952->1951->1953->301->302->264->84->475->2194->2195->2196->475->476->1537->1538->1539->476->477->1601->2733->2732->2731->1601->1602->1600->477->84->83->82->259->261->452->451->685->686->687->451->453->874->875->876->1359->1358->1666->1668->1667->1358->1357->876->453->2547->2546->2545->453->261->260->82->52->54->293->292->294->2514->2512->2513->294->2897->2896->2898->294->1048->1049->1072->1073->1074->1999->2001->2000->1074->1049->1050->294->54->53->382->383->2954->2953->2955->383->384->1273->1275->1274->384->53->27->454->568->1655->2397->2395->2396->1655->1654->1656->568->570->569->885->884->2690->2691->2689->884->883->569->454->456->1552->1554->1553->456->455->27->0->1->8->1031->1447->1449->2423->2424->2422->1449->1448->1031->1032->2254->2256->2255->1032->1030->8->771->1721->1722->1720->771->769->1029->1027->1028->769->770->2461->2635->2637->2636->2461->2463->2462->770->8->194->941->942->940->194->195->193->1605->1603->2716->2717->2718->1603->1604->193->8->9->183->181->1435->1875->1874->1873->1435->1437->2170->2338->2340->2339->2170->2171->2172->2603->2604->2602->2172->1437->1436->2329->2330->2331->1436->181->466->766->767->768->466->1440->1438->1439->466->467->788->1227->1225->1226->788->789->2313->2312->2311->789->787->467->468->181->182->9->222->2031->2029->2030->222->220->221->969->968->2399->2951->2950->2952->2399->2400->2398->968->967->221->700->1784->1783->1785->700->836->2750->2749->2751->836->2314->2578->2579->2580->2314->2316->2315->836->835->2773->2775->2774->835->837->700->701->1718->1717->1719->701->702->221->9->7->32->2802->2800->2801->32->156->332->333->331->156->2553->2551->2552->156->154->155->646->2821->2822->2823->646->648->647->155->32->31->670->671->672->2005->2006->2007->2904->2902->2903->2937->2936->2935->2903->2007->672->31->2572->2574->2573->31->33->780->779->2332->2334->2333->779->778->2590->2591->2592->778->33->7->1->39->38->325->327->878->879->877->1268->1267->2882->2883->2881->1267->1269->1281->1279->1280->2415->2414->2413->1280->1269->877->327->326->38->37->1802->2455->2457->2456->1802->1803->1801->37->89->88->90->125->929->928->1321->1323->2683->2684->2685->1323->1322->928->930->125->126->234->232->233->463->1106->1350->1349->2392->2393->2394->1349->1348->1106->2508->2506->2507->1106->1976->1975->1977->1106->1105->1107->1782->1780->2286->2285->2359->2361->2973->2971->2972->2361->2360->2285->2284->1780->1781->1107->463->465->2778->2777->2776->465->2494->2495->2496->465->464->233->236->596->595->597->236->961->963->962->236->666->665->664->1250->1251->1249->664->2907->2906->2905->664->236->235->237->404->405->2498->2497->2499->405->403->237->233->126->124->2632->2633->2634->124->542->541->673->1099->1101->1100->673->2223->2566->2567->2612->2611->2613->2567->2568->2223->2221->2222->673->674->675->541->549->813->811->812->815->816->814->1472->1471->1473->814->812->549->547->657->656->976->977->1459->1461->1460->977->978->656->2136->2135->2134->656->655->547->2129->2130->2128->2871->2869->2870->2128->547->851->1907->1906->1908->851->852->2259->2550->2549->2548->2259->2257->2258->852->850->547->1145->1146->1144->2141->2142->2140->1144->547->548->1017->1016->1015->548->833->853->855->1940->2803->2804->2805->1940->1941->1939->855->854->833->834->832->1524->1523->1522->832->548->541->543->895->1506->1505->2022->2020->2021->1505->1504->895->897->896->543->1887->1886->1885->543->124->90->37->759->865->867->866->2217->2216->2215->866->759->758->757->2063->2064->2062->757->805->807->806->757->37->1->92->91->93->1->41->44->58->2370->2368->2369->58->59->1880->1879->1881->59->60->2714->2715->2713->60->44->45->132->319->320->321->132->130->444->443->2180->2179->2181->443->1121->1120->1122->2218->2219->2220->1122->2275->2785->2787->2786->2275->2276->2277->1122->443->442->2118->2116->2117->442->130->131->45->228->804->1256->1255->1395->1394->1393->1255->1257->804->802->803->228->363->1425->1423->1424->2797->2798->2799->1424->363->362->361->228->227->1247->1640->2791->2792->2793->1640->1639->1641->1247->1246->1248->227->226->45->43->289->304->305->306->289->290->291->546->545->1735->1736->1737->2734->2735->2736->1737->545->544->291->1789->1790->1791->2079->2808->2806->2807->2079->2078->2077->1791->291->43->100->1214->1271->1272->1705->1707->1706->1272->1888->1889->1890->1272->1270->1214->1213->1215->100->102->167->407->439->1166->1165->1167->1189->1191->1190->1167->439->1173->1172->1171->439->441->440->407->406->408->167->168->166->102->101->160->2224->2225->2226->160->161->2346->2527->2529->2528->2346->2344->2345->2509->2511->2510->2345->161->162->577->579->578->162->101->43->270->751->752->2885->2884->2886->752->1918->1920->1919->752->753->1441->1870->3000->2998->2999->1870->1871->2966->2965->2967->1871->1872->1441->1443->1442->753->270->268->269->43->41->1020->1018->2438->2437->2439->1018->1019->1709->1710->1708->1019->41->42->40->244->913->915->914->2681->2680->2682->914->244->245->2686->2687->2688->245->246->40->1200->2154->2153->2152->1200->1199->1198->1743->2703->2701->2702->1743->1741->1742->2927->2926->2928->1742->1198->2014->2016->2015->1198->40->1->2->70->198->720->1197->2501->2500->2502->1197->1195->1196->2815->2817->2816->1196->720->719->718->198->197->1989->1987->1988->197->1582->1630->1632->1631->1582->1584->1583->197->196->2099->2098->2100->196->996->995->994->1210->1211->1212->2856->2854->2855->1212->2480->2481->2479->1212->994->196->70->1175->2080->2082->2081->1175->1176->1174->70->1489->1490->1491->70->140->141->310->1530->1528->1529->310->514->515->516->310->311->2291->2292->2900->2899->2901->2292->2290->2721->2719->2720->2290->311->312->512->2460->2459->2458->512->683->684->1689->1688->1687->1841->1840->1842->1687->684->682->797->798->1129->1131->2206->2745->2743->2744->2206->2207->2208->1131->1130->2841->2839->2840->1130->798->1636->1638->1637->798->796->682->512->838->2741->2742->2740->838->1337->1336->1701->2987->2986->2988->1701->1699->1700->1336->1338->838->2844->2842->2843->838->839->2213->2212->2214->839->2037->2036->2035->839->840->512->513->819->2584->2585->2586->819->817->818->2327->2328->2326->818->513->1716->1715->1714->513->1228->1229->1230->2994->2993->2992->1230->513->511->312->141->139->70->71->72->425->424->426->72->370->1756->1757->2890->2891->2892->1757->1758->370->371->1065->1064->1063->371->372->481->1183->1993->1995->1994->1183->1185->1184->481->483->482->372->72->2417->2416->2418->72->2->86->280->336->1304->1303->1305->336->334->335->1111->1113->1112->1499->1512->1510->2959->2960->2961->1510->1511->1499->2362->2363->2364->1499->1498->1500->1588->1822->1823->1824->1588->1589->1950->1948->1949->2434->2435->2436->1949->1589->1590->2753->2754->2752->1590->1500->1112->335->280->281->2520->2519->2518->281->282->349->351->496->497->642->641->1462->2106->2348->2515->2516->2517->2348->2347->2349->2106->2105->2209->2211->2210->2105->2104->1462->1464->1947->1946->1945->1464->1463->641->861->860->927->925->926->1011->1010->1009->1514->1513->1515->1009->926->860->859->1485->1484->1483->2443->2445->2444->1483->859->641->1157->1929->1927->1928->1157->1156->1158->641->640->497->498->1429->1622->1623->1621->1429->1430->1431->498->1894->2694->2692->2693->1894->1896->1895->498->2809->2811->2810->498->351->350->282->86->87->85->2->550->551->668->669->2490->2489->2488->669->667->551->1216->1218->2467->2469->2468->1218->1217->551->552->2->3->34->601->603->1569->1568->1567->603->602->1866->1865->1864->602->34->35->67->69->581->611->1620->1619->1618->611->1433->1434->1432->611->1681->1682->1683->611->610->612->714->712->713->2917->2919->2918->713->612->581->580->2410->2412->2411->2648->2647->2649->2411->580->582->69->487->489->1266->1264->1265->489->1754->2274->2272->2273->1754->1753->1755->489->488->904->2780->2781->2779->904->906->905->1527->1526->1830->1829->1828->1526->1525->905->488->69->698->1543->1545->1544->698->697->699->69->68->35->533->567->982->1868->1867->1869->982->984->983->567->566->565->533->534->532->658->659->1062->2946->2945->2944->1062->1060->1061->1494->1492->1493->1061->659->660->532->35->36->3->10->150->1403->1402->2894->2895->2893->1402->1404->150->149->174->189->856->857->1509->1507->1508->857->858->189->1578->1577->2227->2228->2229->1577->1576->189->187->250->251->1155->1153->1154->251->252->187->188->618->637->901->902->903->637->999->2248->2249->2705->2706->2704->2249->2250->999->997->998->637->638->639->1779->1778->1777->639->618->616->617->188->265->1313->1314->1312->265->267->266->188->174->172->347->348->346->172->173->149->679->680->681->149->148->2446->2447->2448->148->10->14->15->55->112->114->1236->1235->2782->2783->2784->1235->1234->114->113->307->2122->2123->2124->2242->2243->2244->2124->307->606->692->1051->1053->1170->1168->1169->1922->1921->1923->1169->1053->1052->1915->1916->1917->1052->2270->2269->2491->2492->2493->2269->2271->1052->692->2019->2017->2018->692->693->691->1726->1968->1966->1967->2050->2052->2051->1967->1726->1727->2864->2865->2863->1727->1728->691->2252->2253->2251->2384->2383->2385->2251->691->2158->2159->2523->2522->2521->2159->2160->691->606->1089->2656->2658->2657->1089->1088->1087->606->604->619->620->1202->1384->1386->1385->1202->1203->1201->620->621->933->932->931->2144->2164->2166->2165->2144->2145->2143->931->621->604->605->1542->1541->1540->605->1535->1534->1536->605->307->309->308->113->55->56->953->1935->1933->1934->953->954->1126->1730->1731->1729->1126->1127->1128->954->952->56->355->1809->1808->1807->355->357->356->1426->1427->2293->2295->2294->1427->1428->356->56->57->15->2860->2861->2862->15->13->2880->2878->2879->13->315->1319->1320->1740->1739->1738->1320->1318->1659->1658->1657->1965->1963->2091->2089->2090->1963->1964->1657->1318->315->314->313->399->398->397->636->635->745->746->747->635->634->1095->1094->1093->1992->1991->1990->1093->2009->2010->2008->2083->2084->2085->2008->1093->634->397->2039->2040->2038->397->313->13->10->50->430->1301->1302->1909->1911->1910->1302->2486->2485->2487->1302->1300->430->431->2421->2420->2419->431->432->50->2621->2620->2622->50->51->536->537->535->2232->2230->2231->535->51->49->10->29->225->2924->2923->2925->225->2679->2677->2678->225->224->223->2766->2764->2765->223->29->30->316->1047->1046->2978->2977->2979->1046->1277->1276->1278->1046->1045->316->318->1409->2355->2354->2353->1409->1410->1408->318->317->30->1207->1209->1208->30->28->1446->2831->2830->2832->1446->1444->1445->1478->1477->1479->1445->28->10->11->16->2625->2623->2624->16->626->627->625->16->18->22->24->1339->1340->1341->24->23->152->2403->2401->2402->152->153->1150->1891->1892->1893->1150->1151->1241->1240->1242->2321->2322->2320->1242->1151->1413->1412->1411->1151->1152->153->151->199->201->298->755->754->756->2640->2639->2638->756->298->385->490->492->491->385->2536->2537->2538->385->387->436->437->438->387 22028\n"
          ],
          "name": "stdout"
        }
      ]
    },
    {
      "cell_type": "code",
      "metadata": {
        "id": "x8Qtxjmyv8IA"
      },
      "source": [
        ""
      ],
      "execution_count": null,
      "outputs": []
    }
  ]
}