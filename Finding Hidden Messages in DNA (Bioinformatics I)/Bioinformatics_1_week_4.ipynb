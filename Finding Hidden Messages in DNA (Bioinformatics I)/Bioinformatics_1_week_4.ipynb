{
  "nbformat": 4,
  "nbformat_minor": 0,
  "metadata": {
    "colab": {
      "name": "Bioinformatics 1 - week 4.ipynb",
      "provenance": [],
      "collapsed_sections": [],
      "authorship_tag": "ABX9TyOyoE3lAz9byWSYQWq18jzw",
      "include_colab_link": true
    },
    "kernelspec": {
      "name": "python3",
      "display_name": "Python 3"
    }
  },
  "cells": [
    {
      "cell_type": "markdown",
      "metadata": {
        "id": "view-in-github",
        "colab_type": "text"
      },
      "source": [
        "<a href=\"https://colab.research.google.com/github/tlysenko/bionformatics-coursera-sandiego/blob/main/Finding%20Hidden%20Messages%20in%20DNA%20(Bioinformatics%20I)/Bioinformatics_1_week_4.ipynb\" target=\"_parent\"><img src=\"https://colab.research.google.com/assets/colab-badge.svg\" alt=\"Open In Colab\"/></a>"
      ]
    },
    {
      "cell_type": "markdown",
      "metadata": {
        "id": "Ja-N-G4gK1ka"
      },
      "source": [
        "## Importing libraries"
      ]
    },
    {
      "cell_type": "code",
      "metadata": {
        "id": "UiYZmSZhKxA5"
      },
      "source": [
        "import numpy as np\n",
        "from google.colab import files\n",
        "\n",
        "import matplotlib.pyplot as plt"
      ],
      "execution_count": 27,
      "outputs": []
    },
    {
      "cell_type": "markdown",
      "metadata": {
        "id": "J_dz9mtyK4XI"
      },
      "source": [
        "## 1.1 Randomized Motif Search\n",
        "\n",
        "Input: Integers k and t, followed by a collection of strings Dna.\n",
        "\n",
        "Output: A collection BestMotifs resulting from running RandomizedMotifSearch(Dna, k, t) 1,000 times. Remember to use pseudocounts!"
      ]
    },
    {
      "cell_type": "code",
      "metadata": {
        "id": "07PmR_0ZLLBs"
      },
      "source": [
        "# RandomizedMotifSearch(Dna, k, t)\n",
        "#     randomly select k-mers Motifs = (Motif1, …, Motift) in each string from Dna\n",
        "#     BestMotifs ← Motifs\n",
        "#     while forever\n",
        "#         Profile ← Profile(Motifs)\n",
        "#         Motifs ← Motifs(Profile, Dna)\n",
        "#         if Score(Motifs) < Score(BestMotifs)\n",
        "#             BestMotifs ← Motifs\n",
        "#         else\n",
        "#             return BestMotifs"
      ],
      "execution_count": null,
      "outputs": []
    },
    {
      "cell_type": "code",
      "metadata": {
        "id": "qIlXwFrGQWah"
      },
      "source": [
        "def GetScore(Dna):\n",
        "  score = 0\n",
        "  lenLine = len(Dna[0])\n",
        "  lenDna = len(Dna)\n",
        "  for i in range(lenLine):\n",
        "    lst = [line[i] for line in Dna]\n",
        "    lst = ''.join(lst)\n",
        "    d = {'A':lst.count('A'), 'C':lst.count('C'), 'G':lst.count('G'), 'T':lst.count('T')}\n",
        "    maxValue = max(d.values())\n",
        "    score  = score + (lenDna - maxValue)\n",
        "  return score    \n",
        "\n",
        "def GetEntoropyScore(Dna):\n",
        "  def GetEntoropy(line):\n",
        "    sum = 0 \n",
        "    for el in line: \n",
        "      if el !=0:\n",
        "        sum = sum + el*np.log2(el)  \n",
        "    return -sum\n",
        "\n",
        "  profile = CreateProfileMatrixArrayWithPseudocounts(Dna)  \n",
        "  \n",
        "  strLen = len(profile[0])\n",
        "  sumE = 0\n",
        "  for i in range(strLen):\n",
        "    sumE = sumE + GetEntoropy(profile[0:4, i])\n",
        "  return sumE \n",
        "\n",
        "\n",
        "def Pr(motif, profile): \n",
        "  # Returns probability of motif according to profile matrix\n",
        "  dic = {'A':0, 'C':1, 'G':2, 'T':3}\n",
        "  i=0\n",
        "  prob = 1 \n",
        "  for nucl in motif:\n",
        "    prob = prob * profile[dic[nucl]][i]\n",
        "    i=i+1\n",
        "  return prob\n",
        "\n",
        "def CreateProfileMatrixArrayWithPseudocounts(Dna):\n",
        "  #returning np.array profile matrix adding \"1\" to each element of the matrix\n",
        "  l = len(Dna[0])\n",
        "  t = len(Dna)\n",
        "  profileMatrix = np.zeros(shape = (4,l))\n",
        "\n",
        "  for i in range(l):  \n",
        "    lst = [line[i] for line in Dna]\n",
        "    profileMatrix[0][i] = (lst.count('A') + 1) /t\n",
        "    profileMatrix[1][i] = (lst.count('C') + 1) /t\n",
        "    profileMatrix[2][i] = (lst.count('G') + 1) /t\n",
        "    profileMatrix[3][i] = (lst.count('T') + 1) /t    \n",
        "  return profileMatrix\n",
        "\n",
        "\n",
        "def Motifs(profileMatrix, Dna, k):\n",
        "  # returns one most probable k-mer in each line of Dna accoring to give profileMatrix\n",
        "  bestKmersList = []\n",
        "  lenDnaLine = len(Dna[0])-k+1\n",
        "  for line in Dna:\n",
        "    bestProbability = 0\n",
        "    bestKmer = []\n",
        "    for i in range(lenDnaLine):\n",
        "      kmer = line[i:i+k]\n",
        "      newProbability = Pr(kmer, profileMatrix)\n",
        "      if newProbability > bestProbability:\n",
        "        bestProbability = newProbability\n",
        "        bestKmer = kmer[:]\n",
        "    bestKmersList.append(bestKmer)   \n",
        "  return bestKmersList\n",
        "\n",
        "def RandomizedMotifSearch(Dna, k):\n",
        "  strLen = len(Dna[0]) - k + 1 \n",
        "  bestMotifs = []\n",
        "  dna_rand_kmers = []\n",
        "  # Initializing bestMotifs randomly\n",
        "  for line in Dna: \n",
        "      j = np.random.randint(strLen)\n",
        "      dna_rand_kmers.append(line[j:j+k])\n",
        "  bestMotifs = dna_rand_kmers[:]\n",
        "  bestScore = GetEntoropyScore(bestMotifs)\n",
        "\n",
        "  while 3<5:\n",
        "    profileMatrix = CreateProfileMatrixArrayWithPseudocounts(bestMotifs)\n",
        "    newMotifs = Motifs(profileMatrix, Dna, k)\n",
        "    newScore = GetEntoropyScore(newMotifs)\n",
        "    if newScore < bestScore:\n",
        "      bestMotifs = newMotifs[:]\n",
        "      bestScore = newScore\n",
        "    else:\n",
        "      return bestMotifs\n",
        "\n",
        "def RunXtimesRandomizedMotifSearch(Dna, k, x):\n",
        "  bestMotifsX = RandomizedMotifSearch(Dna, k)\n",
        "  bestScoreX = GetEntoropyScore(bestMotifsX)\n",
        "  for i in range(x):\n",
        "    newMotifsX = RandomizedMotifSearch(Dna, k,)\n",
        "    newScoreX = GetEntoropyScore(newMotifsX)\n",
        "    if newScoreX < bestScoreX:\n",
        "      bestScoreX = newScoreX\n",
        "      bestMotifsX = newMotifsX[:]\n",
        "  return bestMotifsX , bestScoreX"
      ],
      "execution_count": 4,
      "outputs": []
    },
    {
      "cell_type": "code",
      "metadata": {
        "colab": {
          "base_uri": "https://localhost:8080/"
        },
        "id": "Te0T0A79i4H6",
        "outputId": "1c3fbc13-505e-45f4-8518-562f81eb59f6"
      },
      "source": [
        "k= 8 \n",
        "t= 5\n",
        "Dna = [\n",
        "'CGCCCCTCTCGGGGGTGTTCAGTAAACGGCCA',\n",
        "'GGGCGAGGTATGTGTAAGTGCCAAGGTGCCAG',\n",
        "'TAGTACCGAGACCGAAAGAAGTATACAGGCGT',\n",
        "'TAGATCAAGTTTCAGGTGCACGTCGGTGAACC',\n",
        "'AATCCACCAGCTCCACGTGCAATGTTGGCCTA' ]\n",
        "\n",
        "target = ['TCTCGGGG',\n",
        "'CCAAGGTG',\n",
        "'TACAGGCG',\n",
        "'TTCAGGTG',\n",
        "'TCCACGTG']\n",
        "\n",
        "np.random.seed(0)\n",
        "RunXtimesRandomizedMotifSearch(Dna, k, x=int(1e3))"
      ],
      "execution_count": 5,
      "outputs": [
        {
          "output_type": "execute_result",
          "data": {
            "text/plain": [
              "(['GTAAACGG', 'GTGTAAGT', 'GTATACAG', 'GTGCACGT', 'GTGCAATG'],\n",
              " 11.775012061618387)"
            ]
          },
          "metadata": {
            "tags": []
          },
          "execution_count": 5
        }
      ]
    },
    {
      "cell_type": "code",
      "metadata": {
        "colab": {
          "base_uri": "https://localhost:8080/"
        },
        "id": "EXi91ZHk9Pxn",
        "outputId": "7a1e5da4-c441-49a3-90ba-0f627d835298"
      },
      "source": [
        "GetEntoropyScore(target)"
      ],
      "execution_count": 6,
      "outputs": [
        {
          "output_type": "execute_result",
          "data": {
            "text/plain": [
              "11.866070279985156"
            ]
          },
          "metadata": {
            "tags": []
          },
          "execution_count": 6
        }
      ]
    },
    {
      "cell_type": "markdown",
      "metadata": {
        "id": "KIor1MIry5_q"
      },
      "source": [
        "### Stepik submission"
      ]
    },
    {
      "cell_type": "code",
      "metadata": {
        "colab": {
          "resources": {
            "http://localhost:8080/nbextensions/google.colab/files.js": {
              "data": "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",
              "ok": true,
              "headers": [
                [
                  "content-type",
                  "application/javascript"
                ]
              ],
              "status": 200,
              "status_text": ""
            }
          },
          "base_uri": "https://localhost:8080/",
          "height": 89
        },
        "id": "x0mP9YxBmoli",
        "outputId": "a5234888-4433-4fbe-fd9a-d50929817c02"
      },
      "source": [
        "uploaded = files.upload()\n",
        "\n",
        "for fn in uploaded.keys():\n",
        "  print('User uploaded file \"{name}\" with length {length} bytes'.format(\n",
        "      name=fn, length=len(uploaded[fn])))"
      ],
      "execution_count": 159,
      "outputs": [
        {
          "output_type": "display_data",
          "data": {
            "text/html": [
              "\n",
              "     <input type=\"file\" id=\"files-adec5c1b-cfcb-423f-a4f0-062243f4a625\" name=\"files[]\" multiple disabled\n",
              "        style=\"border:none\" />\n",
              "     <output id=\"result-adec5c1b-cfcb-423f-a4f0-062243f4a625\">\n",
              "      Upload widget is only available when the cell has been executed in the\n",
              "      current browser session. Please rerun this cell to enable.\n",
              "      </output>\n",
              "      <script src=\"/nbextensions/google.colab/files.js\"></script> "
            ],
            "text/plain": [
              "<IPython.core.display.HTML object>"
            ]
          },
          "metadata": {
            "tags": []
          }
        },
        {
          "output_type": "stream",
          "text": [
            "Saving dataset_161_5-2.txt to dataset_161_5-2.txt\n",
            "User uploaded file \"dataset_161_5-2.txt\" with length 4046 bytes\n"
          ],
          "name": "stdout"
        }
      ]
    },
    {
      "cell_type": "code",
      "metadata": {
        "id": "9guD_Nl53-Dr"
      },
      "source": [
        "with open(fn) as f:\n",
        "  kt = f.readline().split('\\n')[0].split(' ')\n",
        "  k = int(kt[0])\n",
        "  t = int(kt[1])\n",
        "  Dna = f.readlines()\n",
        "\n",
        "Dna = [line.split('\\n')[0] for line in Dna]"
      ],
      "execution_count": 160,
      "outputs": []
    },
    {
      "cell_type": "code",
      "metadata": {
        "colab": {
          "base_uri": "https://localhost:8080/"
        },
        "id": "YZ499cbd6XRn",
        "outputId": "5888d423-9278-4e88-ccb6-f5605859e74e"
      },
      "source": [
        "k"
      ],
      "execution_count": 106,
      "outputs": [
        {
          "output_type": "execute_result",
          "data": {
            "text/plain": [
              "15"
            ]
          },
          "metadata": {
            "tags": []
          },
          "execution_count": 106
        }
      ]
    },
    {
      "cell_type": "code",
      "metadata": {
        "colab": {
          "base_uri": "https://localhost:8080/"
        },
        "id": "vwQAQLNE6X7r",
        "outputId": "d8c27783-6a95-4eaa-c27a-9984ee9c01d6"
      },
      "source": [
        "t"
      ],
      "execution_count": 107,
      "outputs": [
        {
          "output_type": "execute_result",
          "data": {
            "text/plain": [
              "20"
            ]
          },
          "metadata": {
            "tags": []
          },
          "execution_count": 107
        }
      ]
    },
    {
      "cell_type": "code",
      "metadata": {
        "colab": {
          "base_uri": "https://localhost:8080/"
        },
        "id": "5i-UgbJ36Yd1",
        "outputId": "4fffc5c0-951c-4da0-a833-ee0665584933"
      },
      "source": [
        "Dna"
      ],
      "execution_count": 108,
      "outputs": [
        {
          "output_type": "execute_result",
          "data": {
            "text/plain": [
              "['ACGAGACGAATCAGTATAAAGGTACCGCGACACCTTACCGTCGCGTTATATTCAAGCGGTTCCCCCGTGGATGTTGCCCGTGGAGCCATCATTTAGGCTGTGTCTGCATGTTCCGTAGCGAGATCCTTGTCGATCGAATCTTTATAATAATGCCACGAGACGAATCAGT',\n",
              " 'ATAAACTAAACTTCCTATTGGGTACCGCGACACCTTACCGTCGCGTTATATTCAAGCGGTTCCCCCGTGGATGTTGCCCGTGGAGCCATCATTTAGGCTGTGTCTGCATGTTCCGTAGCGAGATCCTTGTCGATCGAATCTTTATAATAATGCCACGAGACGAATCAGT',\n",
              " 'ACCGATCCAGCGGCTCCGTTAATTAACCAATCTCAATGAGTGCATGCCAAATTTTAACGTACAGATATTTATGATTGCGTTGGCATCGCGACTAATCTAGCAGCCTGGTGTTCAAAACTACACATCCTATTGAGAAAAATGGCTTTGCAGGAGCGAATCGAGTTAACCC',\n",
              " 'CAGAGACACAAGATCTGCCGGCTACGTTTCCACGTGCACTTGCTACCCATTCCAAGCGGAAGTTACGTCTGATGGCTACATTCCGACTCTGCGCTCTGCCACTACGGTTATCCTGCTAGTAAAACACGGTACTTTCCACCCGACCATAATATTATAGAGTTCGTCCACT',\n",
              " 'CTAACCAGGAAAACACTATGAATCTGGTGCACTCTTATTGCGAAATGAGAGGATCTCATCGTCGTGGTCAGCCAGTACTCGAAACGAATGGCTGGTAGCCGAATGCACACAGGCACACGTCTGCTTCTCTAGGCAATGACCCTAATAATGCGCTACGGAGCCTATTGGG',\n",
              " 'AGTTGCTGAATAGAGTGCTCATAACGTTCCTACAACGAATCATCAGAGCTTCGGTTGCACCGATAATACCTGTGCGGAAGAGCGCCATTAGCACCGTGTGGTTCATTAATATTGCCTGTGTGGTCCATTTGAAGCGCGCCTCTTGAAGCTCAACTACGTCGTCTATTGC',\n",
              " 'GACGACGGAAATTCGACGCCTGCCAAAAAAATCCGCCATGCTTTCTTGAATTAAGCAGCCCCTCTATCACCATGTATTAAGTGTACGTTTCCTATGATAGGCCCCCATGGAAAATCAGATCCAGAGAGTCATCGTAAGACGGAATCCGTCGACGTATTGTGACTCTGCT',\n",
              " 'AAAGGGACCGTACGAGACATTACGGCTAGTTTTTCGGATCAATTAGAGGCAGTCCTTTGATAGTGGGTTGAAAGATTTCGAGCTTTTTAGTTTGCAATTTACTGAGACTACGTTTTACATTGAACTCTTTTCATCAACAGGAGAGGGTCTCGCACAGCTCAAACTTGTC',\n",
              " 'TTTCACGTAATCGTCATTAGATAGACTTAAGCGAGTGAAACTACCCTCCTTGGAACAGGACCCTGCTCCGGTATCAGCATATCGTCCATTCGGTCATAGAGGTCGCCCGACATTGTGCGCTGTTTCCTATTGTGTTCTCCGTTTGGAGGCTTAACTTGCCCTATTGCGG',\n",
              " 'CCGACCGACCACTGTCCGTTAGCTGAGCACCTGAGTAGCGCACAGAGAAGATAAGGATCGCAGCCCCTCCGGAAAGCTACGTTTCCTAACTAGTTGATTACGCGGAAACAACTGCTCCGTGTGGTGTTGAGGTCTTAGCGAATACTCAACGAGGAACGTGCGCGAGGGT',\n",
              " 'TTCATCTTTAATAGTTTAAGATTAGTGGAGGGTCAAGATGTCTCCTCCGAGTGTAGTGCGTTCAGTCCGGTTGAGAACCCCTCACTGGGAAACATAAGGGGGGCCCATACGATCTACGTTTCTGCTTGATTTTCAGATGACTCTAGCCCGGCCGCCTTATGTCTAGCTA',\n",
              " 'TGGAATTCCGCGACTAACCTGCATGTTCATTCTGGGCCATCATGTCGAAGTCGCCTACAAGGGTGTGAGGCAGGAAGCACGTTACTACGTTTCCTGAAGTGTTCAAAGCAACATGTGGCGCCCGGGTATGCATCCCGTAATCTCTCGTTAGGGTCCTATTGGTGAGACC',\n",
              " 'GGTGAGAAGATGCGTAGAGACGTAGTTCCGCAACCCGTGAGTCCGATGACAAAGACGCCCATGATTAAGGAAAACTGTCGACGGATCACTTTATTTGATTGCGGGCCTGTTCTCTATTTCCTATTGGGCTAGTTCCTGCATGTACCCAGAAACCGAACAGGACGTGAAT',\n",
              " 'AATTGTTAAAGAGGTGCCTAGTTTTATGAAGCCCGTCGAAGCATGCATCTGCTGTTCACGGTACACGGGTGTGACTTAGCTACTAGTCCTATTGCTCTCAAGACCCTACCTACTTTGTTCGAAGTGGTCAGGGGCCCGAGCATGACGAATCTCTTAGCATGTTCCAATC',\n",
              " 'CAAGCTTTGTCCAGTCGCCTGAAGATGCGTATGATAAGGGGTAGAGCTTGTCTTGTCTAGGCAGAAGAGACGGCTACAAAGCGTAGAATCTTCAGGTAAAATCCTTCGTAGACGCCCGTCACGTTTCCTATTAGGGTCGTATAACGGACTTAGGGCCTCCATATTGACA',\n",
              " 'CTCACCAACCCCTGAAGTGCCGCGCAAAATCGTTATCGACCCGTTTCCTATTGAATTTTAGAGCGCAAAAGGCTGGCTGCGATCGACTGGGCCAACTGTTAGATCACTTGGTCGACGGTACGAGTGCGCGCGTGTTGCGTCCCCTATTCACAAGAGATACCGTGATTAT',\n",
              " 'CTCTTAGTCTCTGAGCCTAGAGGATGGCTGTCTTCGATCATTAACATAATGGAACAGCCAAACTACGTGGGCTATTGCGGCTGCTCATGTATCAGAGTGCAACGCAAAAGTAAGCGATGAGTACCTCGTTCACCGCCACGCTTGAGTAAATTAATCGCGGCTCACGTAC',\n",
              " 'TACAAGATTACTACGTTAGTTATTGATCCAATGGCGTGGGCGCGAGATAGCGAGGTAGGACCCGGTTTGCAGGCGCGGTTGAACGTTTTTCCCCTCGCACCGATGTAACAGATTTAACGCGAGTTCAAGCACGTTCCTAGCTTCTAGCTACGGTATATGCCATCACAAT',\n",
              " 'GGTATATGTTTTTAATTGATACGTTCTGAAATATCTCTCCCCTATCATTCCTATTGGATCAGCTTTATCGGGGACAGTAACTTAGACAGGCCACACTGGCAATCTCTCGAATTGCGAGCCCGGTGTCCGCCCCTGACTTTATATGGTTCGACAGCGAGTGCCTCCTCAG',\n",
              " 'AATTGTTTAAAAATACGCGGCTGACCTCCATTTTCAGATTCTCAATTTCCATGCTCAAAGTTCCCGGCCCCTGTACTCATCGCATGTTTTCCGCCTCTCGAAGGGTTGAGCGTCGCCGACTAGTGAGTGCTTTCTTTGGTCTCAGCTACGCGCCCTATTGCCGTGGCCT']"
            ]
          },
          "metadata": {
            "tags": []
          },
          "execution_count": 108
        }
      ]
    },
    {
      "cell_type": "code",
      "metadata": {
        "id": "WAVVdyA73yua"
      },
      "source": [
        "result = RunXtimesRandomizedMotifSearch(Dna, k, x=int(1e3))"
      ],
      "execution_count": 161,
      "outputs": []
    },
    {
      "cell_type": "code",
      "metadata": {
        "colab": {
          "base_uri": "https://localhost:8080/"
        },
        "id": "Piug9GHF3yrx",
        "outputId": "34eae1ab-6f50-4ed0-9158-e487630c0e5a"
      },
      "source": [
        "for line in result[0]:\n",
        "  print(line)"
      ],
      "execution_count": 163,
      "outputs": [
        {
          "output_type": "stream",
          "text": [
            "CTTATAGCGAACTCA\n",
            "ATTGGGGTGAGTGAG\n",
            "CTTATAGTGAGTGGC\n",
            "ATTATAGTCCATGAG\n",
            "ATTACTATGAGTGAG\n",
            "ACATTAGTGAGTGAG\n",
            "CGAATAGTGAGTGAG\n",
            "ATTATAGTGAGCTGG\n",
            "ATTATACCCAGTGAG\n",
            "ATTATAGTGAGTATC\n",
            "ATTATATATAGTGAG\n",
            "ATTATGTCGAGTGAG\n",
            "ATTATAGATCGTGAG\n",
            "ATACGAGTGAGTGAG\n",
            "CCTATAGTGAGTGAT\n",
            "ATTATAGTGAACTAG\n",
            "ATTATCTAGAGTGAG\n",
            "ATTATAGTGTTGGAG\n",
            "ATTGGGGTGAGTGAG\n",
            "ATTAGGTTGAGTGAG\n"
          ],
          "name": "stdout"
        }
      ]
    },
    {
      "cell_type": "markdown",
      "metadata": {
        "id": "AXbBrCNmhdnJ"
      },
      "source": [
        "## 1.3 Gibbs Sampling\n",
        "\n",
        "Input: Integers k, t, and N, followed by a collection of strings Dna.\n",
        "\n",
        "Output: The strings BestMotifs resulting from running GibbsSampler(Dna, k, t, N) with 20 random starts. Remember to use pseudocounts!"
      ]
    },
    {
      "cell_type": "code",
      "metadata": {
        "id": "a5MjMuL-haiQ"
      },
      "source": [
        "# GibbsSampler(Dna, k, t, N)\n",
        "#     randomly select k-mers Motifs = (Motif1, …, Motift) in each string from Dna\n",
        "#     BestMotifs ← Motifs\n",
        "#     for j ← 1 to N\n",
        "#         i ← Random(t)\n",
        "#         Profile ← profile matrix constructed from all strings in Motifs except for Motifi\n",
        "#         Motifi ← Profile-randomly generated k-mer in the i-th sequence\n",
        "#         if Score(Motifs) < Score(BestMotifs)\n",
        "#             BestMotifs ← Motifs\n",
        "#     return BestMotifs"
      ],
      "execution_count": null,
      "outputs": []
    },
    {
      "cell_type": "code",
      "metadata": {
        "id": "r3izKKxdlAxw"
      },
      "source": [
        "def GetEntoropy(line):\n",
        "  sum = 0 \n",
        "  for el in line: \n",
        "    if el !=0:\n",
        "      sum = sum + el*np.log2(el)  \n",
        "  return -sum\n",
        "\n",
        "def GetEntoropyScore(Dna):\n",
        "\n",
        "  profile = CreateProfileMatrixArrayWithPseudocounts(Dna)  \n",
        "  \n",
        "  strLen = len(profile[0])\n",
        "  sumE = 0\n",
        "  for i in range(strLen):\n",
        "    sumE = sumE + GetEntoropy(profile[0:4, i])\n",
        "  return sumE \n",
        "\n",
        "\n",
        "def Pr(motif, profile): \n",
        "  # Returns probability of motif according to profile matrix\n",
        "  dic = {'A':0, 'C':1, 'G':2, 'T':3}\n",
        "  i=0\n",
        "  prob = 1 \n",
        "  for nucl in motif:\n",
        "    prob = prob * profile[dic[nucl]][i]\n",
        "    i=i+1\n",
        "  return prob\n",
        "\n",
        "\n",
        "def CreateProfileMatrixArrayWithPseudocounts(Dna):\n",
        "  #returning np.array profile matrix adding \"1\" to each element of the matrix\n",
        "  l = len(Dna[0])\n",
        "  t = len(Dna)\n",
        "  profileMatrix = np.zeros(shape = (4,l))\n",
        "\n",
        "  for i in range(l):  \n",
        "    lst = [line[i] for line in Dna]\n",
        "    profileMatrix[0][i] = (lst.count('A') + 1) /t\n",
        "    profileMatrix[1][i] = (lst.count('C') + 1) /t\n",
        "    profileMatrix[2][i] = (lst.count('G') + 1) /t\n",
        "    profileMatrix[3][i] = (lst.count('T') + 1) /t    \n",
        "  return profileMatrix\n",
        "\n",
        "def RandomGenerator(prob_distribution):\n",
        "  #returns integer i with probability pi\n",
        "  C = np.sum(prob_distribution)\n",
        "  prob = [p/C for p in prob_distribution]\n",
        "  return np.random.choice(np.arange(0, len(prob)), p=prob)\n",
        "\n",
        "\n",
        "def KmerGeneratedRandomly(profile, lineDna):\n",
        "  # Profile-randomly generated k-mer in the i-th sequence\n",
        "  # For each k-mer Pattern in Text, compute the probability Pr(Pattern | Profile), \n",
        "  # resulting in n = |Text| - k + 1 probabilities (p1, …, pn).\n",
        "\n",
        "  lenLine = len(lineDna) - k + 1\n",
        "  probsDistribution = []\n",
        "\n",
        "  for i in range(lenLine):\n",
        "    motif = lineDna[i:i+k]\n",
        "    probsDistribution.append(Pr(motif, profile))\n",
        "  j = RandomGenerator(probsDistribution)\n",
        "  randomKmer = lineDna[j:j+k]\n",
        "  return randomKmer\n",
        "\n",
        "\n",
        "def GibbsSampler(Dna, k, N):\n",
        "\n",
        "  strLen = len(Dna[0]) - k + 1 \n",
        "  bestMotifs = []\n",
        "  motifs = []\n",
        "  t = len(Dna)\n",
        "  # Initializing bestMotifs randomly\n",
        "  for line in Dna: \n",
        "      r = np.random.randint(strLen)\n",
        "      motifs.append(line[r:r+k])\n",
        "  bestMotifs = motifs[:]\n",
        "  bestScore = GetEntoropyScore(bestMotifs)\n",
        "  \n",
        "  scoresLST = []\n",
        "  scoresLST.append(bestScore)\n",
        "  for j in range(N):\n",
        "    i = np.random.randint(t)\n",
        "    motifs.pop(i)\n",
        "    profile = CreateProfileMatrixArrayWithPseudocounts(motifs)\n",
        "    motif_i= KmerGeneratedRandomly(profile, Dna[i])\n",
        "    motifs.insert(i, motif_i)\n",
        "    newScore = GetEntoropyScore(motifs)\n",
        " \n",
        "    if newScore  < bestScore:\n",
        "      bestMotifs = motifs\n",
        "      bestScore = newScore\n",
        "      scoresLST.append(bestScore)\n",
        "  return bestMotifs \n",
        "\n",
        "def XtimesGibbsSampler(Dna, k, N, x):\n",
        "  bestSample = GibbsSampler(Dna, k, N)\n",
        "  bestScore = GetEntoropyScore(bestSample)\n",
        "\n",
        "  for i in range(x):\n",
        "    sample = GibbsSampler(Dna, k, N)\n",
        "    score = GetEntoropyScore(sample)\n",
        "    if score < bestScore:\n",
        "      score = bestScore\n",
        "      bestSample = sample[:]\n",
        "  return bestSample, bestScore"
      ],
      "execution_count": 269,
      "outputs": []
    },
    {
      "cell_type": "code",
      "metadata": {
        "colab": {
          "base_uri": "https://localhost:8080/"
        },
        "id": "YRdSwBIDkNGk",
        "outputId": "b7518e1e-89b1-4450-d860-41309ba6a046"
      },
      "source": [
        "k = 8 \n",
        "t = 5 \n",
        "N = 100\n",
        "Dna = ['CGCCCCTCTCGGGGGTGTTCAGTAACCGGCCA',\n",
        "       'GGGCGAGGTATGTGTAAGTGCCAAGGTGCCAG',\n",
        "       'TAGTACCGAGACCGAAAGAAGTATACAGGCGT',\n",
        "       'TAGATCAAGTTTCAGGTGCACGTCGGTGAACC',\n",
        "       'AATCCACCAGCTCCACGTGCAATGTTGGCCTA']\n",
        "\n",
        "target = ['TCTCGGGG',\n",
        "          'CCAAGGTG',\n",
        "          'TACAGGCG',\n",
        "          'TTCAGGTG',\n",
        "          'TCCACGTG']\n",
        "\n",
        "candidate, scores = XtimesGibbsSampler(Dna, k, N, x=20)\n",
        "candidate, scores"
      ],
      "execution_count": 271,
      "outputs": [
        {
          "output_type": "execute_result",
          "data": {
            "text/plain": [
              "(['TCTCGGGG', 'CCAAGGTG', 'ATACAGGC', 'TCAGGTGC', 'CCACGTGC'],\n",
              " 13.35503896759641)"
            ]
          },
          "metadata": {
            "tags": []
          },
          "execution_count": 271
        }
      ]
    },
    {
      "cell_type": "code",
      "metadata": {
        "colab": {
          "base_uri": "https://localhost:8080/"
        },
        "id": "uMU0voHIi_jt",
        "outputId": "eb56aae0-8710-4225-8eb9-9394d1d028c0"
      },
      "source": [
        "GetEntoropyScore(candidate), GetEntoropyScore(target)"
      ],
      "execution_count": 272,
      "outputs": [
        {
          "output_type": "execute_result",
          "data": {
            "text/plain": [
              "(12.744142185097793, 11.866070279985156)"
            ]
          },
          "metadata": {
            "tags": []
          },
          "execution_count": 272
        }
      ]
    },
    {
      "cell_type": "markdown",
      "metadata": {
        "id": "yqH-NnAVG-O8"
      },
      "source": [
        "### Stepik submission"
      ]
    },
    {
      "cell_type": "code",
      "metadata": {
        "colab": {
          "resources": {
            "http://localhost:8080/nbextensions/google.colab/files.js": {
              "data": "Ly8gQ29weXJpZ2h0IDIwMTcgR29vZ2xlIExMQwovLwovLyBMaWNlbnNlZCB1bmRlciB0aGUgQXBhY2hlIExpY2Vuc2UsIFZlcnNpb24gMi4wICh0aGUgIkxpY2Vuc2UiKTsKLy8geW91IG1heSBub3QgdXNlIHRoaXMgZmlsZSBleGNlcHQgaW4gY29tcGxpYW5jZSB3aXRoIHRoZSBMaWNlbnNlLgovLyBZb3UgbWF5IG9idGFpbiBhIGNvcHkgb2YgdGhlIExpY2Vuc2UgYXQKLy8KLy8gICAgICBodHRwOi8vd3d3LmFwYWNoZS5vcmcvbGljZW5zZXMvTElDRU5TRS0yLjAKLy8KLy8gVW5sZXNzIHJlcXVpcmVkIGJ5IGFwcGxpY2FibGUgbGF3IG9yIGFncmVlZCB0byBpbiB3cml0aW5nLCBzb2Z0d2FyZQovLyBkaXN0cmlidXRlZCB1bmRlciB0aGUgTGljZW5zZSBpcyBkaXN0cmlidXRlZCBvbiBhbiAiQVMgSVMiIEJBU0lTLAovLyBXSVRIT1VUIFdBUlJBTlRJRVMgT1IgQ09ORElUSU9OUyBPRiBBTlkgS0lORCwgZWl0aGVyIGV4cHJlc3Mgb3IgaW1wbGllZC4KLy8gU2VlIHRoZSBMaWNlbnNlIGZvciB0aGUgc3BlY2lmaWMgbGFuZ3VhZ2UgZ292ZXJuaW5nIHBlcm1pc3Npb25zIGFuZAovLyBsaW1pdGF0aW9ucyB1bmRlciB0aGUgTGljZW5zZS4KCi8qKgogKiBAZmlsZW92ZXJ2aWV3IEhlbHBlcnMgZm9yIGdvb2dsZS5jb2xhYiBQeXRob24gbW9kdWxlLgogKi8KKGZ1bmN0aW9uKHNjb3BlKSB7CmZ1bmN0aW9uIHNwYW4odGV4dCwgc3R5bGVBdHRyaWJ1dGVzID0ge30pIHsKICBjb25zdCBlbGVtZW50ID0gZG9jdW1lbnQuY3JlYXRlRWxlbWVudCgnc3BhbicpOwogIGVsZW1lbnQudGV4dENvbnRlbnQgPSB0ZXh0OwogIGZvciAoY29uc3Qga2V5IG9mIE9iamVjdC5rZXlzKHN0eWxlQXR0cmlidXRlcykpIHsKICAgIGVsZW1lbnQuc3R5bGVba2V5XSA9IHN0eWxlQXR0cmlidXRlc1trZXldOwogIH0KICByZXR1cm4gZWxlbWVudDsKfQoKLy8gTWF4IG51bWJlciBvZiBieXRlcyB3aGljaCB3aWxsIGJlIHVwbG9hZGVkIGF0IGEgdGltZS4KY29uc3QgTUFYX1BBWUxPQURfU0laRSA9IDEwMCAqIDEwMjQ7CgpmdW5jdGlvbiBfdXBsb2FkRmlsZXMoaW5wdXRJZCwgb3V0cHV0SWQpIHsKICBjb25zdCBzdGVwcyA9IHVwbG9hZEZpbGVzU3RlcChpbnB1dElkLCBvdXRwdXRJZCk7CiAgY29uc3Qgb3V0cHV0RWxlbWVudCA9IGRvY3VtZW50LmdldEVsZW1lbnRCeUlkKG91dHB1dElkKTsKICAvLyBDYWNoZSBzdGVwcyBvbiB0aGUgb3V0cHV0RWxlbWVudCB0byBtYWtlIGl0IGF2YWlsYWJsZSBmb3IgdGhlIG5leHQgY2FsbAogIC8vIHRvIHVwbG9hZEZpbGVzQ29udGludWUgZnJvbSBQeXRob24uCiAgb3V0cHV0RWxlbWVudC5zdGVwcyA9IHN0ZXBzOwoKICByZXR1cm4gX3VwbG9hZEZpbGVzQ29udGludWUob3V0cHV0SWQpOwp9CgovLyBUaGlzIGlzIHJvdWdobHkgYW4gYXN5bmMgZ2VuZXJhdG9yIChub3Qgc3VwcG9ydGVkIGluIHRoZSBicm93c2VyIHlldCksCi8vIHdoZXJlIHRoZXJlIGFyZSBtdWx0aXBsZSBhc3luY2hyb25vdXMgc3RlcHMgYW5kIHRoZSBQeXRob24gc2lkZSBpcyBnb2luZwovLyB0byBwb2xsIGZvciBjb21wbGV0aW9uIG9mIGVhY2ggc3RlcC4KLy8gVGhpcyB1c2VzIGEgUHJvbWlzZSB0byBibG9jayB0aGUgcHl0aG9uIHNpZGUgb24gY29tcGxldGlvbiBvZiBlYWNoIHN0ZXAsCi8vIHRoZW4gcGFzc2VzIHRoZSByZXN1bHQgb2YgdGhlIHByZXZpb3VzIHN0ZXAgYXMgdGhlIGlucHV0IHRvIHRoZSBuZXh0IHN0ZXAuCmZ1bmN0aW9uIF91cGxvYWRGaWxlc0NvbnRpbnVlKG91dHB1dElkKSB7CiAgY29uc3Qgb3V0cHV0RWxlbWVudCA9IGRvY3VtZW50LmdldEVsZW1lbnRCeUlkKG91dHB1dElkKTsKICBjb25zdCBzdGVwcyA9IG91dHB1dEVsZW1lbnQuc3RlcHM7CgogIGNvbnN0IG5leHQgPSBzdGVwcy5uZXh0KG91dHB1dEVsZW1lbnQubGFzdFByb21pc2VWYWx1ZSk7CiAgcmV0dXJuIFByb21pc2UucmVzb2x2ZShuZXh0LnZhbHVlLnByb21pc2UpLnRoZW4oKHZhbHVlKSA9PiB7CiAgICAvLyBDYWNoZSB0aGUgbGFzdCBwcm9taXNlIHZhbHVlIHRvIG1ha2UgaXQgYXZhaWxhYmxlIHRvIHRoZSBuZXh0CiAgICAvLyBzdGVwIG9mIHRoZSBnZW5lcmF0b3IuCiAgICBvdXRwdXRFbGVtZW50Lmxhc3RQcm9taXNlVmFsdWUgPSB2YWx1ZTsKICAgIHJldHVybiBuZXh0LnZhbHVlLnJlc3BvbnNlOwogIH0pOwp9CgovKioKICogR2VuZXJhdG9yIGZ1bmN0aW9uIHdoaWNoIGlzIGNhbGxlZCBiZXR3ZWVuIGVhY2ggYXN5bmMgc3RlcCBvZiB0aGUgdXBsb2FkCiAqIHByb2Nlc3MuCiAqIEBwYXJhbSB7c3RyaW5nfSBpbnB1dElkIEVsZW1lbnQgSUQgb2YgdGhlIGlucHV0IGZpbGUgcGlja2VyIGVsZW1lbnQuCiAqIEBwYXJhbSB7c3RyaW5nfSBvdXRwdXRJZCBFbGVtZW50IElEIG9mIHRoZSBvdXRwdXQgZGlzcGxheS4KICogQHJldHVybiB7IUl0ZXJhYmxlPCFPYmplY3Q+fSBJdGVyYWJsZSBvZiBuZXh0IHN0ZXBzLgogKi8KZnVuY3Rpb24qIHVwbG9hZEZpbGVzU3RlcChpbnB1dElkLCBvdXRwdXRJZCkgewogIGNvbnN0IGlucHV0RWxlbWVudCA9IGRvY3VtZW50LmdldEVsZW1lbnRCeUlkKGlucHV0SWQpOwogIGlucHV0RWxlbWVudC5kaXNhYmxlZCA9IGZhbHNlOwoKICBjb25zdCBvdXRwdXRFbGVtZW50ID0gZG9jdW1lbnQuZ2V0RWxlbWVudEJ5SWQob3V0cHV0SWQpOwogIG91dHB1dEVsZW1lbnQuaW5uZXJIVE1MID0gJyc7CgogIGNvbnN0IHBpY2tlZFByb21pc2UgPSBuZXcgUHJvbWlzZSgocmVzb2x2ZSkgPT4gewogICAgaW5wdXRFbGVtZW50LmFkZEV2ZW50TGlzdGVuZXIoJ2NoYW5nZScsIChlKSA9PiB7CiAgICAgIHJlc29sdmUoZS50YXJnZXQuZmlsZXMpOwogICAgfSk7CiAgfSk7CgogIGNvbnN0IGNhbmNlbCA9IGRvY3VtZW50LmNyZWF0ZUVsZW1lbnQoJ2J1dHRvbicpOwogIGlucHV0RWxlbWVudC5wYXJlbnRFbGVtZW50LmFwcGVuZENoaWxkKGNhbmNlbCk7CiAgY2FuY2VsLnRleHRDb250ZW50ID0gJ0NhbmNlbCB1cGxvYWQnOwogIGNvbnN0IGNhbmNlbFByb21pc2UgPSBuZXcgUHJvbWlzZSgocmVzb2x2ZSkgPT4gewogICAgY2FuY2VsLm9uY2xpY2sgPSAoKSA9PiB7CiAgICAgIHJlc29sdmUobnVsbCk7CiAgICB9OwogIH0pOwoKICAvLyBXYWl0IGZvciB0aGUgdXNlciB0byBwaWNrIHRoZSBmaWxlcy4KICBjb25zdCBmaWxlcyA9IHlpZWxkIHsKICAgIHByb21pc2U6IFByb21pc2UucmFjZShbcGlja2VkUHJvbWlzZSwgY2FuY2VsUHJvbWlzZV0pLAogICAgcmVzcG9uc2U6IHsKICAgICAgYWN0aW9uOiAnc3RhcnRpbmcnLAogICAgfQogIH07CgogIGNhbmNlbC5yZW1vdmUoKTsKCiAgLy8gRGlzYWJsZSB0aGUgaW5wdXQgZWxlbWVudCBzaW5jZSBmdXJ0aGVyIHBpY2tzIGFyZSBub3QgYWxsb3dlZC4KICBpbnB1dEVsZW1lbnQuZGlzYWJsZWQgPSB0cnVlOwoKICBpZiAoIWZpbGVzKSB7CiAgICByZXR1cm4gewogICAgICByZXNwb25zZTogewogICAgICAgIGFjdGlvbjogJ2NvbXBsZXRlJywKICAgICAgfQogICAgfTsKICB9CgogIGZvciAoY29uc3QgZmlsZSBvZiBmaWxlcykgewogICAgY29uc3QgbGkgPSBkb2N1bWVudC5jcmVhdGVFbGVtZW50KCdsaScpOwogICAgbGkuYXBwZW5kKHNwYW4oZmlsZS5uYW1lLCB7Zm9udFdlaWdodDogJ2JvbGQnfSkpOwogICAgbGkuYXBwZW5kKHNwYW4oCiAgICAgICAgYCgke2ZpbGUudHlwZSB8fCAnbi9hJ30pIC0gJHtmaWxlLnNpemV9IGJ5dGVzLCBgICsKICAgICAgICBgbGFzdCBtb2RpZmllZDogJHsKICAgICAgICAgICAgZmlsZS5sYXN0TW9kaWZpZWREYXRlID8gZmlsZS5sYXN0TW9kaWZpZWREYXRlLnRvTG9jYWxlRGF0ZVN0cmluZygpIDoKICAgICAgICAgICAgICAgICAgICAgICAgICAgICAgICAgICAgJ24vYSd9IC0gYCkpOwogICAgY29uc3QgcGVyY2VudCA9IHNwYW4oJzAlIGRvbmUnKTsKICAgIGxpLmFwcGVuZENoaWxkKHBlcmNlbnQpOwoKICAgIG91dHB1dEVsZW1lbnQuYXBwZW5kQ2hpbGQobGkpOwoKICAgIGNvbnN0IGZpbGVEYXRhUHJvbWlzZSA9IG5ldyBQcm9taXNlKChyZXNvbHZlKSA9PiB7CiAgICAgIGNvbnN0IHJlYWRlciA9IG5ldyBGaWxlUmVhZGVyKCk7CiAgICAgIHJlYWRlci5vbmxvYWQgPSAoZSkgPT4gewogICAgICAgIHJlc29sdmUoZS50YXJnZXQucmVzdWx0KTsKICAgICAgfTsKICAgICAgcmVhZGVyLnJlYWRBc0FycmF5QnVmZmVyKGZpbGUpOwogICAgfSk7CiAgICAvLyBXYWl0IGZvciB0aGUgZGF0YSB0byBiZSByZWFkeS4KICAgIGxldCBmaWxlRGF0YSA9IHlpZWxkIHsKICAgICAgcHJvbWlzZTogZmlsZURhdGFQcm9taXNlLAogICAgICByZXNwb25zZTogewogICAgICAgIGFjdGlvbjogJ2NvbnRpbnVlJywKICAgICAgfQogICAgfTsKCiAgICAvLyBVc2UgYSBjaHVua2VkIHNlbmRpbmcgdG8gYXZvaWQgbWVzc2FnZSBzaXplIGxpbWl0cy4gU2VlIGIvNjIxMTU2NjAuCiAgICBsZXQgcG9zaXRpb24gPSAwOwogICAgd2hpbGUgKHBvc2l0aW9uIDwgZmlsZURhdGEuYnl0ZUxlbmd0aCkgewogICAgICBjb25zdCBsZW5ndGggPSBNYXRoLm1pbihmaWxlRGF0YS5ieXRlTGVuZ3RoIC0gcG9zaXRpb24sIE1BWF9QQVlMT0FEX1NJWkUpOwogICAgICBjb25zdCBjaHVuayA9IG5ldyBVaW50OEFycmF5KGZpbGVEYXRhLCBwb3NpdGlvbiwgbGVuZ3RoKTsKICAgICAgcG9zaXRpb24gKz0gbGVuZ3RoOwoKICAgICAgY29uc3QgYmFzZTY0ID0gYnRvYShTdHJpbmcuZnJvbUNoYXJDb2RlLmFwcGx5KG51bGwsIGNodW5rKSk7CiAgICAgIHlpZWxkIHsKICAgICAgICByZXNwb25zZTogewogICAgICAgICAgYWN0aW9uOiAnYXBwZW5kJywKICAgICAgICAgIGZpbGU6IGZpbGUubmFtZSwKICAgICAgICAgIGRhdGE6IGJhc2U2NCwKICAgICAgICB9LAogICAgICB9OwogICAgICBwZXJjZW50LnRleHRDb250ZW50ID0KICAgICAgICAgIGAke01hdGgucm91bmQoKHBvc2l0aW9uIC8gZmlsZURhdGEuYnl0ZUxlbmd0aCkgKiAxMDApfSUgZG9uZWA7CiAgICB9CiAgfQoKICAvLyBBbGwgZG9uZS4KICB5aWVsZCB7CiAgICByZXNwb25zZTogewogICAgICBhY3Rpb246ICdjb21wbGV0ZScsCiAgICB9CiAgfTsKfQoKc2NvcGUuZ29vZ2xlID0gc2NvcGUuZ29vZ2xlIHx8IHt9OwpzY29wZS5nb29nbGUuY29sYWIgPSBzY29wZS5nb29nbGUuY29sYWIgfHwge307CnNjb3BlLmdvb2dsZS5jb2xhYi5fZmlsZXMgPSB7CiAgX3VwbG9hZEZpbGVzLAogIF91cGxvYWRGaWxlc0NvbnRpbnVlLAp9Owp9KShzZWxmKTsK",
              "ok": true,
              "headers": [
                [
                  "content-type",
                  "application/javascript"
                ]
              ],
              "status": 200,
              "status_text": ""
            }
          },
          "base_uri": "https://localhost:8080/",
          "height": 89
        },
        "id": "6RA94CkNG1hK",
        "outputId": "15e7ab4d-56b7-40f1-b258-f24def969370"
      },
      "source": [
        "uploaded = files.upload()\n",
        "\n",
        "for fn in uploaded.keys():\n",
        "  print('User uploaded file \"{name}\" with length {length} bytes'.format(\n",
        "      name=fn, length=len(uploaded[fn])))"
      ],
      "execution_count": 281,
      "outputs": [
        {
          "output_type": "display_data",
          "data": {
            "text/html": [
              "\n",
              "     <input type=\"file\" id=\"files-9b7f77fc-7141-43c2-90db-a8ab8100a4fd\" name=\"files[]\" multiple disabled\n",
              "        style=\"border:none\" />\n",
              "     <output id=\"result-9b7f77fc-7141-43c2-90db-a8ab8100a4fd\">\n",
              "      Upload widget is only available when the cell has been executed in the\n",
              "      current browser session. Please rerun this cell to enable.\n",
              "      </output>\n",
              "      <script src=\"/nbextensions/google.colab/files.js\"></script> "
            ],
            "text/plain": [
              "<IPython.core.display.HTML object>"
            ]
          },
          "metadata": {
            "tags": []
          }
        },
        {
          "output_type": "stream",
          "text": [
            "Saving dataset_163_4-14.txt to dataset_163_4-14.txt\n",
            "User uploaded file \"dataset_163_4-14.txt\" with length 6491 bytes\n"
          ],
          "name": "stdout"
        }
      ]
    },
    {
      "cell_type": "code",
      "metadata": {
        "id": "Vx5-eWg3G_tq"
      },
      "source": [
        "with open(fn) as f:\n",
        "  ktN = f.readline().split('\\n')[0].split(' ')\n",
        "  k = int(ktN[0])\n",
        "  t = int(ktN[1])\n",
        "  N = int(ktN[2])\n",
        "  Dna = f.readlines()\n",
        "\n",
        "Dna = [line.split('\\n')[0] for line in Dna]"
      ],
      "execution_count": 282,
      "outputs": []
    },
    {
      "cell_type": "code",
      "metadata": {
        "colab": {
          "base_uri": "https://localhost:8080/"
        },
        "id": "k2o0sbSFHHET",
        "outputId": "65880cb8-bc83-4bec-c252-73ccbd0b29f3"
      },
      "source": [
        "candidate, score = XtimesGibbsSampler(Dna, k, N, x=40)\n",
        "candidate, score"
      ],
      "execution_count": 283,
      "outputs": [
        {
          "output_type": "execute_result",
          "data": {
            "text/plain": [
              "(['TATAAACTGTCTAGA',\n",
              "  'TATGGCCTGTCATTA',\n",
              "  'TATATTTGGTCATTA',\n",
              "  'TACCCACTGTCATTA',\n",
              "  'TATACTGTGTCATTA',\n",
              "  'TATATACTGTGTCTA',\n",
              "  'TTTCGCCCGTCTCTA',\n",
              "  'AATATACTGTCATAT',\n",
              "  'TATAATTTGTCATTA',\n",
              "  'TATATTTGGTCATTA',\n",
              "  'TGGTTACTGTCATTA',\n",
              "  'TATATACTGTCAACC',\n",
              "  'TATATACTGTCCCCA',\n",
              "  'TATATACTGGTGTTA',\n",
              "  'TATCGCCTGTCATTA',\n",
              "  'TATATATCTTCATTA',\n",
              "  'TATATACACCCATTA',\n",
              "  'GCCATACTGTCATTA',\n",
              "  'TATATACTAATATTA',\n",
              "  'TATATAAGATCATTA'],\n",
              " 19.995208385115152)"
            ]
          },
          "metadata": {
            "tags": []
          },
          "execution_count": 283
        }
      ]
    }
  ]
}